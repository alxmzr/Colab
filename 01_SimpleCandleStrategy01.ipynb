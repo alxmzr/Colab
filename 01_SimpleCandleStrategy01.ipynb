{
  "cells": [
    {
      "cell_type": "markdown",
      "metadata": {
        "id": "view-in-github",
        "colab_type": "text"
      },
      "source": [
        "<a href=\"https://colab.research.google.com/github/alxmzr/Colab/blob/main/01_SimpleCandleStrategy01.ipynb\" target=\"_parent\"><img src=\"https://colab.research.google.com/assets/colab-badge.svg\" alt=\"Open In Colab\"/></a>"
      ]
    },
    {
      "cell_type": "markdown",
      "metadata": {
        "id": "56hYStuMeqW2"
      },
      "source": [
        "### 1 - Import test data"
      ]
    },
    {
      "cell_type": "code",
      "source": [
        "!pip install pandas-ta"
      ],
      "metadata": {
        "colab": {
          "base_uri": "https://localhost:8080/"
        },
        "id": "CGY6tjvOgB7O",
        "outputId": "f1e998af-96f9-4b08-e5ad-27f56310cb06"
      },
      "execution_count": null,
      "outputs": [
        {
          "output_type": "stream",
          "name": "stdout",
          "text": [
            "Requirement already satisfied: pandas-ta in /usr/local/lib/python3.10/dist-packages (0.3.14b0)\n",
            "Requirement already satisfied: pandas in /usr/local/lib/python3.10/dist-packages (from pandas-ta) (2.2.2)\n",
            "Requirement already satisfied: numpy>=1.22.4 in /usr/local/lib/python3.10/dist-packages (from pandas->pandas-ta) (1.26.4)\n",
            "Requirement already satisfied: python-dateutil>=2.8.2 in /usr/local/lib/python3.10/dist-packages (from pandas->pandas-ta) (2.8.2)\n",
            "Requirement already satisfied: pytz>=2020.1 in /usr/local/lib/python3.10/dist-packages (from pandas->pandas-ta) (2024.2)\n",
            "Requirement already satisfied: tzdata>=2022.7 in /usr/local/lib/python3.10/dist-packages (from pandas->pandas-ta) (2024.2)\n",
            "Requirement already satisfied: six>=1.5 in /usr/local/lib/python3.10/dist-packages (from python-dateutil>=2.8.2->pandas->pandas-ta) (1.16.0)\n"
          ]
        }
      ]
    },
    {
      "cell_type": "code",
      "execution_count": null,
      "metadata": {
        "id": "9vHF2OKIeqbk"
      },
      "outputs": [],
      "source": [
        "import pandas as pd\n",
        "import pandas_ta as ta\n",
        "from tqdm import tqdm\n",
        "import os\n",
        "import numpy as np\n",
        "import plotly.graph_objects as go\n",
        "from plotly.subplots import make_subplots\n",
        "\n",
        "tqdm.pandas()\n",
        "\n",
        "def read_csv_to_dataframe(file_path):\n",
        "    df = pd.read_csv(file_path)\n",
        "    df[\"Gmt time\"] = df[\"Gmt time\"].str.replace(\".000\", \"\")\n",
        "    df['Gmt time'] = pd.to_datetime(df['Gmt time'], format='%d.%m.%Y %H:%M:%S')\n",
        "    df = df[df.High != df.Low]\n",
        "    df.set_index(\"Gmt time\", inplace=True)\n",
        "    return df\n",
        "\n",
        "def read_data_folder(folder_path=\"./\"):\n",
        "    dataframes = []\n",
        "    file_names = []\n",
        "    for file_name in tqdm(os.listdir(folder_path)):\n",
        "        if file_name.endswith('.csv'):\n",
        "            file_path = os.path.join(folder_path, file_name)\n",
        "            df = read_csv_to_dataframe(file_path)\n",
        "            dataframes.append(df)\n",
        "            file_names.append(file_name)\n",
        "    return dataframes, file_names\n",
        "\n",
        "def total_signal(df, current_candle):\n",
        "    current_pos = df.index.get_loc(current_candle)\n",
        "    c0 = df['Open'].iloc[current_pos] > df['Close'].iloc[current_pos]\n",
        "    # Condition 1: The high is greater than the high of the previous day\n",
        "    c1 = df['High'].iloc[current_pos] > df['High'].iloc[current_pos - 1]\n",
        "    # Condition 2: The low is less than the low of the previous day\n",
        "    c2 = df['Low'].iloc[current_pos] < df['Low'].iloc[current_pos - 1]\n",
        "    # Condition 3: The close of the Outside Bar is less than the low of the previous day\n",
        "    c3 = df['Close'].iloc[current_pos] < df['Low'].iloc[current_pos - 1]\n",
        "\n",
        "    if c0 and c1 and c2 and c3:\n",
        "        return 2  # Signal for entering a Long trade at the open of the next bar\n",
        "\n",
        "    c0 = df['Open'].iloc[current_pos] < df['Close'].iloc[current_pos]\n",
        "    # Condition 1: The high is greater than the high of the previous day\n",
        "    c1 = df['Low'].iloc[current_pos] < df['Low'].iloc[current_pos - 1]\n",
        "    # Condition 2: The low is less than the low of the previous day\n",
        "    c2 = df['High'].iloc[current_pos] > df['High'].iloc[current_pos - 1]\n",
        "    # Condition 3: The close of the Outside Bar is less than the low of the previous day\n",
        "    c3 = df['Close'].iloc[current_pos] > df['High'].iloc[current_pos - 1]\n",
        "\n",
        "    if c0 and c1 and c2 and c3:\n",
        "        return 1\n",
        "\n",
        "    return 0\n",
        "\n",
        "def add_total_signal(df):\n",
        "    df['TotalSignal'] = df.progress_apply(lambda row: total_signal(df, row.name), axis=1)#.shift(1)\n",
        "    return df\n",
        "\n",
        "def add_pointpos_column(df, signal_column):\n",
        "    \"\"\"\n",
        "    Adds a 'pointpos' column to the DataFrame to indicate the position of support and resistance points.\n",
        "\n",
        "    Parameters:\n",
        "    df (DataFrame): DataFrame containing the stock data with the specified SR column, 'Low', and 'High' columns.\n",
        "    sr_column (str): The name of the column to consider for the SR (support/resistance) points.\n",
        "\n",
        "    Returns:\n",
        "    DataFrame: The original DataFrame with an additional 'pointpos' column.\n",
        "    \"\"\"\n",
        "    def pointpos(row):\n",
        "        if row[signal_column] == 2:\n",
        "            return row['Low'] - 1e-4\n",
        "        elif row[signal_column] == 1:\n",
        "            return row['High'] + 1e-4\n",
        "        else:\n",
        "            return np.nan\n",
        "\n",
        "    df['pointpos'] = df.apply(lambda row: pointpos(row), axis=1)\n",
        "    return df\n",
        "\n",
        "def plot_candlestick_with_signals(df, start_index, num_rows):\n",
        "    \"\"\"\n",
        "    Plots a candlestick chart with signal points.\n",
        "\n",
        "    Parameters:\n",
        "    df (DataFrame): DataFrame containing the stock data with 'Open', 'High', 'Low', 'Close', and 'pointpos' columns.\n",
        "    start_index (int): The starting index for the subset of data to plot.\n",
        "    num_rows (int): The number of rows of data to plot.\n",
        "\n",
        "    Returns:\n",
        "    None\n",
        "    \"\"\"\n",
        "    df_subset = df[start_index:start_index + num_rows]\n",
        "\n",
        "    fig = make_subplots(rows=1, cols=1)\n",
        "\n",
        "    fig.add_trace(go.Candlestick(x=df_subset.index,\n",
        "                                 open=df_subset['Open'],\n",
        "                                 high=df_subset['High'],\n",
        "                                 low=df_subset['Low'],\n",
        "                                 close=df_subset['Close'],\n",
        "                                 name='Candlesticks'),\n",
        "                  row=1, col=1)\n",
        "\n",
        "    fig.add_trace(go.Scatter(x=df_subset.index, y=df_subset['pointpos'], mode=\"markers\",\n",
        "                             marker=dict(size=10, color=\"MediumPurple\", symbol='circle'),\n",
        "                             name=\"Entry Points\"),\n",
        "                  row=1, col=1)\n",
        "\n",
        "    fig.update_layout(\n",
        "        width=1200,\n",
        "        height=800,\n",
        "        plot_bgcolor='black',\n",
        "        paper_bgcolor='black',\n",
        "        font=dict(color='white'),\n",
        "        xaxis=dict(showgrid=False, zeroline=False),\n",
        "        yaxis=dict(showgrid=False, zeroline=False),\n",
        "        showlegend=True,\n",
        "        legend=dict(\n",
        "            x=0.01,\n",
        "            y=0.99,\n",
        "            traceorder=\"normal\",\n",
        "            font=dict(\n",
        "                family=\"sans-serif\",\n",
        "                size=12,\n",
        "                color=\"white\"\n",
        "            ),\n",
        "            bgcolor=\"black\",\n",
        "            bordercolor=\"gray\",\n",
        "            borderwidth=2\n",
        "        )\n",
        "    )\n",
        "\n",
        "    fig.show()"
      ]
    },
    {
      "cell_type": "code",
      "execution_count": null,
      "metadata": {
        "id": "nH1dwSpAeqbz",
        "colab": {
          "base_uri": "https://localhost:8080/"
        },
        "outputId": "f770d3b3-1c32-4acf-e651-6475c7231c86"
      },
      "outputs": [
        {
          "output_type": "stream",
          "name": "stderr",
          "text": [
            "100%|██████████| 5/5 [00:00<00:00, 134.96it/s]\n"
          ]
        }
      ],
      "source": [
        "ldf, names = read_data_folder()"
      ]
    },
    {
      "cell_type": "code",
      "source": [
        "from google.colab import drive\n",
        "drive.mount('/content/drive')"
      ],
      "metadata": {
        "colab": {
          "base_uri": "https://localhost:8080/"
        },
        "id": "d1p1BOwYgUdT",
        "outputId": "01a61214-c08f-43d9-9d27-685a9777d5f4"
      },
      "execution_count": null,
      "outputs": [
        {
          "output_type": "stream",
          "name": "stdout",
          "text": [
            "Drive already mounted at /content/drive; to attempt to forcibly remount, call drive.mount(\"/content/drive\", force_remount=True).\n"
          ]
        }
      ]
    },
    {
      "cell_type": "code",
      "execution_count": null,
      "metadata": {
        "id": "hEXYlvW_eqb5"
      },
      "outputs": [],
      "source": [
        "# names"
      ]
    },
    {
      "cell_type": "code",
      "execution_count": null,
      "metadata": {
        "id": "4DThjYsReqcE",
        "colab": {
          "base_uri": "https://localhost:8080/"
        },
        "outputId": "0a5dccff-0d3d-49d1-f2f3-dc88d86276df"
      },
      "outputs": [
        {
          "output_type": "stream",
          "name": "stderr",
          "text": [
            "100%|██████████| 5/5 [00:00<00:00, 38.15it/s]\n"
          ]
        },
        {
          "output_type": "stream",
          "name": "stdout",
          "text": [
            "working on dataframe  0 ...\n"
          ]
        },
        {
          "output_type": "stream",
          "name": "stderr",
          "text": [
            "100%|██████████| 2196/2196 [00:00<00:00, 3173.09it/s]\n"
          ]
        },
        {
          "output_type": "stream",
          "name": "stdout",
          "text": [
            "working on dataframe  1 ...\n"
          ]
        },
        {
          "output_type": "stream",
          "name": "stderr",
          "text": [
            "100%|██████████| 2197/2197 [00:00<00:00, 4645.33it/s]\n"
          ]
        }
      ],
      "source": [
        "folder_path = \"./\"\n",
        "dataframes, file_names = read_data_folder(folder_path)\n",
        "\n",
        "for i, df in enumerate(dataframes):\n",
        "    print(\"working on dataframe \", i, \"...\")\n",
        "    df = add_total_signal(df)\n",
        "    df = add_pointpos_column(df, \"TotalSignal\")\n",
        "    dataframes[i] = df  # Update the dataframe in the list\n"
      ]
    },
    {
      "cell_type": "code",
      "execution_count": null,
      "metadata": {
        "id": "OqNBNKxseqcF",
        "colab": {
          "base_uri": "https://localhost:8080/",
          "height": 209
        },
        "outputId": "a6200a1e-51b6-4696-d8bd-3d5869de708d"
      },
      "outputs": [
        {
          "output_type": "execute_result",
          "data": {
            "text/plain": [
              "TotalSignal\n",
              "0    3766\n",
              "1     315\n",
              "2     312\n",
              "Name: count, dtype: int64"
            ],
            "text/html": [
              "<div>\n",
              "<style scoped>\n",
              "    .dataframe tbody tr th:only-of-type {\n",
              "        vertical-align: middle;\n",
              "    }\n",
              "\n",
              "    .dataframe tbody tr th {\n",
              "        vertical-align: top;\n",
              "    }\n",
              "\n",
              "    .dataframe thead th {\n",
              "        text-align: right;\n",
              "    }\n",
              "</style>\n",
              "<table border=\"1\" class=\"dataframe\">\n",
              "  <thead>\n",
              "    <tr style=\"text-align: right;\">\n",
              "      <th></th>\n",
              "      <th>count</th>\n",
              "    </tr>\n",
              "    <tr>\n",
              "      <th>TotalSignal</th>\n",
              "      <th></th>\n",
              "    </tr>\n",
              "  </thead>\n",
              "  <tbody>\n",
              "    <tr>\n",
              "      <th>0</th>\n",
              "      <td>3766</td>\n",
              "    </tr>\n",
              "    <tr>\n",
              "      <th>1</th>\n",
              "      <td>315</td>\n",
              "    </tr>\n",
              "    <tr>\n",
              "      <th>2</th>\n",
              "      <td>312</td>\n",
              "    </tr>\n",
              "  </tbody>\n",
              "</table>\n",
              "</div><br><label><b>dtype:</b> int64</label>"
            ]
          },
          "metadata": {},
          "execution_count": 34
        }
      ],
      "source": [
        "sum([frame[\"TotalSignal\"].value_counts() for frame in dataframes], start=0)\n"
      ]
    },
    {
      "cell_type": "code",
      "execution_count": null,
      "metadata": {
        "id": "N3AuPZ7-eqeh",
        "colab": {
          "base_uri": "https://localhost:8080/",
          "height": 817
        },
        "outputId": "f9ebc55f-15c3-4d6c-adc6-00228719fb25"
      },
      "outputs": [
        {
          "output_type": "display_data",
          "data": {
            "text/html": [
              "<html>\n",
              "<head><meta charset=\"utf-8\" /></head>\n",
              "<body>\n",
              "    <div>            <script src=\"https://cdnjs.cloudflare.com/ajax/libs/mathjax/2.7.5/MathJax.js?config=TeX-AMS-MML_SVG\"></script><script type=\"text/javascript\">if (window.MathJax && window.MathJax.Hub && window.MathJax.Hub.Config) {window.MathJax.Hub.Config({SVG: {font: \"STIX-Web\"}});}</script>                <script type=\"text/javascript\">window.PlotlyConfig = {MathJaxConfig: 'local'};</script>\n",
              "        <script charset=\"utf-8\" src=\"https://cdn.plot.ly/plotly-2.35.2.min.js\"></script>                <div id=\"8a3dafb0-89cd-4a59-8444-b7a50f2c924e\" class=\"plotly-graph-div\" style=\"height:800px; width:1200px;\"></div>            <script type=\"text/javascript\">                                    window.PLOTLYENV=window.PLOTLYENV || {};                                    if (document.getElementById(\"8a3dafb0-89cd-4a59-8444-b7a50f2c924e\")) {                    Plotly.newPlot(                        \"8a3dafb0-89cd-4a59-8444-b7a50f2c924e\",                        [{\"close\":[1.33695,1.33823,1.32946,1.33077,1.33118,1.32535,1.32838,1.32887,1.33449,1.33528,1.33155,1.34061,1.34195,1.34154,1.34081,1.3413,1.33711,1.33734,1.33811,1.32543,1.32763,1.32755,1.32577,1.31728,1.31718,1.32446,1.32593,1.32611,1.32771,1.32201,1.31193,1.30745,1.3204,1.32075,1.31419,1.31938,1.32275,1.32217,1.32844,1.32946,1.32536,1.3258,1.32059,1.31783,1.32323,1.32267,1.32362,1.31047,1.30772,1.30227,1.31287,1.31456,1.31031,1.3149,1.31988,1.31083,1.30967,1.31098,1.31355,1.31185,1.31242,1.30158,1.30011,1.30014,1.29433,1.29452,1.28771,1.28283,1.27663,1.27595,1.27588,1.27175,1.26923,1.2712,1.27466,1.2746,1.28039,1.29049,1.29052,1.28091,1.28452,1.28578,1.2897,1.2869,1.30352,1.30109,1.29528,1.29213,1.28679,1.28574,1.2914,1.29244,1.29137,1.29287,1.30267,1.30157,1.30439,1.31103,1.30664,1.30707],\"high\":[1.34422,1.34216,1.33837,1.33201,1.33408,1.3325,1.33069,1.33478,1.33617,1.33542,1.33985,1.34155,1.34429,1.34722,1.3439,1.3414,1.34413,1.34243,1.3389,1.34463,1.32978,1.3279,1.32757,1.32726,1.3217,1.32698,1.33146,1.32711,1.32904,1.32918,1.32336,1.31199,1.32136,1.32082,1.32073,1.32064,1.32495,1.32748,1.32898,1.33186,1.33625,1.33008,1.32852,1.32448,1.32383,1.32318,1.32928,1.32687,1.31169,1.30831,1.31401,1.31478,1.3158,1.31591,1.32013,1.32132,1.3131,1.31192,1.31521,1.31726,1.3144,1.3126,1.30429,1.30074,1.30049,1.29736,1.29597,1.29117,1.28366,1.27794,1.27913,1.28271,1.27352,1.27539,1.27524,1.27504,1.28044,1.29242,1.29362,1.29093,1.2881,1.28648,1.29009,1.29317,1.30361,1.30433,1.30287,1.29309,1.29336,1.28708,1.29822,1.29622,1.30278,1.29292,1.30514,1.30869,1.30821,1.31233,1.31435,1.30761],\"low\":[1.3305,1.33497,1.32928,1.33023,1.32961,1.32044,1.32418,1.32771,1.32538,1.33306,1.32947,1.33019,1.33968,1.33714,1.33544,1.34047,1.33444,1.33418,1.33079,1.32532,1.3211,1.32557,1.32257,1.31507,1.31458,1.31018,1.32444,1.32332,1.32212,1.31922,1.31063,1.30495,1.30686,1.31825,1.3095,1.31145,1.31705,1.32036,1.32031,1.32855,1.31889,1.3223,1.31994,1.31695,1.31025,1.3224,1.32167,1.30689,1.301,1.29574,1.29948,1.31183,1.30821,1.30714,1.31328,1.31017,1.30822,1.30988,1.3097,1.30894,1.30951,1.30112,1.29753,1.29948,1.29198,1.29237,1.28535,1.28182,1.27228,1.27421,1.27299,1.27046,1.26617,1.26858,1.26978,1.27395,1.27293,1.27986,1.28685,1.28026,1.27992,1.28348,1.28287,1.28615,1.28451,1.29849,1.29449,1.29095,1.28547,1.281,1.27851,1.2896,1.29081,1.29155,1.28967,1.29641,1.29791,1.30261,1.30565,1.30672],\"name\":\"Candlesticks\",\"open\":[1.34407,1.33695,1.33823,1.33138,1.33077,1.3312,1.32535,1.32838,1.32888,1.3331,1.33528,1.33155,1.34062,1.34195,1.3416,1.34058,1.3413,1.33711,1.33734,1.33811,1.32541,1.32557,1.32756,1.32579,1.31728,1.31718,1.32445,1.3249,1.32615,1.32774,1.322,1.31191,1.30743,1.31825,1.32073,1.31417,1.31937,1.32275,1.32215,1.33179,1.32947,1.32535,1.3258,1.32059,1.31785,1.32272,1.32266,1.3236,1.31049,1.30772,1.30225,1.31229,1.31453,1.31029,1.31488,1.31989,1.31083,1.30989,1.31098,1.31355,1.31182,1.31242,1.30161,1.29948,1.30017,1.29431,1.29452,1.28772,1.28283,1.27421,1.27596,1.27586,1.27175,1.26924,1.27122,1.2742,1.2746,1.28039,1.29051,1.29052,1.2809,1.28365,1.28578,1.2897,1.2869,1.30354,1.30109,1.29095,1.29212,1.28679,1.28577,1.29139,1.29244,1.29179,1.29287,1.30267,1.30154,1.30439,1.311,1.30683],\"x\":[\"2018-05-23T00:00:00\",\"2018-05-24T00:00:00\",\"2018-05-25T00:00:00\",\"2018-05-27T00:00:00\",\"2018-05-28T00:00:00\",\"2018-05-29T00:00:00\",\"2018-05-30T00:00:00\",\"2018-05-31T00:00:00\",\"2018-06-01T00:00:00\",\"2018-06-03T00:00:00\",\"2018-06-04T00:00:00\",\"2018-06-05T00:00:00\",\"2018-06-06T00:00:00\",\"2018-06-07T00:00:00\",\"2018-06-08T00:00:00\",\"2018-06-10T00:00:00\",\"2018-06-11T00:00:00\",\"2018-06-12T00:00:00\",\"2018-06-13T00:00:00\",\"2018-06-14T00:00:00\",\"2018-06-15T00:00:00\",\"2018-06-17T00:00:00\",\"2018-06-18T00:00:00\",\"2018-06-19T00:00:00\",\"2018-06-20T00:00:00\",\"2018-06-21T00:00:00\",\"2018-06-22T00:00:00\",\"2018-06-24T00:00:00\",\"2018-06-25T00:00:00\",\"2018-06-26T00:00:00\",\"2018-06-27T00:00:00\",\"2018-06-28T00:00:00\",\"2018-06-29T00:00:00\",\"2018-07-01T00:00:00\",\"2018-07-02T00:00:00\",\"2018-07-03T00:00:00\",\"2018-07-04T00:00:00\",\"2018-07-05T00:00:00\",\"2018-07-06T00:00:00\",\"2018-07-08T00:00:00\",\"2018-07-09T00:00:00\",\"2018-07-10T00:00:00\",\"2018-07-11T00:00:00\",\"2018-07-12T00:00:00\",\"2018-07-13T00:00:00\",\"2018-07-15T00:00:00\",\"2018-07-16T00:00:00\",\"2018-07-17T00:00:00\",\"2018-07-18T00:00:00\",\"2018-07-19T00:00:00\",\"2018-07-20T00:00:00\",\"2018-07-22T00:00:00\",\"2018-07-23T00:00:00\",\"2018-07-24T00:00:00\",\"2018-07-25T00:00:00\",\"2018-07-26T00:00:00\",\"2018-07-27T00:00:00\",\"2018-07-29T00:00:00\",\"2018-07-30T00:00:00\",\"2018-07-31T00:00:00\",\"2018-08-01T00:00:00\",\"2018-08-02T00:00:00\",\"2018-08-03T00:00:00\",\"2018-08-05T00:00:00\",\"2018-08-06T00:00:00\",\"2018-08-07T00:00:00\",\"2018-08-08T00:00:00\",\"2018-08-09T00:00:00\",\"2018-08-10T00:00:00\",\"2018-08-12T00:00:00\",\"2018-08-13T00:00:00\",\"2018-08-14T00:00:00\",\"2018-08-15T00:00:00\",\"2018-08-16T00:00:00\",\"2018-08-17T00:00:00\",\"2018-08-19T00:00:00\",\"2018-08-20T00:00:00\",\"2018-08-21T00:00:00\",\"2018-08-22T00:00:00\",\"2018-08-23T00:00:00\",\"2018-08-24T00:00:00\",\"2018-08-26T00:00:00\",\"2018-08-27T00:00:00\",\"2018-08-28T00:00:00\",\"2018-08-29T00:00:00\",\"2018-08-30T00:00:00\",\"2018-08-31T00:00:00\",\"2018-09-02T00:00:00\",\"2018-09-03T00:00:00\",\"2018-09-04T00:00:00\",\"2018-09-05T00:00:00\",\"2018-09-06T00:00:00\",\"2018-09-07T00:00:00\",\"2018-09-09T00:00:00\",\"2018-09-10T00:00:00\",\"2018-09-11T00:00:00\",\"2018-09-12T00:00:00\",\"2018-09-13T00:00:00\",\"2018-09-14T00:00:00\",\"2018-09-16T00:00:00\"],\"type\":\"candlestick\",\"xaxis\":\"x\",\"yaxis\":\"y\"},{\"marker\":{\"color\":\"MediumPurple\",\"size\":10,\"symbol\":\"circle\"},\"mode\":\"markers\",\"name\":\"Entry Points\",\"x\":[\"2018-05-23T00:00:00\",\"2018-05-24T00:00:00\",\"2018-05-25T00:00:00\",\"2018-05-27T00:00:00\",\"2018-05-28T00:00:00\",\"2018-05-29T00:00:00\",\"2018-05-30T00:00:00\",\"2018-05-31T00:00:00\",\"2018-06-01T00:00:00\",\"2018-06-03T00:00:00\",\"2018-06-04T00:00:00\",\"2018-06-05T00:00:00\",\"2018-06-06T00:00:00\",\"2018-06-07T00:00:00\",\"2018-06-08T00:00:00\",\"2018-06-10T00:00:00\",\"2018-06-11T00:00:00\",\"2018-06-12T00:00:00\",\"2018-06-13T00:00:00\",\"2018-06-14T00:00:00\",\"2018-06-15T00:00:00\",\"2018-06-17T00:00:00\",\"2018-06-18T00:00:00\",\"2018-06-19T00:00:00\",\"2018-06-20T00:00:00\",\"2018-06-21T00:00:00\",\"2018-06-22T00:00:00\",\"2018-06-24T00:00:00\",\"2018-06-25T00:00:00\",\"2018-06-26T00:00:00\",\"2018-06-27T00:00:00\",\"2018-06-28T00:00:00\",\"2018-06-29T00:00:00\",\"2018-07-01T00:00:00\",\"2018-07-02T00:00:00\",\"2018-07-03T00:00:00\",\"2018-07-04T00:00:00\",\"2018-07-05T00:00:00\",\"2018-07-06T00:00:00\",\"2018-07-08T00:00:00\",\"2018-07-09T00:00:00\",\"2018-07-10T00:00:00\",\"2018-07-11T00:00:00\",\"2018-07-12T00:00:00\",\"2018-07-13T00:00:00\",\"2018-07-15T00:00:00\",\"2018-07-16T00:00:00\",\"2018-07-17T00:00:00\",\"2018-07-18T00:00:00\",\"2018-07-19T00:00:00\",\"2018-07-20T00:00:00\",\"2018-07-22T00:00:00\",\"2018-07-23T00:00:00\",\"2018-07-24T00:00:00\",\"2018-07-25T00:00:00\",\"2018-07-26T00:00:00\",\"2018-07-27T00:00:00\",\"2018-07-29T00:00:00\",\"2018-07-30T00:00:00\",\"2018-07-31T00:00:00\",\"2018-08-01T00:00:00\",\"2018-08-02T00:00:00\",\"2018-08-03T00:00:00\",\"2018-08-05T00:00:00\",\"2018-08-06T00:00:00\",\"2018-08-07T00:00:00\",\"2018-08-08T00:00:00\",\"2018-08-09T00:00:00\",\"2018-08-10T00:00:00\",\"2018-08-12T00:00:00\",\"2018-08-13T00:00:00\",\"2018-08-14T00:00:00\",\"2018-08-15T00:00:00\",\"2018-08-16T00:00:00\",\"2018-08-17T00:00:00\",\"2018-08-19T00:00:00\",\"2018-08-20T00:00:00\",\"2018-08-21T00:00:00\",\"2018-08-22T00:00:00\",\"2018-08-23T00:00:00\",\"2018-08-24T00:00:00\",\"2018-08-26T00:00:00\",\"2018-08-27T00:00:00\",\"2018-08-28T00:00:00\",\"2018-08-29T00:00:00\",\"2018-08-30T00:00:00\",\"2018-08-31T00:00:00\",\"2018-09-02T00:00:00\",\"2018-09-03T00:00:00\",\"2018-09-04T00:00:00\",\"2018-09-05T00:00:00\",\"2018-09-06T00:00:00\",\"2018-09-07T00:00:00\",\"2018-09-09T00:00:00\",\"2018-09-10T00:00:00\",\"2018-09-11T00:00:00\",\"2018-09-12T00:00:00\",\"2018-09-13T00:00:00\",\"2018-09-14T00:00:00\",\"2018-09-16T00:00:00\"],\"y\":[null,null,null,null,null,null,null,null,null,null,1.32937,null,null,null,null,null,1.33434,null,null,1.32522,null,null,null,null,null,1.32708,null,null,1.32914,1.31912,null,null,null,null,null,null,null,null,1.32908,null,1.31879,null,null,null,null,null,1.32938,null,null,null,null,null,1.30811,null,null,1.31007,null,null,1.31531,null,null,null,null,null,null,null,null,null,null,null,null,1.27036,null,null,null,null,1.28054,null,null,null,null,null,1.29019,null,1.30371,null,null,null,1.28537,null,1.29832,null,null,null,1.30524,null,null,null,null,null],\"type\":\"scatter\",\"xaxis\":\"x\",\"yaxis\":\"y\"}],                        {\"template\":{\"data\":{\"histogram2dcontour\":[{\"type\":\"histogram2dcontour\",\"colorbar\":{\"outlinewidth\":0,\"ticks\":\"\"},\"colorscale\":[[0.0,\"#0d0887\"],[0.1111111111111111,\"#46039f\"],[0.2222222222222222,\"#7201a8\"],[0.3333333333333333,\"#9c179e\"],[0.4444444444444444,\"#bd3786\"],[0.5555555555555556,\"#d8576b\"],[0.6666666666666666,\"#ed7953\"],[0.7777777777777778,\"#fb9f3a\"],[0.8888888888888888,\"#fdca26\"],[1.0,\"#f0f921\"]]}],\"choropleth\":[{\"type\":\"choropleth\",\"colorbar\":{\"outlinewidth\":0,\"ticks\":\"\"}}],\"histogram2d\":[{\"type\":\"histogram2d\",\"colorbar\":{\"outlinewidth\":0,\"ticks\":\"\"},\"colorscale\":[[0.0,\"#0d0887\"],[0.1111111111111111,\"#46039f\"],[0.2222222222222222,\"#7201a8\"],[0.3333333333333333,\"#9c179e\"],[0.4444444444444444,\"#bd3786\"],[0.5555555555555556,\"#d8576b\"],[0.6666666666666666,\"#ed7953\"],[0.7777777777777778,\"#fb9f3a\"],[0.8888888888888888,\"#fdca26\"],[1.0,\"#f0f921\"]]}],\"heatmap\":[{\"type\":\"heatmap\",\"colorbar\":{\"outlinewidth\":0,\"ticks\":\"\"},\"colorscale\":[[0.0,\"#0d0887\"],[0.1111111111111111,\"#46039f\"],[0.2222222222222222,\"#7201a8\"],[0.3333333333333333,\"#9c179e\"],[0.4444444444444444,\"#bd3786\"],[0.5555555555555556,\"#d8576b\"],[0.6666666666666666,\"#ed7953\"],[0.7777777777777778,\"#fb9f3a\"],[0.8888888888888888,\"#fdca26\"],[1.0,\"#f0f921\"]]}],\"heatmapgl\":[{\"type\":\"heatmapgl\",\"colorbar\":{\"outlinewidth\":0,\"ticks\":\"\"},\"colorscale\":[[0.0,\"#0d0887\"],[0.1111111111111111,\"#46039f\"],[0.2222222222222222,\"#7201a8\"],[0.3333333333333333,\"#9c179e\"],[0.4444444444444444,\"#bd3786\"],[0.5555555555555556,\"#d8576b\"],[0.6666666666666666,\"#ed7953\"],[0.7777777777777778,\"#fb9f3a\"],[0.8888888888888888,\"#fdca26\"],[1.0,\"#f0f921\"]]}],\"contourcarpet\":[{\"type\":\"contourcarpet\",\"colorbar\":{\"outlinewidth\":0,\"ticks\":\"\"}}],\"contour\":[{\"type\":\"contour\",\"colorbar\":{\"outlinewidth\":0,\"ticks\":\"\"},\"colorscale\":[[0.0,\"#0d0887\"],[0.1111111111111111,\"#46039f\"],[0.2222222222222222,\"#7201a8\"],[0.3333333333333333,\"#9c179e\"],[0.4444444444444444,\"#bd3786\"],[0.5555555555555556,\"#d8576b\"],[0.6666666666666666,\"#ed7953\"],[0.7777777777777778,\"#fb9f3a\"],[0.8888888888888888,\"#fdca26\"],[1.0,\"#f0f921\"]]}],\"surface\":[{\"type\":\"surface\",\"colorbar\":{\"outlinewidth\":0,\"ticks\":\"\"},\"colorscale\":[[0.0,\"#0d0887\"],[0.1111111111111111,\"#46039f\"],[0.2222222222222222,\"#7201a8\"],[0.3333333333333333,\"#9c179e\"],[0.4444444444444444,\"#bd3786\"],[0.5555555555555556,\"#d8576b\"],[0.6666666666666666,\"#ed7953\"],[0.7777777777777778,\"#fb9f3a\"],[0.8888888888888888,\"#fdca26\"],[1.0,\"#f0f921\"]]}],\"mesh3d\":[{\"type\":\"mesh3d\",\"colorbar\":{\"outlinewidth\":0,\"ticks\":\"\"}}],\"scatter\":[{\"fillpattern\":{\"fillmode\":\"overlay\",\"size\":10,\"solidity\":0.2},\"type\":\"scatter\"}],\"parcoords\":[{\"type\":\"parcoords\",\"line\":{\"colorbar\":{\"outlinewidth\":0,\"ticks\":\"\"}}}],\"scatterpolargl\":[{\"type\":\"scatterpolargl\",\"marker\":{\"colorbar\":{\"outlinewidth\":0,\"ticks\":\"\"}}}],\"bar\":[{\"error_x\":{\"color\":\"#2a3f5f\"},\"error_y\":{\"color\":\"#2a3f5f\"},\"marker\":{\"line\":{\"color\":\"#E5ECF6\",\"width\":0.5},\"pattern\":{\"fillmode\":\"overlay\",\"size\":10,\"solidity\":0.2}},\"type\":\"bar\"}],\"scattergeo\":[{\"type\":\"scattergeo\",\"marker\":{\"colorbar\":{\"outlinewidth\":0,\"ticks\":\"\"}}}],\"scatterpolar\":[{\"type\":\"scatterpolar\",\"marker\":{\"colorbar\":{\"outlinewidth\":0,\"ticks\":\"\"}}}],\"histogram\":[{\"marker\":{\"pattern\":{\"fillmode\":\"overlay\",\"size\":10,\"solidity\":0.2}},\"type\":\"histogram\"}],\"scattergl\":[{\"type\":\"scattergl\",\"marker\":{\"colorbar\":{\"outlinewidth\":0,\"ticks\":\"\"}}}],\"scatter3d\":[{\"type\":\"scatter3d\",\"line\":{\"colorbar\":{\"outlinewidth\":0,\"ticks\":\"\"}},\"marker\":{\"colorbar\":{\"outlinewidth\":0,\"ticks\":\"\"}}}],\"scattermapbox\":[{\"type\":\"scattermapbox\",\"marker\":{\"colorbar\":{\"outlinewidth\":0,\"ticks\":\"\"}}}],\"scatterternary\":[{\"type\":\"scatterternary\",\"marker\":{\"colorbar\":{\"outlinewidth\":0,\"ticks\":\"\"}}}],\"scattercarpet\":[{\"type\":\"scattercarpet\",\"marker\":{\"colorbar\":{\"outlinewidth\":0,\"ticks\":\"\"}}}],\"carpet\":[{\"aaxis\":{\"endlinecolor\":\"#2a3f5f\",\"gridcolor\":\"white\",\"linecolor\":\"white\",\"minorgridcolor\":\"white\",\"startlinecolor\":\"#2a3f5f\"},\"baxis\":{\"endlinecolor\":\"#2a3f5f\",\"gridcolor\":\"white\",\"linecolor\":\"white\",\"minorgridcolor\":\"white\",\"startlinecolor\":\"#2a3f5f\"},\"type\":\"carpet\"}],\"table\":[{\"cells\":{\"fill\":{\"color\":\"#EBF0F8\"},\"line\":{\"color\":\"white\"}},\"header\":{\"fill\":{\"color\":\"#C8D4E3\"},\"line\":{\"color\":\"white\"}},\"type\":\"table\"}],\"barpolar\":[{\"marker\":{\"line\":{\"color\":\"#E5ECF6\",\"width\":0.5},\"pattern\":{\"fillmode\":\"overlay\",\"size\":10,\"solidity\":0.2}},\"type\":\"barpolar\"}],\"pie\":[{\"automargin\":true,\"type\":\"pie\"}]},\"layout\":{\"autotypenumbers\":\"strict\",\"colorway\":[\"#636efa\",\"#EF553B\",\"#00cc96\",\"#ab63fa\",\"#FFA15A\",\"#19d3f3\",\"#FF6692\",\"#B6E880\",\"#FF97FF\",\"#FECB52\"],\"font\":{\"color\":\"#2a3f5f\"},\"hovermode\":\"closest\",\"hoverlabel\":{\"align\":\"left\"},\"paper_bgcolor\":\"white\",\"plot_bgcolor\":\"#E5ECF6\",\"polar\":{\"bgcolor\":\"#E5ECF6\",\"angularaxis\":{\"gridcolor\":\"white\",\"linecolor\":\"white\",\"ticks\":\"\"},\"radialaxis\":{\"gridcolor\":\"white\",\"linecolor\":\"white\",\"ticks\":\"\"}},\"ternary\":{\"bgcolor\":\"#E5ECF6\",\"aaxis\":{\"gridcolor\":\"white\",\"linecolor\":\"white\",\"ticks\":\"\"},\"baxis\":{\"gridcolor\":\"white\",\"linecolor\":\"white\",\"ticks\":\"\"},\"caxis\":{\"gridcolor\":\"white\",\"linecolor\":\"white\",\"ticks\":\"\"}},\"coloraxis\":{\"colorbar\":{\"outlinewidth\":0,\"ticks\":\"\"}},\"colorscale\":{\"sequential\":[[0.0,\"#0d0887\"],[0.1111111111111111,\"#46039f\"],[0.2222222222222222,\"#7201a8\"],[0.3333333333333333,\"#9c179e\"],[0.4444444444444444,\"#bd3786\"],[0.5555555555555556,\"#d8576b\"],[0.6666666666666666,\"#ed7953\"],[0.7777777777777778,\"#fb9f3a\"],[0.8888888888888888,\"#fdca26\"],[1.0,\"#f0f921\"]],\"sequentialminus\":[[0.0,\"#0d0887\"],[0.1111111111111111,\"#46039f\"],[0.2222222222222222,\"#7201a8\"],[0.3333333333333333,\"#9c179e\"],[0.4444444444444444,\"#bd3786\"],[0.5555555555555556,\"#d8576b\"],[0.6666666666666666,\"#ed7953\"],[0.7777777777777778,\"#fb9f3a\"],[0.8888888888888888,\"#fdca26\"],[1.0,\"#f0f921\"]],\"diverging\":[[0,\"#8e0152\"],[0.1,\"#c51b7d\"],[0.2,\"#de77ae\"],[0.3,\"#f1b6da\"],[0.4,\"#fde0ef\"],[0.5,\"#f7f7f7\"],[0.6,\"#e6f5d0\"],[0.7,\"#b8e186\"],[0.8,\"#7fbc41\"],[0.9,\"#4d9221\"],[1,\"#276419\"]]},\"xaxis\":{\"gridcolor\":\"white\",\"linecolor\":\"white\",\"ticks\":\"\",\"title\":{\"standoff\":15},\"zerolinecolor\":\"white\",\"automargin\":true,\"zerolinewidth\":2},\"yaxis\":{\"gridcolor\":\"white\",\"linecolor\":\"white\",\"ticks\":\"\",\"title\":{\"standoff\":15},\"zerolinecolor\":\"white\",\"automargin\":true,\"zerolinewidth\":2},\"scene\":{\"xaxis\":{\"backgroundcolor\":\"#E5ECF6\",\"gridcolor\":\"white\",\"linecolor\":\"white\",\"showbackground\":true,\"ticks\":\"\",\"zerolinecolor\":\"white\",\"gridwidth\":2},\"yaxis\":{\"backgroundcolor\":\"#E5ECF6\",\"gridcolor\":\"white\",\"linecolor\":\"white\",\"showbackground\":true,\"ticks\":\"\",\"zerolinecolor\":\"white\",\"gridwidth\":2},\"zaxis\":{\"backgroundcolor\":\"#E5ECF6\",\"gridcolor\":\"white\",\"linecolor\":\"white\",\"showbackground\":true,\"ticks\":\"\",\"zerolinecolor\":\"white\",\"gridwidth\":2}},\"shapedefaults\":{\"line\":{\"color\":\"#2a3f5f\"}},\"annotationdefaults\":{\"arrowcolor\":\"#2a3f5f\",\"arrowhead\":0,\"arrowwidth\":1},\"geo\":{\"bgcolor\":\"white\",\"landcolor\":\"#E5ECF6\",\"subunitcolor\":\"white\",\"showland\":true,\"showlakes\":true,\"lakecolor\":\"white\"},\"title\":{\"x\":0.05},\"mapbox\":{\"style\":\"light\"}}},\"xaxis\":{\"anchor\":\"y\",\"domain\":[0.0,1.0],\"showgrid\":false,\"zeroline\":false},\"yaxis\":{\"anchor\":\"x\",\"domain\":[0.0,1.0],\"showgrid\":false,\"zeroline\":false},\"font\":{\"color\":\"white\"},\"legend\":{\"font\":{\"family\":\"sans-serif\",\"size\":12,\"color\":\"white\"},\"x\":0.01,\"y\":0.99,\"traceorder\":\"normal\",\"bgcolor\":\"black\",\"bordercolor\":\"gray\",\"borderwidth\":2},\"width\":1200,\"height\":800,\"plot_bgcolor\":\"black\",\"paper_bgcolor\":\"black\",\"showlegend\":true},                        {\"responsive\": true}                    ).then(function(){\n",
              "                            \n",
              "var gd = document.getElementById('8a3dafb0-89cd-4a59-8444-b7a50f2c924e');\n",
              "var x = new MutationObserver(function (mutations, observer) {{\n",
              "        var display = window.getComputedStyle(gd).display;\n",
              "        if (!display || display === 'none') {{\n",
              "            console.log([gd, 'removed!']);\n",
              "            Plotly.purge(gd);\n",
              "            observer.disconnect();\n",
              "        }}\n",
              "}});\n",
              "\n",
              "// Listen for the removal of the full notebook cells\n",
              "var notebookContainer = gd.closest('#notebook-container');\n",
              "if (notebookContainer) {{\n",
              "    x.observe(notebookContainer, {childList: true});\n",
              "}}\n",
              "\n",
              "// Listen for the clearing of the current output cell\n",
              "var outputEl = gd.closest('.output');\n",
              "if (outputEl) {{\n",
              "    x.observe(outputEl, {childList: true});\n",
              "}}\n",
              "\n",
              "                        })                };                            </script>        </div>\n",
              "</body>\n",
              "</html>"
            ]
          },
          "metadata": {}
        }
      ],
      "source": [
        "plot_candlestick_with_signals(dataframes[0], start_index=300, num_rows=100)"
      ]
    },
    {
      "cell_type": "code",
      "execution_count": null,
      "metadata": {
        "id": "RAtsG3vaeqet",
        "colab": {
          "base_uri": "https://localhost:8080/",
          "height": 123
        },
        "outputId": "d2cb88b1-adcb-4e6c-a20e-6e1593020465"
      },
      "outputs": [
        {
          "output_type": "execute_result",
          "data": {
            "text/plain": [
              "'\" from backtesting import Strategy\\nfrom backtesting import Backtest\\n\\ndef SIGNAL():\\n    return df.TotalSignal\\n\\nclass Strat_01(Strategy):\\n    mysize = 0.1  # Trade size\\n    slperc = 0.02\\n    tpperc = 0.04\\n\\n    def init(self):\\n        super().init()\\n        self.signal1 = self.I(SIGNAL)  # Assuming SIGNAL is a function that returns signals\\n\\n    def next(self):\\n        super().next()\\n\\n        if self.signal1 == 2 and not self.position:\\n            # Open a new long position with calculated SL and TP\\n            current_close = self.data.Close[-1]\\n            sl = current_close - self.slperc * current_close  # SL at 4% below the close price\\n            tp = current_close + self.tpperc * current_close  # TP at 2% above the close price\\n            self.buy(size=self.mysize, sl=sl, tp=tp)\\n\\n        elif self.signal1 == 1 and not self.position:\\n            # Open a new short position, setting SL based on a strategy-specific requirement\\n            current_close = self.data.Close[-1]\\n            sl = current_close + self.slperc * current_close  # SL at 4% below the close price\\n            tp = current_close - self.tpperc * current_close  # TP at 2% above the close price\\n            self.sell(size=self.mysize, sl=sl, tp=tp)\\n'"
            ],
            "application/vnd.google.colaboratory.intrinsic+json": {
              "type": "string"
            }
          },
          "metadata": {},
          "execution_count": 36
        }
      ],
      "source": [
        "\"\"\"\" from backtesting import Strategy\n",
        "from backtesting import Backtest\n",
        "\n",
        "def SIGNAL():\n",
        "    return df.TotalSignal\n",
        "\n",
        "class Strat_01(Strategy):\n",
        "    mysize = 0.1  # Trade size\n",
        "    slperc = 0.02\n",
        "    tpperc = 0.04\n",
        "\n",
        "    def init(self):\n",
        "        super().init()\n",
        "        self.signal1 = self.I(SIGNAL)  # Assuming SIGNAL is a function that returns signals\n",
        "\n",
        "    def next(self):\n",
        "        super().next()\n",
        "\n",
        "        if self.signal1 == 2 and not self.position:\n",
        "            # Open a new long position with calculated SL and TP\n",
        "            current_close = self.data.Close[-1]\n",
        "            sl = current_close - self.slperc * current_close  # SL at 4% below the close price\n",
        "            tp = current_close + self.tpperc * current_close  # TP at 2% above the close price\n",
        "            self.buy(size=self.mysize, sl=sl, tp=tp)\n",
        "\n",
        "        elif self.signal1 == 1 and not self.position:\n",
        "            # Open a new short position, setting SL based on a strategy-specific requirement\n",
        "            current_close = self.data.Close[-1]\n",
        "            sl = current_close + self.slperc * current_close  # SL at 4% below the close price\n",
        "            tp = current_close - self.tpperc * current_close  # TP at 2% above the close price\n",
        "            self.sell(size=self.mysize, sl=sl, tp=tp)\n",
        "\"\"\""
      ]
    },
    {
      "cell_type": "code",
      "execution_count": null,
      "metadata": {
        "id": "hgIuyfMleqhg",
        "colab": {
          "base_uri": "https://localhost:8080/",
          "height": 211
        },
        "outputId": "81e9ff11-26e3-4190-ff95-a22f2027b3fb"
      },
      "outputs": [
        {
          "output_type": "error",
          "ename": "NameError",
          "evalue": "name 'Strategy' is not defined",
          "traceback": [
            "\u001b[0;31m---------------------------------------------------------------------------\u001b[0m",
            "\u001b[0;31mNameError\u001b[0m                                 Traceback (most recent call last)",
            "\u001b[0;32m<ipython-input-37-7974e219af6e>\u001b[0m in \u001b[0;36m<cell line: 1>\u001b[0;34m()\u001b[0m\n\u001b[0;32m----> 1\u001b[0;31m \u001b[0;32mclass\u001b[0m \u001b[0mStrat_02\u001b[0m\u001b[0;34m(\u001b[0m\u001b[0mStrategy\u001b[0m\u001b[0;34m)\u001b[0m\u001b[0;34m:\u001b[0m\u001b[0;34m\u001b[0m\u001b[0;34m\u001b[0m\u001b[0m\n\u001b[0m\u001b[1;32m      2\u001b[0m     \u001b[0mmysize\u001b[0m \u001b[0;34m=\u001b[0m \u001b[0;36m0.1\u001b[0m  \u001b[0;31m# Trade size\u001b[0m\u001b[0;34m\u001b[0m\u001b[0;34m\u001b[0m\u001b[0m\n\u001b[1;32m      3\u001b[0m \u001b[0;34m\u001b[0m\u001b[0m\n\u001b[1;32m      4\u001b[0m     \u001b[0;32mdef\u001b[0m \u001b[0minit\u001b[0m\u001b[0;34m(\u001b[0m\u001b[0mself\u001b[0m\u001b[0;34m)\u001b[0m\u001b[0;34m:\u001b[0m\u001b[0;34m\u001b[0m\u001b[0;34m\u001b[0m\u001b[0m\n\u001b[1;32m      5\u001b[0m         \u001b[0msuper\u001b[0m\u001b[0;34m(\u001b[0m\u001b[0;34m)\u001b[0m\u001b[0;34m.\u001b[0m\u001b[0minit\u001b[0m\u001b[0;34m(\u001b[0m\u001b[0;34m)\u001b[0m\u001b[0;34m\u001b[0m\u001b[0;34m\u001b[0m\u001b[0m\n",
            "\u001b[0;31mNameError\u001b[0m: name 'Strategy' is not defined"
          ]
        }
      ],
      "source": [
        "class Strat_02(Strategy):\n",
        "    mysize = 0.1  # Trade size\n",
        "\n",
        "    def init(self):\n",
        "        super().init()\n",
        "        self.signal1 = self.I(SIGNAL)  # Assuming SIGNAL is a function that returns signals\n",
        "\n",
        "    def calculate_stop_loss(self, entry_price, pips=200, pip_value=0.0001, direction=\"long\"):\n",
        "        \"\"\"\n",
        "        Calculate the stop loss distance given the entry price, number of pips, and pip value.\n",
        "\n",
        "        Parameters:\n",
        "        entry_price (float): The price at which the trade is entered.\n",
        "        pips (int): The number of pips for the stop loss. Default is 200.\n",
        "        pip_value (float): The value of one pip. Default is 0.0001 for most currency pairs.\n",
        "        direction (str): 'long' or 'short' to indicate the trade direction.\n",
        "\n",
        "        Returns:\n",
        "        float: The stop loss price.\n",
        "        \"\"\"\n",
        "        sl_distance = pips * pip_value\n",
        "        if direction == \"long\":\n",
        "            stop_loss_price = entry_price - sl_distance\n",
        "        elif direction == \"short\":\n",
        "            stop_loss_price = entry_price + sl_distance\n",
        "        else:\n",
        "            raise ValueError(\"direction must be 'long' or 'short'\")\n",
        "\n",
        "        return stop_loss_price\n",
        "\n",
        "    def next(self):\n",
        "        super().next()\n",
        "\n",
        "        # Check if any trades are winning and close them\n",
        "        for trade in self.trades:\n",
        "            if trade.pl > 0:\n",
        "                trade.close()\n",
        "\n",
        "        # Handle new signals\n",
        "        if self.signal1[-1] == 2 and not self.position:\n",
        "            current_close = self.data.Close[-1]\n",
        "            sl = self.calculate_stop_loss(entry_price=current_close, pips=250, pip_value=0.0001, direction=\"long\")\n",
        "            self.buy(size=self.mysize, sl=sl)\n",
        "\n",
        "        elif self.signal1[-1] == 1 and not self.position:\n",
        "            current_close = self.data.Close[-1]\n",
        "            sl = self.calculate_stop_loss(entry_price=current_close, pips=250, pip_value=0.0001, direction=\"short\")\n",
        "            self.sell(size=self.mysize, sl=sl)"
      ]
    },
    {
      "cell_type": "code",
      "execution_count": null,
      "metadata": {
        "id": "N8JttDEmeqhm"
      },
      "outputs": [],
      "source": [
        "results = []\n",
        "\n",
        "for df in dataframes:\n",
        "    bt = Backtest(df, Strat_02, cash=5000, margin=1/10, commission=0.0002)\n",
        "    # stats, heatmap = bt.optimize(slperc=[i/100 for i in range(1, 8)],\n",
        "    #                              tpperc=[i/100 for i in range(1, 8)],\n",
        "    #                 maximize='Return [%]', max_tries=3000,\n",
        "    #                     random_state=0,\n",
        "    #                     return_heatmap=True)\n",
        "\n",
        "    stats =  bt.run()\n",
        "\n",
        "    results.append(stats)"
      ]
    },
    {
      "cell_type": "code",
      "execution_count": null,
      "metadata": {
        "id": "dWf37Kjkeqhn"
      },
      "outputs": [],
      "source": [
        "agg_returns = sum([r[\"Return [%]\"] for r in results])\n",
        "num_trades = sum([r[\"# Trades\"] for r in results])\n",
        "max_drawdown = min([r[\"Max. Drawdown [%]\"] for r in results])\n",
        "avg_drawdown = sum([r[\"Avg. Drawdown [%]\"] for r in results]) / len(results)\n",
        "\n",
        "win_rate = sum([r[\"Win Rate [%]\"] for r in results]) / len(results)\n",
        "best_trade = max([r[\"Best Trade [%]\"] for r in results])\n",
        "worst_trade = min([r[\"Worst Trade [%]\"] for r in results])\n",
        "avg_trade = sum([r[\"Avg. Trade [%]\"] for r in results]) / len(results)\n",
        "#max_trade_duration = max([r[\"Max. Trade Duration\"] for r in results])\n",
        "#avg_trade_duration = sum([r[\"Avg. Trade Duration\"] for r in results]) / len(results)\n",
        "\n",
        "print(f\"Aggregated Returns: {agg_returns:.2f}%\")\n",
        "print(f\"Number of Trades: {num_trades}\")\n",
        "print(f\"Maximum Drawdown: {max_drawdown:.2f}%\")\n",
        "print(f\"Average Drawdown: {avg_drawdown:.2f}%\")\n",
        "print(f\"Win Rate: {win_rate:.2f}%\")\n",
        "print(f\"Best Trade: {best_trade:.2f}%\")\n",
        "print(f\"Worst Trade: {worst_trade:.2f}%\")\n",
        "print(f\"Average Trade: {avg_trade:.2f}%\")\n",
        "#print(f\"Maximum Trade Duration: {max_trade_duration} days\")\n",
        "#print(f\"Average Trade Duration: {avg_trade_duration:.2f} days\")\n"
      ]
    },
    {
      "cell_type": "code",
      "execution_count": null,
      "metadata": {
        "id": "u2arJECdeqhx"
      },
      "outputs": [],
      "source": [
        "equity_curves = [stats['_equity_curve']['Equity'] for stats in results]\n",
        "max_length = max(len(equity) for equity in equity_curves)\n",
        "\n",
        "# Pad each equity curve with the last value to match the maximum length\n",
        "padded_equity_curves = []\n",
        "for equity in equity_curves:\n",
        "    last_value = equity.iloc[-1]\n",
        "    padding = [last_value] * (max_length - len(equity))\n",
        "    padded_equity = equity.tolist() + padding\n",
        "    padded_equity_curves.append(padded_equity)\n",
        "\n",
        "equity_df = pd.DataFrame(padded_equity_curves).T"
      ]
    },
    {
      "cell_type": "code",
      "execution_count": null,
      "metadata": {
        "id": "qGtrTB9yeqhz"
      },
      "outputs": [],
      "source": [
        "import matplotlib.pyplot as plt\n",
        "\n",
        "equity_df.plot(kind='line', figsize=(10, 6), legend=False).set_facecolor('black')\n",
        "plt.gca().spines['bottom'].set_color('black')\n",
        "plt.gca().spines['left'].set_color('black')\n",
        "plt.gca().tick_params(axis='x', colors='black')\n",
        "plt.gca().tick_params(axis='y', colors='black')\n",
        "plt.gca().set_facecolor('black')"
      ]
    },
    {
      "cell_type": "code",
      "execution_count": null,
      "metadata": {
        "id": "6NzQi73Ieqh1"
      },
      "outputs": [],
      "source": [
        "[r[\"Return [%]\"] for r in results]"
      ]
    },
    {
      "cell_type": "code",
      "execution_count": null,
      "metadata": {
        "id": "-LP1GmO2eqiU"
      },
      "outputs": [],
      "source": [
        "names"
      ]
    },
    {
      "cell_type": "code",
      "execution_count": null,
      "metadata": {
        "id": "9sMpGrA0eqiV"
      },
      "outputs": [],
      "source": [
        "results[1]"
      ]
    },
    {
      "cell_type": "code",
      "execution_count": null,
      "metadata": {
        "id": "ST-D_CtneqiW"
      },
      "outputs": [],
      "source": []
    }
  ],
  "metadata": {
    "kernelspec": {
      "display_name": "Python 3.10.8 64-bit",
      "language": "python",
      "name": "python3"
    },
    "language_info": {
      "codemirror_mode": {
        "name": "ipython",
        "version": 3
      },
      "file_extension": ".py",
      "mimetype": "text/x-python",
      "name": "python",
      "nbconvert_exporter": "python",
      "pygments_lexer": "ipython3",
      "version": "3.11.4"
    },
    "vscode": {
      "interpreter": {
        "hash": "c0ff92a541b5eb8a0f75470c34280cf0dea79e8b819847822bd36e33345fddf3"
      }
    },
    "colab": {
      "provenance": [],
      "include_colab_link": true
    }
  },
  "nbformat": 4,
  "nbformat_minor": 0
}