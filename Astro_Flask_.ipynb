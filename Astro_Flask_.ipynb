{
  "nbformat": 4,
  "nbformat_minor": 0,
  "metadata": {
    "colab": {
      "provenance": [],
      "mount_file_id": "1QuZPq0ojuxQJUFrmvFbDJ9pRehPiFD_G",
      "authorship_tag": "ABX9TyMQ/hx+ubmjkJJMxVJEqT0r",
      "include_colab_link": true
    },
    "kernelspec": {
      "name": "python3",
      "display_name": "Python 3"
    },
    "language_info": {
      "name": "python"
    }
  },
  "cells": [
    {
      "cell_type": "markdown",
      "metadata": {
        "id": "view-in-github",
        "colab_type": "text"
      },
      "source": [
        "<a href=\"https://colab.research.google.com/github/alxmzr/Colab/blob/main/Astro_Flask_.ipynb\" target=\"_parent\"><img src=\"https://colab.research.google.com/assets/colab-badge.svg\" alt=\"Open In Colab\"/></a>"
      ]
    },
    {
      "cell_type": "code",
      "execution_count": null,
      "metadata": {
        "id": "xBYXBJpUbln0"
      },
      "outputs": [],
      "source": [
        "!pip install flask pyngrok --quiet\n",
        "!pip install flask yfinance\n",
        "!pip install flatlib"
      ]
    },
    {
      "cell_type": "code",
      "source": [
        "from google.colab import drive\n",
        "drive.mount('/content/drive')"
      ],
      "metadata": {
        "colab": {
          "base_uri": "https://localhost:8080/"
        },
        "id": "FObvsIj0g-lh",
        "outputId": "03647692-c2ff-41cd-8238-9847e46d162e"
      },
      "execution_count": null,
      "outputs": [
        {
          "output_type": "stream",
          "name": "stdout",
          "text": [
            "Drive already mounted at /content/drive; to attempt to forcibly remount, call drive.mount(\"/content/drive\", force_remount=True).\n"
          ]
        }
      ]
    },
    {
      "cell_type": "code",
      "source": [
        "from flask import Flask, render_template\n",
        "from pyngrok import ngrok, conf\n",
        "import os\n",
        "import yfinance as yf\n",
        "from datetime import datetime\n",
        "\n",
        "# Вставь свой authtoken\n",
        "conf.get_default().auth_token = \"1pmyR9yMjWGv3Hv3Or9ghr8zMY7_6ncV13tdrFrbqQrHenKJR\"\n",
        "\n",
        "# Укажи путь к шаблонам на Google Drive\n",
        "template_dir = \"/content/drive/MyDrive/timefactor/templates\"\n",
        "\n",
        "\n",
        "app = Flask(__name__, template_folder=template_dir)\n",
        "\n",
        "@app.route('/get_ohlc', methods=['POST'])\n",
        "def get_ohlc():\n",
        "    symbol = request.json.get('symbol', 'BTC-USD')\n",
        "    interval = request.json.get('interval', '1d')\n",
        "    start = request.json.get('start')\n",
        "    end = request.json.get('end')\n",
        "\n",
        "    df = yf.download(symbol, start=start, end=end, interval=interval)\n",
        "    df.reset_index(inplace=True)\n",
        "\n",
        "    ohlc = []\n",
        "    for i, row in df.iterrows():\n",
        "        timestamp = int(datetime.timestamp(row['Date']) * 1000)\n",
        "        ohlc.append([timestamp, row['Open'], row['High'], row['Low'], row['Close']])\n",
        "\n",
        "    return jsonify({'status': 'success', 'data': ohlc})\n",
        "\n",
        "def index():\n",
        "    return render_template(\"index.html\")\n",
        "\n",
        "# Проброс порта\n",
        "public_url = ngrok.connect(5000)\n",
        "print(\"🚀 Публичный адрес:\", public_url)\n",
        "\n",
        "# Запуск Flask-сервера\n",
        "app.run(port=5000)"
      ],
      "metadata": {
        "colab": {
          "base_uri": "https://localhost:8080/"
        },
        "id": "b3DhRRU5hZxq",
        "outputId": "1ac03904-edd7-412a-f4be-10ec76198e26"
      },
      "execution_count": null,
      "outputs": [
        {
          "output_type": "stream",
          "name": "stdout",
          "text": [
            " * Serving Flask app '__main__'\n",
            " * Debug mode: on\n"
          ]
        },
        {
          "output_type": "stream",
          "name": "stderr",
          "text": [
            "INFO:werkzeug:\u001b[31m\u001b[1mWARNING: This is a development server. Do not use it in a production deployment. Use a production WSGI server instead.\u001b[0m\n",
            " * Running on http://127.0.0.1:5000\n",
            "INFO:werkzeug:\u001b[33mPress CTRL+C to quit\u001b[0m\n",
            "INFO:werkzeug: * Restarting with stat\n"
          ]
        }
      ]
    },
    {
      "cell_type": "code",
      "source": [
        "from flask import Flask, render_template, request, jsonify\n",
        "import yfinance as yf\n",
        "from datetime import datetime, timedelta\n",
        "import time\n",
        "from flatlib.chart import Chart\n",
        "from flatlib.datetime import Datetime\n",
        "from flatlib.geopos import GeoPos\n",
        "from flatlib import const\n",
        "from pyngrok import ngrok, conf\n",
        "\n",
        "# Вставь свой authtoken\n",
        "conf.get_default().auth_token = \"1pmyR9yMjWGv3Hv3Or9ghr8zMY7_6ncV13tdrFrbqQrHenKJR\"\n",
        "\n",
        "# Укажи путь к шаблонам на Google Drive\n",
        "template_dir = \"/content/drive/MyDrive/timefactor/templates\"\n",
        "\n",
        "app = Flask(__name__)\n",
        "\n",
        "@app.route('/')\n",
        "def index():\n",
        "    return render_template('index.html')\n",
        "\n",
        "@app.route('/get_ohlc', methods=['POST'])\n",
        "def get_ohlc():\n",
        "    data = request.get_json()\n",
        "    symbol = data.get('symbol', 'BTC-USD')\n",
        "    interval = data.get('interval', '1d')\n",
        "    start = data.get('start', '2021-07-05')\n",
        "    end = data.get('end', datetime.today().strftime('%Y-%m-%d'))\n",
        "\n",
        "    df = yf.download(symbol, start=start, end=end, interval=interval)\n",
        "    df.reset_index(inplace=True)\n",
        "\n",
        "    ohlc = []\n",
        "    for _, row in df.iterrows():\n",
        "        timestamp = int(time.mktime(row['Date'].timetuple()) * 1000)\n",
        "        ohlc.append([timestamp, row['Open'], row['High'], row['Low'], row['Close']])\n",
        "\n",
        "    return jsonify({'status': 'success', 'data': ohlc})\n",
        "\n",
        "@app.route('/get_planet_longitude', methods=['POST'])\n",
        "def get_planet_longitude():\n",
        "    data = request.get_json()\n",
        "    start_str = data.get('start')\n",
        "    end_str = data.get('end')\n",
        "    planet_name = data.get('planet', 'MOON').upper()\n",
        "    system = data.get('system', 'geo')\n",
        "    show_aspect_lines = data.get('aspect_lines', False)\n",
        "    orbis = float(data.get('orbis', 2.0))\n",
        "    aspect_angles = data.get('angles', [0, 60, 90, 120, 180])\n",
        "    comparison_planets = data.get('compare', ['SUN', 'MERCURY', 'VENUS', 'MARS', 'JUPITER', 'SATURN'])\n",
        "\n",
        "    start_date = datetime.strptime(start_str, \"%Y-%m-%d\")\n",
        "    end_date = datetime.strptime(end_str, \"%Y-%m-%d\")\n",
        "\n",
        "    pos = GeoPos(\"0\", \"51\")  # Лондон\n",
        "    delta = timedelta(days=1)\n",
        "\n",
        "    results = []\n",
        "    aspects = []\n",
        "\n",
        "    while start_date <= end_date:\n",
        "        dt = Datetime(start_date.strftime(\"%Y-%m-%d\"), \"00:00\", \"+00:00\")\n",
        "        chart = Chart(dt, pos, ID=system.upper())\n",
        "        planet = chart.get(planet_name)\n",
        "        timestamp = int(time.mktime(start_date.timetuple()) * 1000)\n",
        "        results.append([timestamp, round(planet.lon, 2)])\n",
        "\n",
        "        if show_aspect_lines:\n",
        "            for other_name in comparison_planets:\n",
        "                if other_name.upper() != planet_name:\n",
        "                    try:\n",
        "                        other = chart.get(other_name.upper())\n",
        "                        diff = abs(planet.lon - other.lon) % 360\n",
        "                        for angle in aspect_angles:\n",
        "                            if abs(diff - angle) <= orbis:\n",
        "                                aspects.append({\n",
        "                                    'timestamp': timestamp,\n",
        "                                    'angle': angle,\n",
        "                                    'with': other_name.upper(),\n",
        "                                    'exact': round(diff, 2)\n",
        "                                })\n",
        "                    except Exception:\n",
        "                        continue\n",
        "\n",
        "        start_date += delta\n",
        "\n",
        "    return jsonify({'status': 'success', 'data': results, 'aspects': aspects})\n",
        "\n",
        "# Проброс порта\n",
        "public_url = ngrok.connect(5000)\n",
        "print(\"🚀 Публичный адрес:\", public_url)\n",
        "\n",
        "if __name__ == '__main__':\n",
        "    app.run(port=5000)"
      ],
      "metadata": {
        "colab": {
          "base_uri": "https://localhost:8080/"
        },
        "id": "emd1SRhym_ow",
        "outputId": "b64ada38-71ba-4133-a893-8ab8988238b1"
      },
      "execution_count": null,
      "outputs": [
        {
          "output_type": "stream",
          "name": "stdout",
          "text": [
            "🚀 Публичный адрес: NgrokTunnel: \"https://71a5-34-73-216-142.ngrok-free.app\" -> \"http://localhost:5000\"\n",
            " * Serving Flask app '__main__'\n",
            " * Debug mode: off\n"
          ]
        },
        {
          "output_type": "stream",
          "name": "stderr",
          "text": [
            "INFO:werkzeug:\u001b[31m\u001b[1mWARNING: This is a development server. Do not use it in a production deployment. Use a production WSGI server instead.\u001b[0m\n",
            " * Running on http://127.0.0.1:5000\n",
            "INFO:werkzeug:\u001b[33mPress CTRL+C to quit\u001b[0m\n",
            "ERROR:__main__:Exception on / [GET]\n",
            "Traceback (most recent call last):\n",
            "  File \"/usr/local/lib/python3.11/dist-packages/flask/app.py\", line 1511, in wsgi_app\n",
            "    response = self.full_dispatch_request()\n",
            "               ^^^^^^^^^^^^^^^^^^^^^^^^^^^^\n",
            "  File \"/usr/local/lib/python3.11/dist-packages/flask/app.py\", line 919, in full_dispatch_request\n",
            "    rv = self.handle_user_exception(e)\n",
            "         ^^^^^^^^^^^^^^^^^^^^^^^^^^^^^\n",
            "  File \"/usr/local/lib/python3.11/dist-packages/flask/app.py\", line 917, in full_dispatch_request\n",
            "    rv = self.dispatch_request()\n",
            "         ^^^^^^^^^^^^^^^^^^^^^^^\n",
            "  File \"/usr/local/lib/python3.11/dist-packages/flask/app.py\", line 902, in dispatch_request\n",
            "    return self.ensure_sync(self.view_functions[rule.endpoint])(**view_args)  # type: ignore[no-any-return]\n",
            "           ^^^^^^^^^^^^^^^^^^^^^^^^^^^^^^^^^^^^^^^^^^^^^^^^^^^^^^^^^^^^^^^^^\n",
            "  File \"/tmp/ipython-input-4-592084847.py\", line 21, in index\n",
            "    return render_template('index.html')\n",
            "           ^^^^^^^^^^^^^^^^^^^^^^^^^^^^^\n",
            "  File \"/usr/local/lib/python3.11/dist-packages/flask/templating.py\", line 149, in render_template\n",
            "    template = app.jinja_env.get_or_select_template(template_name_or_list)\n",
            "               ^^^^^^^^^^^^^^^^^^^^^^^^^^^^^^^^^^^^^^^^^^^^^^^^^^^^^^^^^^^\n",
            "  File \"/usr/local/lib/python3.11/dist-packages/jinja2/environment.py\", line 1087, in get_or_select_template\n",
            "    return self.get_template(template_name_or_list, parent, globals)\n",
            "           ^^^^^^^^^^^^^^^^^^^^^^^^^^^^^^^^^^^^^^^^^^^^^^^^^^^^^^^^^\n",
            "  File \"/usr/local/lib/python3.11/dist-packages/jinja2/environment.py\", line 1016, in get_template\n",
            "    return self._load_template(name, globals)\n",
            "           ^^^^^^^^^^^^^^^^^^^^^^^^^^^^^^^^^^\n",
            "  File \"/usr/local/lib/python3.11/dist-packages/jinja2/environment.py\", line 975, in _load_template\n",
            "    template = self.loader.load(self, name, self.make_globals(globals))\n",
            "               ^^^^^^^^^^^^^^^^^^^^^^^^^^^^^^^^^^^^^^^^^^^^^^^^^^^^^^^^\n",
            "  File \"/usr/local/lib/python3.11/dist-packages/jinja2/loaders.py\", line 126, in load\n",
            "    source, filename, uptodate = self.get_source(environment, name)\n",
            "                                 ^^^^^^^^^^^^^^^^^^^^^^^^^^^^^^^^^^\n",
            "  File \"/usr/local/lib/python3.11/dist-packages/flask/templating.py\", line 65, in get_source\n",
            "    return self._get_source_fast(environment, template)\n",
            "           ^^^^^^^^^^^^^^^^^^^^^^^^^^^^^^^^^^^^^^^^^^^^\n",
            "  File \"/usr/local/lib/python3.11/dist-packages/flask/templating.py\", line 99, in _get_source_fast\n",
            "    raise TemplateNotFound(template)\n",
            "jinja2.exceptions.TemplateNotFound: index.html\n",
            "INFO:werkzeug:127.0.0.1 - - [05/Jul/2025 08:08:39] \"\u001b[35m\u001b[1mGET / HTTP/1.1\u001b[0m\" 500 -\n",
            "INFO:werkzeug:127.0.0.1 - - [05/Jul/2025 08:08:39] \"\u001b[33mGET /favicon.ico HTTP/1.1\u001b[0m\" 404 -\n"
          ]
        }
      ]
    }
  ]
}