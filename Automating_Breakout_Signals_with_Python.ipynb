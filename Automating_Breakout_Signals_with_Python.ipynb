{
  "nbformat": 4,
  "nbformat_minor": 0,
  "metadata": {
    "colab": {
      "provenance": [],
      "authorship_tag": "ABX9TyMG7rAF/PehgkO+7bJr9eXb",
      "include_colab_link": true
    },
    "kernelspec": {
      "name": "python3",
      "display_name": "Python 3"
    },
    "language_info": {
      "name": "python"
    }
  },
  "cells": [
    {
      "cell_type": "markdown",
      "metadata": {
        "id": "view-in-github",
        "colab_type": "text"
      },
      "source": [
        "<a href=\"https://colab.research.google.com/github/alxmzr/Colab/blob/main/Automating_Breakout_Signals_with_Python.ipynb\" target=\"_parent\"><img src=\"https://colab.research.google.com/assets/colab-badge.svg\" alt=\"Open In Colab\"/></a>"
      ]
    },
    {
      "cell_type": "code",
      "source": [
        "!pip install yfinance"
      ],
      "metadata": {
        "id": "sfHbrN0qyXO0"
      },
      "execution_count": null,
      "outputs": []
    },
    {
      "cell_type": "code",
      "execution_count": null,
      "metadata": {
        "id": "VW0z0sQXyLLw"
      },
      "outputs": [],
      "source": [
        "import yfinance as yf\n",
        "from datetime import date, timedelta\n",
        "\n",
        "def get_52_week_high_low(symbol):\n",
        "    end_date = date.today().strftime('%Y-%m-%d')\n",
        "    start_date = (date.today() - timedelta(days=365)).strftime('%Y-%m-%d')\n",
        "    stock_data = yf.download(symbol, start=start_date, end=end_date)\n",
        "    high = stock_data['Adj Close'].rolling(window=252).max()\n",
        "    low = stock_data['Adj Close'].rolling(window=252).min()\n",
        "    return high, low\n",
        "\n",
        "def breakout_screener():\n",
        "    symbols = yf.Tickers('AAPL MSFT GOOGL AMZN FB TSLA NVDA JPM V NFLX PYPL BAC DIS PG PFE JNJ JPM BAC WFC C JNJ NVDA PEP T XOM KO VZ CRM ABBV MRK IBM ABT AMGN ORCL TMO UNH ADBE COST MCD WMT HD MA PM LLY BMY UNP LMT CVX MRNA SBUX UPS TGT AZN LVS LULU NFLX LMT NVS BIDU BIIB BABA AAL BA JD LRCX MU AXP APD APH ANTM AIG ALL AEP AMT AMAT AMP AON AOS APH APD ARE ANTM ATVI AXP AZN BAX BDX BK BLL BLK BMY C CAG CARR CAT CB CBRE CCI CHTR CL CLX CMA CMCSA CME CMG CNC COP COST CSCO CSX CTAS CTLT CTSH CVS CVX D DAL DD DE DFS DG DGX DHI DHR DIS DLR DOV DOW DRE DRI DTE DUK DVN DXCM EBAY ECL ED EFX EIX EL EMN EMR EOG EQIX EQR ES ESS ETN ETR EW EXC EXPD EXR F FAST FB FDX FE FFIV FIS FISV FITB FIVE FLS FMC FOXA FRC FRT FTNT GD GE GILD GIS GL GLW GM GNRC GOOG GOOGL GPC GPN GPS GRMN GS GWW HAL HAS HBAN HCA HES HIG HLT HON HP HPE HPQ HRB HRL HSIC HST HSY HUM IBM ICE IDXX IFF INCY INTC INTU IP IPG IQV IR IRM ISRG ITW IVZ JBHT JCI JKHY JNJ JNPR JPM K KDP KEY KEYS KHC KIM KLAC KMB KMI KMX KO KR KSS L LHX LIN LKQ LLY LMT LNC LOW LRCX LUMN LYB LYV MA MAA MAR MAS MCD MCHP MCK MCO MDLZ MDLQ MDT MET MGM MHK MKC MKTX MLM MMM MO MOS MPC MRK MRO MS MSCI MSFT MSI MU NCLH NEE NEM NFLX NKE NLOK NLSN NLY NOC NOV NOW NRG NSC NTAP NTRS NUE NVDA NVR NWL O OKE OMC ORCL ORLY OXY PAYC PAYX PBCT PCAR PEAK PEG PEP PFE PG PGR PH PHM PKG PKI PLD PM PNC PNR PNW PPB PPG PRGO PRU PSA PSX PTON PVH PWR PYPL QCOM QRVO RCL RE REG REGN RF RHI RJF RL RMBS RMD ROK ROL ROP ROST RP RSG RTX SBAC SBUX SBNY SBUX SCHW SIVB SJM SLB SLG SNA SNPS SO SPG SPGI SRE STT STX SWK SYF SYK SYY T TAP TDG TEL TER TFC TGT TIF TJX TMO TMUS TPR TRMB TRV TSCO TSN TSLA TT TROW TRV TSCO TSN TSLA TT TROW TWLO TWTR TXN TXT UA UAL UBER UHS ULTA UNH UNM UNP UPS URI USB') # list of symbols to screen\n",
        "    for symbol in symbols.tickers:\n",
        "        high, low = get_52_week_high_low(symbol)\n",
        "        last_price = yf.Ticker(symbol).history().tail(1)['Close'][0]\n",
        "        if last_price > high.iloc[-1]:\n",
        "            print(f'{symbol} has broken out of its 52-week high!')\n",
        "        elif last_price < low.iloc[-1]:\n",
        "            print(f'{symbol} has broken out of its 52-week low!')"
      ]
    },
    {
      "cell_type": "code",
      "source": [
        "def get_ma(symbol, window):\n",
        "    stock_data = yf.download(symbol)\n",
        "    ma = stock_data['Adj Close'].rolling(window=window).mean()\n",
        "    return ma\n",
        "\n",
        "def breakout_screener():\n",
        "    symbols = yf.Tickers('AAPL MSFT GOOGL AMZN FB TSLA NVDA JPM V NFLX PYPL BAC DIS PG PFE JNJ JPM BAC WFC C JNJ NVDA PEP T XOM KO VZ CRM ABBV MRK IBM ABT AMGN ORCL TMO UNH ADBE COST MCD WMT HD MA PM LLY BMY UNP LMT CVX MRNA SBUX UPS TGT AZN LVS LULU NFLX LMT NVS BIDU BIIB BABA AAL BA JD LRCX MU AXP APD APH ANTM AIG ALL AEP AMT AMAT AMP AON AOS APH APD ARE ANTM ATVI AXP AZN BAX BDX BK BLL BLK BMY C CAG CARR CAT CB CBRE CCI CHTR CL CLX CMA CMCSA CME CMG CNC COP COST CSCO CSX CTAS CTLT CTSH CVS CVX D DAL DD DE DFS DG DGX DHI DHR DIS DLR DOV DOW DRE DRI DTE DUK DVN DXCM EBAY ECL ED EFX EIX EL EMN EMR EOG EQIX EQR ES ESS ETN ETR EW EXC EXPD EXR F FAST FB FDX FE FFIV FIS FISV FITB FIVE FLS FMC FOXA FRC FRT FTNT GD GE GILD GIS GL GLW GM GNRC GOOG GOOGL GPC GPN GPS GRMN GS GWW HAL HAS HBAN HCA HES HIG HLT HON HP HPE HPQ HRB HRL HSIC HST HSY HUM IBM ICE IDXX IFF INCY INTC INTU IP IPG IQV IR IRM ISRG ITW IVZ JBHT JCI JKHY JNJ JNPR JPM K KDP KEY KEYS KHC KIM KLAC KMB KMI KMX KO KR KSS L LHX LIN LKQ LLY LMT LNC LOW LRCX LUMN LYB LYV MA MAA MAR MAS MCD MCHP MCK MCO MDLZ MDLQ MDT MET MGM MHK MKC MKTX MLM MMM MO MOS MPC MRK MRO MS MSCI MSFT MSI MU NCLH NEE NEM NFLX NKE NLOK NLSN NLY NOC NOV NOW NRG NSC NTAP NTRS NUE NVDA NVR NWL O OKE OMC ORCL ORLY OXY PAYC PAYX PBCT PCAR PEAK PEG PEP PFE PG PGR PH PHM PKG PKI PLD PM PNC PNR PNW PPB PPG PRGO PRU PSA PSX PTON PVH PWR PYPL QCOM QRVO RCL RE REG REGN RF RHI RJF RL RMBS RMD ROK ROL ROP ROST RP RSG RTX SBAC SBUX SBNY SBUX SCHW SIVB SJM SLB SLG SNA SNPS SO SPG SPGI SRE STT STX SWK SYF SYK SYY T TAP TDG TEL TER TFC TGT TIF TJX TMO TMUS TPR TRMB TRV TSCO TSN TSLA TT TROW TRV TSCO TSN TSLA TT TROW TWLO TWTR TXN TXT UA UAL UBER UHS ULTA UNH UNM UNP UPS URI USB') # list of symbols to screen\n",
        "    for symbol in symbols.tickers:\n",
        "        ma20 = get_ma(symbol, 20)\n",
        "        ma50 = get_ma(symbol, 50)\n",
        "        last_price = yf.Ticker(symbol).history().tail(1)['Close'][0]\n",
        "        if last_price > ma20.iloc[-1] and last_price > ma50.iloc[-1]:\n",
        "            print(f'{symbol} has broken out of its 20-day and 50-day moving average!')\n",
        "        elif last_price < ma20.iloc[-1] and last_price < ma50.iloc[-1]:\n",
        "            print(f'{symbol} has broken down below its 20-day and 50-day moving average!')"
      ],
      "metadata": {
        "id": "ci-cWdsKyN5r"
      },
      "execution_count": null,
      "outputs": []
    },
    {
      "cell_type": "code",
      "source": [
        "def get_bollinger_bands(symbol, window):\n",
        "    stock_data = yf.download(symbol)\n",
        "    rolling_mean = stock_data['Adj Close'].rolling(window=window).mean()\n",
        "    rolling_std = stock_data['Adj Close'].rolling(window=window).std()\n",
        "    upper_band = rolling_mean + (rolling_std * 2)\n",
        "    lower_band = rolling_mean - (rolling_std * 2)\n",
        "    return upper_band, lower_band\n",
        "def breakout_screener():\n",
        "    symbols = yf.Tickers('AAPL MSFT GOOGL AMZN FB TSLA NVDA JPM V NFLX PYPL BAC DIS PG PFE JNJ JPM BAC WFC C JNJ NVDA PEP T XOM KO VZ CRM ABBV MRK IBM ABT AMGN ORCL TMO UNH ADBE COST MCD WMT HD MA PM LLY BMY UNP LMT CVX MRNA SBUX UPS TGT AZN LVS LULU NFLX LMT NVS BIDU BIIB BABA AAL BA JD LRCX MU AXP APD APH ANTM AIG ALL AEP AMT AMAT AMP AON AOS APH APD ARE ANTM ATVI AXP AZN BAX BDX BK BLL BLK BMY C CAG CARR CAT CB CBRE CCI CHTR CL CLX CMA CMCSA CME CMG CNC COP COST CSCO CSX CTAS CTLT CTSH CVS CVX D DAL DD DE DFS DG DGX DHI DHR DIS DLR DOV DOW DRE DRI DTE DUK DVN DXCM EBAY ECL ED EFX EIX EL EMN EMR EOG EQIX EQR ES ESS ETN ETR EW EXC EXPD EXR F FAST FB FDX FE FFIV FIS FISV FITB FIVE FLS FMC FOXA FRC FRT FTNT GD GE GILD GIS GL GLW GM GNRC GOOG GOOGL GPC GPN GPS GRMN GS GWW HAL HAS HBAN HCA HES HIG HLT HON HP HPE HPQ HRB HRL HSIC HST HSY HUM IBM ICE IDXX IFF INCY INTC INTU IP IPG IQV IR IRM ISRG ITW IVZ JBHT JCI JKHY JNJ JNPR JPM K KDP KEY KEYS KHC KIM KLAC KMB KMI KMX KO KR KSS L LHX LIN LKQ LLY LMT LNC LOW LRCX LUMN LYB LYV MA MAA MAR MAS MCD MCHP MCK MCO MDLZ MDLQ MDT MET MGM MHK MKC MKTX MLM MMM MO MOS MPC MRK MRO MS MSCI MSFT MSI MU NCLH NEE NEM NFLX NKE NLOK NLSN NLY NOC NOV NOW NRG NSC NTAP NTRS NUE NVDA NVR NWL O OKE OMC ORCL ORLY OXY PAYC PAYX PBCT PCAR PEAK PEG PEP PFE PG PGR PH PHM PKG PKI PLD PM PNC PNR PNW PPB PPG PRGO PRU PSA PSX PTON PVH PWR PYPL QCOM QRVO RCL RE REG REGN RF RHI RJF RL RMBS RMD ROK ROL ROP ROST RP RSG RTX SBAC SBUX SBNY SBUX SCHW SIVB SJM SLB SLG SNA SNPS SO SPG SPGI SRE STT STX SWK SYF SYK SYY T TAP TDG TEL TER TFC TGT TIF TJX TMO TMUS TPR TRMB TRV TSCO TSN TSLA TT TROW TRV TSCO TSN TSLA TT TROW TWLO TWTR TXN TXT UA UAL UBER UHS ULTA UNH UNM UNP UPS URI USB') # list of symbols to screen\n",
        "    for symbol in symbols.tickers:\n",
        "        upper_band, lower_band = get_bollinger_bands(symbol, 20)\n",
        "        last_price = yf.Ticker(symbol).history().tail(1)['Close'][0]\n",
        "        if last_price > upper_band.iloc[-1]:\n",
        "            print(f'{symbol} has broken out of its upper Bollinger Band!')\n",
        "        elif last_price < lower_band.iloc[-1]:\n",
        "            print(f'{symbol} has broken out of its lower Bollinger Band!')"
      ],
      "metadata": {
        "id": "nWReZlsmyQf9"
      },
      "execution_count": null,
      "outputs": []
    }
  ]
}