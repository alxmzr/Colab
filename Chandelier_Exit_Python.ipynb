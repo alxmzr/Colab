{
  "nbformat": 4,
  "nbformat_minor": 0,
  "metadata": {
    "colab": {
      "provenance": [],
      "mount_file_id": "1RSlZ74su8lLCThuVTh-y-QUyAys6vHIc",
      "authorship_tag": "ABX9TyM7ji+MhVZy/mmfXdO+bm//",
      "include_colab_link": true
    },
    "kernelspec": {
      "name": "python3",
      "display_name": "Python 3"
    },
    "language_info": {
      "name": "python"
    }
  },
  "cells": [
    {
      "cell_type": "markdown",
      "metadata": {
        "id": "view-in-github",
        "colab_type": "text"
      },
      "source": [
        "<a href=\"https://colab.research.google.com/github/alxmzr/Colab/blob/main/Chandelier_Exit_Python.ipynb\" target=\"_parent\"><img src=\"https://colab.research.google.com/assets/colab-badge.svg\" alt=\"Open In Colab\"/></a>"
      ]
    },
    {
      "cell_type": "code",
      "source": [
        "!pip install yfinance finta backtrader backtrader_plotting"
      ],
      "metadata": {
        "id": "pFCzpgFWKaE2",
        "colab": {
          "base_uri": "https://localhost:8080/"
        },
        "outputId": "86d809a6-0789-4b96-e5d5-648da6675c77"
      },
      "execution_count": null,
      "outputs": [
        {
          "output_type": "stream",
          "name": "stdout",
          "text": [
            "Looking in indexes: https://pypi.org/simple, https://us-python.pkg.dev/colab-wheels/public/simple/\n",
            "Requirement already satisfied: yfinance in /usr/local/lib/python3.7/dist-packages (0.1.74)\n",
            "Requirement already satisfied: finta in /usr/local/lib/python3.7/dist-packages (1.3)\n",
            "Requirement already satisfied: backtrader in /usr/local/lib/python3.7/dist-packages (1.9.76.123)\n",
            "Requirement already satisfied: backtrader_plotting in /usr/local/lib/python3.7/dist-packages (2.0.0)\n",
            "Requirement already satisfied: numpy>=1.15 in /usr/local/lib/python3.7/dist-packages (from yfinance) (1.21.6)\n",
            "Requirement already satisfied: multitasking>=0.0.7 in /usr/local/lib/python3.7/dist-packages (from yfinance) (0.0.11)\n",
            "Requirement already satisfied: lxml>=4.5.1 in /usr/local/lib/python3.7/dist-packages (from yfinance) (4.9.1)\n",
            "Requirement already satisfied: requests>=2.26 in /usr/local/lib/python3.7/dist-packages (from yfinance) (2.28.1)\n",
            "Requirement already satisfied: pandas>=0.24.0 in /usr/local/lib/python3.7/dist-packages (from yfinance) (1.3.5)\n",
            "Requirement already satisfied: pytz>=2017.3 in /usr/local/lib/python3.7/dist-packages (from pandas>=0.24.0->yfinance) (2022.2.1)\n",
            "Requirement already satisfied: python-dateutil>=2.7.3 in /usr/local/lib/python3.7/dist-packages (from pandas>=0.24.0->yfinance) (2.8.2)\n",
            "Requirement already satisfied: six>=1.5 in /usr/local/lib/python3.7/dist-packages (from python-dateutil>=2.7.3->pandas>=0.24.0->yfinance) (1.15.0)\n",
            "Requirement already satisfied: charset-normalizer<3,>=2 in /usr/local/lib/python3.7/dist-packages (from requests>=2.26->yfinance) (2.1.1)\n",
            "Requirement already satisfied: certifi>=2017.4.17 in /usr/local/lib/python3.7/dist-packages (from requests>=2.26->yfinance) (2022.6.15)\n",
            "Requirement already satisfied: urllib3<1.27,>=1.21.1 in /usr/local/lib/python3.7/dist-packages (from requests>=2.26->yfinance) (1.24.3)\n",
            "Requirement already satisfied: idna<4,>=2.5 in /usr/local/lib/python3.7/dist-packages (from requests>=2.26->yfinance) (2.10)\n",
            "Requirement already satisfied: bokeh~=2.3.0 in /usr/local/lib/python3.7/dist-packages (from backtrader_plotting) (2.3.3)\n",
            "Requirement already satisfied: jinja2 in /usr/local/lib/python3.7/dist-packages (from backtrader_plotting) (2.11.3)\n",
            "Requirement already satisfied: markdown2 in /usr/local/lib/python3.7/dist-packages (from backtrader_plotting) (2.4.5)\n",
            "Requirement already satisfied: matplotlib in /usr/local/lib/python3.7/dist-packages (from backtrader_plotting) (3.2.2)\n",
            "Requirement already satisfied: typing-extensions>=3.7.4 in /usr/local/lib/python3.7/dist-packages (from bokeh~=2.3.0->backtrader_plotting) (4.1.1)\n",
            "Requirement already satisfied: pillow>=7.1.0 in /usr/local/lib/python3.7/dist-packages (from bokeh~=2.3.0->backtrader_plotting) (7.1.2)\n",
            "Requirement already satisfied: tornado>=5.1 in /usr/local/lib/python3.7/dist-packages (from bokeh~=2.3.0->backtrader_plotting) (5.1.1)\n",
            "Requirement already satisfied: packaging>=16.8 in /usr/local/lib/python3.7/dist-packages (from bokeh~=2.3.0->backtrader_plotting) (21.3)\n",
            "Requirement already satisfied: PyYAML>=3.10 in /usr/local/lib/python3.7/dist-packages (from bokeh~=2.3.0->backtrader_plotting) (6.0)\n",
            "Requirement already satisfied: MarkupSafe>=0.23 in /usr/local/lib/python3.7/dist-packages (from jinja2->backtrader_plotting) (2.0.1)\n",
            "Requirement already satisfied: pyparsing!=3.0.5,>=2.0.2 in /usr/local/lib/python3.7/dist-packages (from packaging>=16.8->bokeh~=2.3.0->backtrader_plotting) (3.0.9)\n",
            "Requirement already satisfied: kiwisolver>=1.0.1 in /usr/local/lib/python3.7/dist-packages (from matplotlib->backtrader_plotting) (1.4.4)\n",
            "Requirement already satisfied: cycler>=0.10 in /usr/local/lib/python3.7/dist-packages (from matplotlib->backtrader_plotting) (0.11.0)\n"
          ]
        }
      ]
    },
    {
      "cell_type": "code",
      "execution_count": null,
      "metadata": {
        "id": "p62-r581zYYL"
      },
      "outputs": [],
      "source": [
        "from __future__ import (absolute_import, division, print_function, unicode_literals)\n",
        "import yfinance as yf\n",
        "from datetime import datetime\n",
        "import pandas as pd\n",
        "from finta import TA\n",
        "import backtrader as bt\n",
        "from datetime import datetime\n",
        "from backtrader_plotting import Bokeh\n",
        "from backtrader_plotting.schemes import Tradimo"
      ]
    },
    {
      "cell_type": "code",
      "source": [
        "symbol = 'BTC-USD'\n",
        "\n",
        "#START DATE FOR yfinance\n",
        "\n",
        "today = datetime.date.today()\n",
        "count = 31\n",
        "days = datetime.timedelta(count)\n",
        "delta = today - days\n",
        "\n",
        "start = datetime.datetime.strftime(delta, \"%Y-%m-%d\")\n",
        "# print(start)\n",
        "\n",
        "# END DATE FOR yfinance\n",
        "\n",
        "end = today.strftime(\"%Y-%m-%d\")\n",
        "# print(end)\n",
        "\n",
        "period = '5d'\n",
        "interval = '60m'\n",
        "\n",
        "df = yf.download(symbol, start=start, end=end, period=period, interval=interval)\n",
        "df.reset_index(inplace=True)\n",
        "# df['Date'] = df['Datetime'].dt.strftime('%Y/%m/%d')\n",
        "df['Datetime'].dt.strftime('%Y/%m/%d')\n",
        "df['Datetime'] = df['Datetime'].dt.strftime('%Y-%m-%d %H:%M').values\n",
        "df"
      ],
      "metadata": {
        "id": "iosOuCE2KWRJ"
      },
      "execution_count": null,
      "outputs": []
    },
    {
      "cell_type": "code",
      "source": [
        "atr_period = 22\n",
        "atr = TA.ATR(df, period=atr_period)\n",
        "\n",
        "#  Calculate chandelier exits\n",
        "chandelier_info = TA.CHANDELIER(df, short_period=atr_period, long_period=atr_period, k=3) #default k=3\n",
        "\n",
        "#  Add to price dataframe\n",
        "df = pd.concat([df, atr, chandelier_info], axis=1, ignore_index=False)\n",
        "df"
      ],
      "metadata": {
        "id": "Gp09QQSgSpms"
      },
      "execution_count": null,
      "outputs": []
    },
    {
      "cell_type": "code",
      "source": [
        "class ChandelierExit(bt.Indicator):\n",
        "\n",
        "    lines = ('long', 'short')\n",
        "    params = (('period', 22), ('multip', 3),)\n",
        "\n",
        "    plotinfo = dict(subplot=False)\n",
        "\n",
        "    def __init__(self):\n",
        "        highest = bt.ind.Highest(self.data.high, period=self.p.period)\n",
        "        lowest = bt.ind.Lowest(self.data.low, period=self.p.period)\n",
        "        atr = self.p.multip * bt.ind.ATR(self.data, period=self.p.period)\n",
        "        self.lines.long = highest - atr\n",
        "        self.lines.short = lowest + atr\n",
        "\n",
        "symbol = 'BTC-USD'\n",
        "period = '5d'\n",
        "interval = '60m'\n",
        "\n",
        "data = bt.feeds.PandasData(dataname=yf.download(symbol, '2018-01-01', '2019-01-01'))\n",
        "\n",
        "cerebro = bt.Cerebro()\n",
        "cerebro.adddata(data)\n",
        "cerebro.add_signal(bt.SIGNAL_LONGSHORT, ChandelierExit)\n",
        "cerebro.run()"
      ],
      "metadata": {
        "id": "wOHKTXpKUvIv"
      },
      "execution_count": null,
      "outputs": []
    },
    {
      "cell_type": "code",
      "source": [
        "!curl -O https://query1.finance.yahoo.com/v7/finance/download/BTC-USD?period1=1631980233&period2=1663516233&interval=1d&events=history&includeAdjustedClose=true"
      ],
      "metadata": {
        "id": "9lc3GgXT8-cW"
      },
      "execution_count": null,
      "outputs": []
    },
    {
      "cell_type": "code",
      "source": [
        "#NEW WAVES\n",
        "\n",
        "%matplotlib inline\n",
        "import matplotlib.pyplot as plt\n",
        "from pylab import rcParams\n",
        "rcParams['figure.figsize'] = 16,9\n",
        "rcParams['figure.facecolor'] = '#eeeeee'\n",
        "plt.title('dummy')\n",
        "plt.plot([1,3,2,4])\n",
        "plt.close()\n",
        "\n",
        "from __future__ import (absolute_import, division, print_function,\n",
        "                        unicode_literals)\n",
        "\n",
        "import datetime  # For datetime objects\n",
        "import os.path  # To manage paths\n",
        "import sys  # To find out the script name (in argv[0])\n",
        "\n",
        "# Import the backtrader platform\n",
        "import backtrader as bt\n",
        "\n",
        "class ChandelierExit(bt.Strategy):\n",
        "\n",
        "    # lines = ('long', 'short')\n",
        "    params = (('period', 22), ('multip', 3),)\n",
        "\n",
        "    plotinfo = dict(subplot=False)\n",
        "\n",
        "    def __init__(self):\n",
        "        highest = bt.ind.Highest(self.data.high, period=self.p.period)\n",
        "        lowest = bt.ind.Lowest(self.data.low, period=self.p.period)\n",
        "        atr = self.p.multip * bt.ind.ATR(self.data, period=self.p.period)\n",
        "        self.lines.long = highest - atr\n",
        "        self.lines.short = lowest + atr\n",
        "\n",
        "if __name__ == '__main__':\n",
        "    # Create a cerebro entity\n",
        "    cerebro = bt.Cerebro()\n",
        "\n",
        "    # Add a strategy\n",
        "    cerebro.addstrategy(ChandelierExit)\n",
        "\n",
        "    # Datas are in a subfolder of the samples. Need to find where the script is\n",
        "    # because it could have been called from anywhere\n",
        "\n",
        "    modpath = os.path.dirname(os.path.abspath(sys.argv[0]))\n",
        "    datapath = '/content/BTC-USD.csv'\n",
        "\n",
        "    # Create a Data Feed\n",
        "    data = bt.feeds.YahooFinanceCSVData(\n",
        "        dataname=datapath,\n",
        "        # Do not pass values before this date\n",
        "        fromdate=datetime.datetime(2021, 9, 18),\n",
        "        # Do not pass values before this date\n",
        "        todate=datetime.datetime(2022, 9, 18),\n",
        "        # Do not pass values after this date\n",
        "        reverse=False)\n",
        "\n",
        "    # Add the Data Feed to Cerebro\n",
        "    cerebro.adddata(data)\n",
        "\n",
        "    # Set our desired cash start\n",
        "    cerebro.broker.setcash(1000.0)\n",
        "\n",
        "    # Add a FixedSize sizer according to the stake\n",
        "    cerebro.addsizer(bt.sizers.FixedSize, stake=10)\n",
        "\n",
        "    # Set the commission\n",
        "    cerebro.broker.setcommission(commission=0.0)\n",
        "\n",
        "    # Print out the starting conditions\n",
        "    print('Starting Portfolio Value: %.2f' % cerebro.broker.getvalue())\n",
        "\n",
        "    # # Run over everything\n",
        "    # cerebro.run()\n",
        "\n",
        "    # Print out the final result\n",
        "    print('Final Portfolio Value: %.2f' % cerebro.broker.getvalue())\n",
        "\n",
        "    # Plot the result\n",
        "    cerebro.plot()"
      ],
      "metadata": {
        "id": "xE9IRppitwXg"
      },
      "execution_count": null,
      "outputs": []
    }
  ]
}