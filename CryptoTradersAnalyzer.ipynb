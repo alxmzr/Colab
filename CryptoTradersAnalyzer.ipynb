{
  "cells": [
    {
      "cell_type": "code",
      "source": [
        "# Identifying Trading Patterns — Behavioural Analysis of Traders\n",
        "# https://medium.com/geekculture/identifying-trading-patterns-behavioural-analysis-of-traders-5184dfa0350b"
      ],
      "metadata": {
        "id": "DpgLrRNQ7NAV"
      },
      "id": "DpgLrRNQ7NAV",
      "execution_count": 27,
      "outputs": []
    },
    {
      "cell_type": "markdown",
      "id": "6e6a7858",
      "metadata": {
        "id": "6e6a7858"
      },
      "source": [
        "# IMPORTS"
      ]
    },
    {
      "cell_type": "code",
      "execution_count": 28,
      "id": "5be7eea2",
      "metadata": {
        "ExecuteTime": {
          "end_time": "2022-04-02T17:50:53.028002Z",
          "start_time": "2022-04-02T17:50:52.286344Z"
        },
        "id": "5be7eea2"
      },
      "outputs": [],
      "source": [
        "import pandas as pd\n",
        "import time\n",
        "from datetime import datetime, date\n",
        "import seaborn as sns\n",
        "import matplotlib.pyplot as plt\n",
        "from pandas.api.types import CategoricalDtype\n",
        "\n",
        "from collections import OrderedDict\n",
        "import pytz\n",
        "\n",
        "import warnings\n",
        "warnings.filterwarnings(\"ignore\")"
      ]
    },
    {
      "cell_type": "markdown",
      "id": "f2718b7e",
      "metadata": {
        "id": "f2718b7e"
      },
      "source": [
        "# LOAD DATA"
      ]
    },
    {
      "cell_type": "code",
      "source": [
        "from google.colab import drive\n",
        "drive.mount('/gdrive')"
      ],
      "metadata": {
        "id": "Ggsz0S_Z7joN",
        "outputId": "7aa8a576-7af2-4a3c-9560-bfe1cd21fdbf",
        "colab": {
          "base_uri": "https://localhost:8080/"
        }
      },
      "id": "Ggsz0S_Z7joN",
      "execution_count": 29,
      "outputs": [
        {
          "output_type": "stream",
          "name": "stdout",
          "text": [
            "Drive already mounted at /gdrive; to attempt to forcibly remount, call drive.mount(\"/gdrive\", force_remount=True).\n"
          ]
        }
      ]
    },
    {
      "cell_type": "code",
      "execution_count": 30,
      "id": "3dd13a2a",
      "metadata": {
        "ExecuteTime": {
          "end_time": "2022-04-02T17:50:53.069810Z",
          "start_time": "2022-04-02T17:50:53.028964Z"
        },
        "id": "3dd13a2a",
        "outputId": "a05e999a-397a-4b76-c82b-3c39c73e903f",
        "colab": {
          "base_uri": "https://localhost:8080/",
          "height": 395
        }
      },
      "outputs": [
        {
          "output_type": "display_data",
          "data": {
            "text/plain": [
              "           unix                 date    symbol      open      high       low  \\\n",
              "0  1.661126e+12  2022-08-22 00:00:00  BTC/USDT  21516.70  21530.03  21388.99   \n",
              "1  1.661123e+12  2022-08-21 23:00:00  BTC/USDT  21567.23  21645.80  21508.41   \n",
              "2  1.661119e+12  2022-08-21 22:00:00  BTC/USDT  21535.40  21671.84  21277.73   \n",
              "3  1.661116e+12  2022-08-21 21:00:00  BTC/USDT  21468.43  21700.00  21468.07   \n",
              "4  1.661112e+12  2022-08-21 20:00:00  BTC/USDT  21512.01  21800.00  21462.89   \n",
              "\n",
              "      close   Volume BTC   Volume USDT  tradecount  \n",
              "0  21488.80   5323.48661  1.142687e+08    154142.0  \n",
              "1  21515.61   6304.74404  1.360068e+08    194095.0  \n",
              "2  21565.96  12746.49521  2.737209e+08    351158.0  \n",
              "3  21533.83   7715.74130  1.664213e+08    220953.0  \n",
              "4  21468.43   8239.77050  1.776794e+08    217624.0  "
            ],
            "text/html": [
              "\n",
              "  <div id=\"df-340d1323-97bd-47fc-b4a0-9f39d0760836\">\n",
              "    <div class=\"colab-df-container\">\n",
              "      <div>\n",
              "<style scoped>\n",
              "    .dataframe tbody tr th:only-of-type {\n",
              "        vertical-align: middle;\n",
              "    }\n",
              "\n",
              "    .dataframe tbody tr th {\n",
              "        vertical-align: top;\n",
              "    }\n",
              "\n",
              "    .dataframe thead th {\n",
              "        text-align: right;\n",
              "    }\n",
              "</style>\n",
              "<table border=\"1\" class=\"dataframe\">\n",
              "  <thead>\n",
              "    <tr style=\"text-align: right;\">\n",
              "      <th></th>\n",
              "      <th>unix</th>\n",
              "      <th>date</th>\n",
              "      <th>symbol</th>\n",
              "      <th>open</th>\n",
              "      <th>high</th>\n",
              "      <th>low</th>\n",
              "      <th>close</th>\n",
              "      <th>Volume BTC</th>\n",
              "      <th>Volume USDT</th>\n",
              "      <th>tradecount</th>\n",
              "    </tr>\n",
              "  </thead>\n",
              "  <tbody>\n",
              "    <tr>\n",
              "      <th>0</th>\n",
              "      <td>1.661126e+12</td>\n",
              "      <td>2022-08-22 00:00:00</td>\n",
              "      <td>BTC/USDT</td>\n",
              "      <td>21516.70</td>\n",
              "      <td>21530.03</td>\n",
              "      <td>21388.99</td>\n",
              "      <td>21488.80</td>\n",
              "      <td>5323.48661</td>\n",
              "      <td>1.142687e+08</td>\n",
              "      <td>154142.0</td>\n",
              "    </tr>\n",
              "    <tr>\n",
              "      <th>1</th>\n",
              "      <td>1.661123e+12</td>\n",
              "      <td>2022-08-21 23:00:00</td>\n",
              "      <td>BTC/USDT</td>\n",
              "      <td>21567.23</td>\n",
              "      <td>21645.80</td>\n",
              "      <td>21508.41</td>\n",
              "      <td>21515.61</td>\n",
              "      <td>6304.74404</td>\n",
              "      <td>1.360068e+08</td>\n",
              "      <td>194095.0</td>\n",
              "    </tr>\n",
              "    <tr>\n",
              "      <th>2</th>\n",
              "      <td>1.661119e+12</td>\n",
              "      <td>2022-08-21 22:00:00</td>\n",
              "      <td>BTC/USDT</td>\n",
              "      <td>21535.40</td>\n",
              "      <td>21671.84</td>\n",
              "      <td>21277.73</td>\n",
              "      <td>21565.96</td>\n",
              "      <td>12746.49521</td>\n",
              "      <td>2.737209e+08</td>\n",
              "      <td>351158.0</td>\n",
              "    </tr>\n",
              "    <tr>\n",
              "      <th>3</th>\n",
              "      <td>1.661116e+12</td>\n",
              "      <td>2022-08-21 21:00:00</td>\n",
              "      <td>BTC/USDT</td>\n",
              "      <td>21468.43</td>\n",
              "      <td>21700.00</td>\n",
              "      <td>21468.07</td>\n",
              "      <td>21533.83</td>\n",
              "      <td>7715.74130</td>\n",
              "      <td>1.664213e+08</td>\n",
              "      <td>220953.0</td>\n",
              "    </tr>\n",
              "    <tr>\n",
              "      <th>4</th>\n",
              "      <td>1.661112e+12</td>\n",
              "      <td>2022-08-21 20:00:00</td>\n",
              "      <td>BTC/USDT</td>\n",
              "      <td>21512.01</td>\n",
              "      <td>21800.00</td>\n",
              "      <td>21462.89</td>\n",
              "      <td>21468.43</td>\n",
              "      <td>8239.77050</td>\n",
              "      <td>1.776794e+08</td>\n",
              "      <td>217624.0</td>\n",
              "    </tr>\n",
              "  </tbody>\n",
              "</table>\n",
              "</div>\n",
              "      <button class=\"colab-df-convert\" onclick=\"convertToInteractive('df-340d1323-97bd-47fc-b4a0-9f39d0760836')\"\n",
              "              title=\"Convert this dataframe to an interactive table.\"\n",
              "              style=\"display:none;\">\n",
              "        \n",
              "  <svg xmlns=\"http://www.w3.org/2000/svg\" height=\"24px\"viewBox=\"0 0 24 24\"\n",
              "       width=\"24px\">\n",
              "    <path d=\"M0 0h24v24H0V0z\" fill=\"none\"/>\n",
              "    <path d=\"M18.56 5.44l.94 2.06.94-2.06 2.06-.94-2.06-.94-.94-2.06-.94 2.06-2.06.94zm-11 1L8.5 8.5l.94-2.06 2.06-.94-2.06-.94L8.5 2.5l-.94 2.06-2.06.94zm10 10l.94 2.06.94-2.06 2.06-.94-2.06-.94-.94-2.06-.94 2.06-2.06.94z\"/><path d=\"M17.41 7.96l-1.37-1.37c-.4-.4-.92-.59-1.43-.59-.52 0-1.04.2-1.43.59L10.3 9.45l-7.72 7.72c-.78.78-.78 2.05 0 2.83L4 21.41c.39.39.9.59 1.41.59.51 0 1.02-.2 1.41-.59l7.78-7.78 2.81-2.81c.8-.78.8-2.07 0-2.86zM5.41 20L4 18.59l7.72-7.72 1.47 1.35L5.41 20z\"/>\n",
              "  </svg>\n",
              "      </button>\n",
              "      \n",
              "  <style>\n",
              "    .colab-df-container {\n",
              "      display:flex;\n",
              "      flex-wrap:wrap;\n",
              "      gap: 12px;\n",
              "    }\n",
              "\n",
              "    .colab-df-convert {\n",
              "      background-color: #E8F0FE;\n",
              "      border: none;\n",
              "      border-radius: 50%;\n",
              "      cursor: pointer;\n",
              "      display: none;\n",
              "      fill: #1967D2;\n",
              "      height: 32px;\n",
              "      padding: 0 0 0 0;\n",
              "      width: 32px;\n",
              "    }\n",
              "\n",
              "    .colab-df-convert:hover {\n",
              "      background-color: #E2EBFA;\n",
              "      box-shadow: 0px 1px 2px rgba(60, 64, 67, 0.3), 0px 1px 3px 1px rgba(60, 64, 67, 0.15);\n",
              "      fill: #174EA6;\n",
              "    }\n",
              "\n",
              "    [theme=dark] .colab-df-convert {\n",
              "      background-color: #3B4455;\n",
              "      fill: #D2E3FC;\n",
              "    }\n",
              "\n",
              "    [theme=dark] .colab-df-convert:hover {\n",
              "      background-color: #434B5C;\n",
              "      box-shadow: 0px 1px 3px 1px rgba(0, 0, 0, 0.15);\n",
              "      filter: drop-shadow(0px 1px 2px rgba(0, 0, 0, 0.3));\n",
              "      fill: #FFFFFF;\n",
              "    }\n",
              "  </style>\n",
              "\n",
              "      <script>\n",
              "        const buttonEl =\n",
              "          document.querySelector('#df-340d1323-97bd-47fc-b4a0-9f39d0760836 button.colab-df-convert');\n",
              "        buttonEl.style.display =\n",
              "          google.colab.kernel.accessAllowed ? 'block' : 'none';\n",
              "\n",
              "        async function convertToInteractive(key) {\n",
              "          const element = document.querySelector('#df-340d1323-97bd-47fc-b4a0-9f39d0760836');\n",
              "          const dataTable =\n",
              "            await google.colab.kernel.invokeFunction('convertToInteractive',\n",
              "                                                     [key], {});\n",
              "          if (!dataTable) return;\n",
              "\n",
              "          const docLinkHtml = 'Like what you see? Visit the ' +\n",
              "            '<a target=\"_blank\" href=https://colab.research.google.com/notebooks/data_table.ipynb>data table notebook</a>'\n",
              "            + ' to learn more about interactive tables.';\n",
              "          element.innerHTML = '';\n",
              "          dataTable['output_type'] = 'display_data';\n",
              "          await google.colab.output.renderOutput(dataTable, element);\n",
              "          const docLink = document.createElement('div');\n",
              "          docLink.innerHTML = docLinkHtml;\n",
              "          element.appendChild(docLink);\n",
              "        }\n",
              "      </script>\n",
              "    </div>\n",
              "  </div>\n",
              "  "
            ]
          },
          "metadata": {}
        },
        {
          "output_type": "display_data",
          "data": {
            "text/plain": [
              "               unix              date    symbol      open      high      low  \\\n",
              "43915  1.502957e+09  2017-08-17 08-AM  BTC/USDT   4349.99   4377.85  4333.32   \n",
              "43916  1.502953e+09  2017-08-17 07-AM  BTC/USDT   4324.35   4349.99  4287.41   \n",
              "43917  1.502950e+09  2017-08-17 06-AM  BTC/USDT   4315.32   4345.45  4309.37   \n",
              "43918  1.502946e+09  2017-08-17 05-AM  BTC/USDT   4308.83   4328.69  4291.37   \n",
              "43919  1.502942e+09  2017-08-17 04-AM  BTC/USDT  16199.91  16199.91  4261.32   \n",
              "\n",
              "         close  Volume BTC  Volume USDT  tradecount  \n",
              "43915  4360.69      0.9499      4139.70         NaN  \n",
              "43916  4349.99      4.4400     19241.06         NaN  \n",
              "43917  4324.35      7.2300     31282.31         NaN  \n",
              "43918  4315.32     23.2300    100304.82         NaN  \n",
              "43919  4308.83     44.5100    190952.85         NaN  "
            ],
            "text/html": [
              "\n",
              "  <div id=\"df-fb1cdc5e-fbb8-4bd1-ac6a-da4fac965922\">\n",
              "    <div class=\"colab-df-container\">\n",
              "      <div>\n",
              "<style scoped>\n",
              "    .dataframe tbody tr th:only-of-type {\n",
              "        vertical-align: middle;\n",
              "    }\n",
              "\n",
              "    .dataframe tbody tr th {\n",
              "        vertical-align: top;\n",
              "    }\n",
              "\n",
              "    .dataframe thead th {\n",
              "        text-align: right;\n",
              "    }\n",
              "</style>\n",
              "<table border=\"1\" class=\"dataframe\">\n",
              "  <thead>\n",
              "    <tr style=\"text-align: right;\">\n",
              "      <th></th>\n",
              "      <th>unix</th>\n",
              "      <th>date</th>\n",
              "      <th>symbol</th>\n",
              "      <th>open</th>\n",
              "      <th>high</th>\n",
              "      <th>low</th>\n",
              "      <th>close</th>\n",
              "      <th>Volume BTC</th>\n",
              "      <th>Volume USDT</th>\n",
              "      <th>tradecount</th>\n",
              "    </tr>\n",
              "  </thead>\n",
              "  <tbody>\n",
              "    <tr>\n",
              "      <th>43915</th>\n",
              "      <td>1.502957e+09</td>\n",
              "      <td>2017-08-17 08-AM</td>\n",
              "      <td>BTC/USDT</td>\n",
              "      <td>4349.99</td>\n",
              "      <td>4377.85</td>\n",
              "      <td>4333.32</td>\n",
              "      <td>4360.69</td>\n",
              "      <td>0.9499</td>\n",
              "      <td>4139.70</td>\n",
              "      <td>NaN</td>\n",
              "    </tr>\n",
              "    <tr>\n",
              "      <th>43916</th>\n",
              "      <td>1.502953e+09</td>\n",
              "      <td>2017-08-17 07-AM</td>\n",
              "      <td>BTC/USDT</td>\n",
              "      <td>4324.35</td>\n",
              "      <td>4349.99</td>\n",
              "      <td>4287.41</td>\n",
              "      <td>4349.99</td>\n",
              "      <td>4.4400</td>\n",
              "      <td>19241.06</td>\n",
              "      <td>NaN</td>\n",
              "    </tr>\n",
              "    <tr>\n",
              "      <th>43917</th>\n",
              "      <td>1.502950e+09</td>\n",
              "      <td>2017-08-17 06-AM</td>\n",
              "      <td>BTC/USDT</td>\n",
              "      <td>4315.32</td>\n",
              "      <td>4345.45</td>\n",
              "      <td>4309.37</td>\n",
              "      <td>4324.35</td>\n",
              "      <td>7.2300</td>\n",
              "      <td>31282.31</td>\n",
              "      <td>NaN</td>\n",
              "    </tr>\n",
              "    <tr>\n",
              "      <th>43918</th>\n",
              "      <td>1.502946e+09</td>\n",
              "      <td>2017-08-17 05-AM</td>\n",
              "      <td>BTC/USDT</td>\n",
              "      <td>4308.83</td>\n",
              "      <td>4328.69</td>\n",
              "      <td>4291.37</td>\n",
              "      <td>4315.32</td>\n",
              "      <td>23.2300</td>\n",
              "      <td>100304.82</td>\n",
              "      <td>NaN</td>\n",
              "    </tr>\n",
              "    <tr>\n",
              "      <th>43919</th>\n",
              "      <td>1.502942e+09</td>\n",
              "      <td>2017-08-17 04-AM</td>\n",
              "      <td>BTC/USDT</td>\n",
              "      <td>16199.91</td>\n",
              "      <td>16199.91</td>\n",
              "      <td>4261.32</td>\n",
              "      <td>4308.83</td>\n",
              "      <td>44.5100</td>\n",
              "      <td>190952.85</td>\n",
              "      <td>NaN</td>\n",
              "    </tr>\n",
              "  </tbody>\n",
              "</table>\n",
              "</div>\n",
              "      <button class=\"colab-df-convert\" onclick=\"convertToInteractive('df-fb1cdc5e-fbb8-4bd1-ac6a-da4fac965922')\"\n",
              "              title=\"Convert this dataframe to an interactive table.\"\n",
              "              style=\"display:none;\">\n",
              "        \n",
              "  <svg xmlns=\"http://www.w3.org/2000/svg\" height=\"24px\"viewBox=\"0 0 24 24\"\n",
              "       width=\"24px\">\n",
              "    <path d=\"M0 0h24v24H0V0z\" fill=\"none\"/>\n",
              "    <path d=\"M18.56 5.44l.94 2.06.94-2.06 2.06-.94-2.06-.94-.94-2.06-.94 2.06-2.06.94zm-11 1L8.5 8.5l.94-2.06 2.06-.94-2.06-.94L8.5 2.5l-.94 2.06-2.06.94zm10 10l.94 2.06.94-2.06 2.06-.94-2.06-.94-.94-2.06-.94 2.06-2.06.94z\"/><path d=\"M17.41 7.96l-1.37-1.37c-.4-.4-.92-.59-1.43-.59-.52 0-1.04.2-1.43.59L10.3 9.45l-7.72 7.72c-.78.78-.78 2.05 0 2.83L4 21.41c.39.39.9.59 1.41.59.51 0 1.02-.2 1.41-.59l7.78-7.78 2.81-2.81c.8-.78.8-2.07 0-2.86zM5.41 20L4 18.59l7.72-7.72 1.47 1.35L5.41 20z\"/>\n",
              "  </svg>\n",
              "      </button>\n",
              "      \n",
              "  <style>\n",
              "    .colab-df-container {\n",
              "      display:flex;\n",
              "      flex-wrap:wrap;\n",
              "      gap: 12px;\n",
              "    }\n",
              "\n",
              "    .colab-df-convert {\n",
              "      background-color: #E8F0FE;\n",
              "      border: none;\n",
              "      border-radius: 50%;\n",
              "      cursor: pointer;\n",
              "      display: none;\n",
              "      fill: #1967D2;\n",
              "      height: 32px;\n",
              "      padding: 0 0 0 0;\n",
              "      width: 32px;\n",
              "    }\n",
              "\n",
              "    .colab-df-convert:hover {\n",
              "      background-color: #E2EBFA;\n",
              "      box-shadow: 0px 1px 2px rgba(60, 64, 67, 0.3), 0px 1px 3px 1px rgba(60, 64, 67, 0.15);\n",
              "      fill: #174EA6;\n",
              "    }\n",
              "\n",
              "    [theme=dark] .colab-df-convert {\n",
              "      background-color: #3B4455;\n",
              "      fill: #D2E3FC;\n",
              "    }\n",
              "\n",
              "    [theme=dark] .colab-df-convert:hover {\n",
              "      background-color: #434B5C;\n",
              "      box-shadow: 0px 1px 3px 1px rgba(0, 0, 0, 0.15);\n",
              "      filter: drop-shadow(0px 1px 2px rgba(0, 0, 0, 0.3));\n",
              "      fill: #FFFFFF;\n",
              "    }\n",
              "  </style>\n",
              "\n",
              "      <script>\n",
              "        const buttonEl =\n",
              "          document.querySelector('#df-fb1cdc5e-fbb8-4bd1-ac6a-da4fac965922 button.colab-df-convert');\n",
              "        buttonEl.style.display =\n",
              "          google.colab.kernel.accessAllowed ? 'block' : 'none';\n",
              "\n",
              "        async function convertToInteractive(key) {\n",
              "          const element = document.querySelector('#df-fb1cdc5e-fbb8-4bd1-ac6a-da4fac965922');\n",
              "          const dataTable =\n",
              "            await google.colab.kernel.invokeFunction('convertToInteractive',\n",
              "                                                     [key], {});\n",
              "          if (!dataTable) return;\n",
              "\n",
              "          const docLinkHtml = 'Like what you see? Visit the ' +\n",
              "            '<a target=\"_blank\" href=https://colab.research.google.com/notebooks/data_table.ipynb>data table notebook</a>'\n",
              "            + ' to learn more about interactive tables.';\n",
              "          element.innerHTML = '';\n",
              "          dataTable['output_type'] = 'display_data';\n",
              "          await google.colab.output.renderOutput(dataTable, element);\n",
              "          const docLink = document.createElement('div');\n",
              "          docLink.innerHTML = docLinkHtml;\n",
              "          element.appendChild(docLink);\n",
              "        }\n",
              "      </script>\n",
              "    </div>\n",
              "  </div>\n",
              "  "
            ]
          },
          "metadata": {}
        }
      ],
      "source": [
        "# Downloaded data from https://www.cryptodatadownload.com/data/binance/\n",
        "test_data = pd.read_csv('/gdrive/MyDrive/Binance_BTCUSDT_1h.csv')\n",
        "display(test_data.head())\n",
        "display(test_data.tail())"
      ]
    },
    {
      "cell_type": "markdown",
      "id": "9a5654af",
      "metadata": {
        "id": "9a5654af"
      },
      "source": [
        "# CONFIG"
      ]
    },
    {
      "cell_type": "code",
      "execution_count": 31,
      "id": "636300ed",
      "metadata": {
        "ExecuteTime": {
          "end_time": "2022-04-02T17:50:53.102651Z",
          "start_time": "2022-04-02T17:50:53.070423Z"
        },
        "id": "636300ed"
      },
      "outputs": [],
      "source": [
        "scrip = 'BTC'\n",
        "scrip_name = 'BITCOIN'\n",
        "\n",
        "# NOTE: Set the timezone for which you want to do the analysis\n",
        "# Set to None if local timezone has to be applied\n",
        "# Some timezones: 'UTC','GMT','America/New_York','Asia/Kolkata'\n",
        "# Run `pytz.all_timezones` to get the list of all supported timezones\n",
        "ANALYSIS_TIMEZONE = 'UTC'\n",
        "\n",
        "\n",
        "INPUT_HOURLY_DATA_FILEPATH = f'/gdrive/MyDrive/Binance_{scrip}USDT_1h.csv'\n",
        "VOLUME_COLUMN = f'Volume {scrip}'\n",
        "\n",
        "ANALYSIS_START_DATE = date(2021,1,1) \n",
        "ANALYSIS_END_DATE = date(2021,12,31)\n",
        "TEST_START_DATE = date(2022,1,1)\n",
        "TEST_END_DATE = date(2022,3,31)\n",
        "\n",
        "FEATURES_COLUMNS = ['open','close', VOLUME_COLUMN]\n",
        "DAYS_OF_WEEK =[ \"Monday\", \"Tuesday\", \"Wednesday\", \"Thursday\", \"Friday\", \"Saturday\", \"Sunday\"]\n",
        "WEEKEND_DAYS = ['Saturday','Sunday']\n",
        "WEEKDAY_DAYS =[\"Monday\", \"Tuesday\", \"Wednesday\", \"Thursday\", \"Friday\"]\n",
        "\n",
        "SORTED_DAYS_OF_WEEK = [ \"Sunday\", \"Monday\", \"Tuesday\", \"Wednesday\", \"Thursday\", \"Friday\", \"Saturday\"]\n",
        "\n",
        "DAYS_OF_WEEK_CAT = CategoricalDtype(SORTED_DAYS_OF_WEEK, ordered=True)\n",
        "\n",
        "INVESTMENT_AMOUNT_DOLLARS = 500"
      ]
    },
    {
      "cell_type": "markdown",
      "id": "a0d2038e",
      "metadata": {
        "ExecuteTime": {
          "end_time": "2022-03-26T12:57:07.542038Z",
          "start_time": "2022-03-26T12:57:07.537078Z"
        },
        "id": "a0d2038e"
      },
      "source": [
        "# UTILITY FUNCTIONS"
      ]
    },
    {
      "cell_type": "markdown",
      "id": "651bc908",
      "metadata": {
        "id": "651bc908"
      },
      "source": [
        "## DATA PREPROCESSING FUNCTIONS"
      ]
    },
    {
      "cell_type": "markdown",
      "id": "82eed761",
      "metadata": {
        "id": "82eed761"
      },
      "source": [
        "### CORRECT DATETIME"
      ]
    },
    {
      "cell_type": "code",
      "execution_count": 32,
      "id": "b108f89e",
      "metadata": {
        "ExecuteTime": {
          "end_time": "2022-04-02T17:50:53.106285Z",
          "start_time": "2022-04-02T17:50:53.103789Z"
        },
        "id": "b108f89e"
      },
      "outputs": [],
      "source": [
        "def update_actual_date(unix_epoch, timezone):\n",
        "    \n",
        "    unix_epoch_value = unix_epoch/1000 if (len(str(int(unix_epoch))) == 13) else unix_epoch\n",
        "    \n",
        "    if timezone is not None:\n",
        "        return datetime.fromtimestamp(unix_epoch_value, pytz.timezone(timezone))\n",
        "    else:\n",
        "        return datetime.fromtimestamp(unix_epoch_value)\n",
        "        \n",
        "\n",
        "\n",
        "def set_actual_date(data_df):\n",
        "    # Set the datetime column\n",
        "    data_df['actual_date'] = data_df['unix'].apply(lambda x: update_actual_date(x,ANALYSIS_TIMEZONE))\n",
        "    return data_df\n"
      ]
    },
    {
      "cell_type": "markdown",
      "id": "c0078f32",
      "metadata": {
        "id": "c0078f32"
      },
      "source": [
        "### FILTER DATA"
      ]
    },
    {
      "cell_type": "code",
      "execution_count": 33,
      "id": "43ef0a6f",
      "metadata": {
        "ExecuteTime": {
          "end_time": "2022-04-02T17:50:53.109344Z",
          "start_time": "2022-04-02T17:50:53.106954Z"
        },
        "id": "43ef0a6f"
      },
      "outputs": [],
      "source": [
        "def preprocess(scrip_df, start_date, end_date = '2030-01-01'):\n",
        "    \n",
        "    # Filter data based on the start and end data\n",
        "    scrip_df = scrip_df[(scrip_df['actual_date'].dt.date>=start_date) & (scrip_df['actual_date'].dt.date<=end_date)]\n",
        "    \n",
        "    # Sort data based on the date\n",
        "    scrip_df.sort_values(by=['actual_date'], ascending = False, inplace=True)\n",
        "\n",
        "    # Set date as Index. Keep only the close price.\n",
        "    scrip_df.set_index('actual_date', drop=True,inplace=True)\n",
        "    \n",
        "    \n",
        "    # Keep only the required columns and drop the rest\n",
        "    scrip_df = scrip_df[FEATURES_COLUMNS]\n",
        "    \n",
        "    return scrip_df"
      ]
    },
    {
      "cell_type": "markdown",
      "id": "abf34566",
      "metadata": {
        "id": "abf34566"
      },
      "source": [
        "## FEATURE ENGINEERING"
      ]
    },
    {
      "cell_type": "markdown",
      "id": "4d8ab265",
      "metadata": {
        "id": "4d8ab265"
      },
      "source": [
        "### ADD HOUR, DAY OF THE WEEK & WEEK NUMBER"
      ]
    },
    {
      "cell_type": "code",
      "execution_count": 34,
      "id": "620483d4",
      "metadata": {
        "ExecuteTime": {
          "end_time": "2022-04-02T17:50:53.112703Z",
          "start_time": "2022-04-02T17:50:53.109995Z"
        },
        "id": "620483d4"
      },
      "outputs": [],
      "source": [
        "\n",
        "def get_day_of_week(row):\n",
        "    return DAYS_OF_WEEK[row.name.weekday()]\n",
        "\n",
        "def get_week(row):\n",
        "    return row.name.isocalendar().week\n",
        "\n",
        "\n",
        "def get_hour(row):\n",
        "    return row.name.time().hour\n",
        "    \n",
        "def add_timestamp_features(scrip_df,add_hours=True):\n",
        "\n",
        "    scrip_df['day'] = scrip_df.apply(lambda x: get_day_of_week(x),axis=1).astype(DAYS_OF_WEEK_CAT)\n",
        "    scrip_df['week'] = scrip_df.apply(lambda x: get_week(x),axis=1)\n",
        "    \n",
        "    if add_hours:\n",
        "        scrip_df['hour'] = scrip_df.apply(lambda x: get_hour(x),axis=1)\n",
        "    \n",
        "    return scrip_df"
      ]
    },
    {
      "cell_type": "code",
      "execution_count": 35,
      "id": "6c626c6c",
      "metadata": {
        "ExecuteTime": {
          "end_time": "2022-04-02T17:50:53.115017Z",
          "start_time": "2022-04-02T17:50:53.113597Z"
        },
        "scrolled": true,
        "id": "6c626c6c"
      },
      "outputs": [],
      "source": [
        "# mydf = pd.read_csv(INPUT_HOURLY_DATA_FILEPATH)\n",
        "# mydf = set_actual_date(mydf)\n",
        "\n",
        "# print(f'Shape - initial:{mydf.shape}')\n",
        "# mydf = preprocess(mydf, ANALYSIS_START_DATE, ANALYSIS_END_DATE)\n",
        "# print(f'Shape - after preprocess:{mydf.shape}')\n",
        "# mydf = add_timestamp_features(mydf)\n",
        "# print(f'Shape - after adding features:{mydf.shape}')\n",
        "# display(mydf.head())\n",
        "# display(mydf.tail())"
      ]
    },
    {
      "cell_type": "markdown",
      "id": "88f3eb59",
      "metadata": {
        "id": "88f3eb59"
      },
      "source": [
        "### ADD PROFIT/LOSS FOR THE CANDLE"
      ]
    },
    {
      "cell_type": "code",
      "execution_count": 36,
      "id": "e3c198c0",
      "metadata": {
        "ExecuteTime": {
          "end_time": "2022-04-02T17:50:53.117943Z",
          "start_time": "2022-04-02T17:50:53.115812Z"
        },
        "id": "e3c198c0"
      },
      "outputs": [],
      "source": [
        "def add_profitloss_features(scrip_df):\n",
        "    scrip_df['closed_green'] = scrip_df['close'] > scrip_df['open']\n",
        "    scrip_df['closed'] = scrip_df.apply(lambda x: 'GREEN' if (x['close'] >= x['open']) else 'RED',axis=1)\n",
        "    scrip_df['profit_pct'] = (scrip_df['close'] - scrip_df['open'])/scrip_df['open'] * 100\n",
        "    return scrip_df"
      ]
    },
    {
      "cell_type": "markdown",
      "id": "c95aef7b",
      "metadata": {
        "id": "c95aef7b"
      },
      "source": [
        "### ADD NEXT CANDLES"
      ]
    },
    {
      "cell_type": "code",
      "execution_count": 37,
      "id": "1bb9c498",
      "metadata": {
        "ExecuteTime": {
          "end_time": "2022-04-02T17:50:53.123128Z",
          "start_time": "2022-04-02T17:50:53.118789Z"
        },
        "id": "1bb9c498"
      },
      "outputs": [],
      "source": [
        "def add_next_open_features(scrip_df):\n",
        "    scrip_df['next2_open'] = scrip_df['open'].shift(2)\n",
        "    scrip_df['next2_opened'] = scrip_df.apply(lambda x: 'GREEN' if (x['next2_open'] >= x['open']) else 'RED',axis=1)\n",
        "    \n",
        "    \n",
        "    scrip_df['next3_open'] = scrip_df['open'].shift(3)\n",
        "    scrip_df['next3_opened'] = scrip_df.apply(lambda x: 'GREEN' if (x['next3_open'] >= x['open']) else 'RED',axis=1)\n",
        "    \n",
        "    # 4-hour window\n",
        "    scrip_df['next4_open'] = scrip_df['open'].shift(4)\n",
        "    scrip_df['next4_opened'] = scrip_df.apply(lambda x: 'GREEN' if (x['next4_open'] >= x['open']) else 'RED',axis=1)\n",
        "    \n",
        "    # 6-hour window\n",
        "    scrip_df['next6_open'] = scrip_df['open'].shift(6)\n",
        "    scrip_df['next6_opened'] = scrip_df.apply(lambda x: 'GREEN' if (x['next6_open'] >= x['open']) else 'RED',axis=1)\n",
        "    \n",
        "    # 8-hour window\n",
        "    scrip_df['next8_open'] = scrip_df['open'].shift(8)\n",
        "    scrip_df['next8_opened'] = scrip_df.apply(lambda x: 'GREEN' if (x['next8_open'] >= x['open']) else 'RED',axis=1)\n",
        "    \n",
        "    # 12-hour window\n",
        "    scrip_df['next12_open'] = scrip_df['open'].shift(12)\n",
        "    scrip_df['next12_opened'] = scrip_df.apply(lambda x: 'GREEN' if (x['next12_open'] >= x['open']) else 'RED',axis=1)\n",
        "    \n",
        "    # 24-hour window\n",
        "    scrip_df['next24_open'] = scrip_df['open'].shift(24)\n",
        "    scrip_df['next24_opened'] = scrip_df.apply(lambda x: 'GREEN' if (x['next24_open'] >= x['open']) else 'RED',axis=1)\n",
        "    \n",
        "    # 48-hour window\n",
        "    scrip_df['next48_open'] = scrip_df['open'].shift(48)\n",
        "    scrip_df['next48_opened'] = scrip_df.apply(lambda x: 'GREEN' if (x['next48_open'] >= x['open']) else 'RED',axis=1)\n",
        "    \n",
        "    return scrip_df"
      ]
    },
    {
      "cell_type": "markdown",
      "id": "2db1529d",
      "metadata": {
        "id": "2db1529d"
      },
      "source": [
        "## FIND PATTERNS"
      ]
    },
    {
      "cell_type": "markdown",
      "id": "07804047",
      "metadata": {
        "id": "07804047"
      },
      "source": [
        "### PATTERN BASED ON WINDOW PERIOD"
      ]
    },
    {
      "cell_type": "code",
      "execution_count": 38,
      "id": "109f9efd",
      "metadata": {
        "ExecuteTime": {
          "end_time": "2022-04-02T17:50:53.129353Z",
          "start_time": "2022-04-02T17:50:53.125090Z"
        },
        "id": "109f9efd"
      },
      "outputs": [],
      "source": [
        "def get_grouped_data(scrip_df, closed_col, groupbyday):\n",
        "    group_cols = ['day','hour',closed_col] if groupbyday else ['hour',closed_col] \n",
        "    return pd.DataFrame(scrip_df.groupby(group_cols).size().reset_index())\n",
        "    \n",
        "def get_window_range(hr, window_period):\n",
        "    end_time = f'-{(hr+window_period)%24}:00' if window_period < 24 \\\n",
        "        else f'+{int(window_period/24)}d' \n",
        "    return f'{hr}:00{end_time}'\n",
        "    \n",
        "def get_pattern_for_window(scrip_df, groupbyday = True, window_period = 1): #closed_col = 'closed'):\n",
        "    closed_col = 'closed' if (window_period == 1) else f'next{window_period}_opened'\n",
        "    closed_df = get_grouped_data(scrip_df,  closed_col, groupbyday)\n",
        "    closed_df.rename(columns = {0:'count'},inplace = True)    \n",
        "    merge_cols = ['day','hour'] if groupbyday else ['hour']\n",
        "\n",
        "    closed_total = pd.DataFrame(scrip_df.groupby(merge_cols).size().reset_index())\n",
        "    closed_df = pd.merge(closed_df, closed_total, how='left', on=merge_cols)\n",
        "    \n",
        "    closed_df.rename(columns = {0:'total',closed_col:'profit_or_loss'},inplace = True)\n",
        "    \n",
        "    \n",
        "    closed_df['hours'] = closed_df['hour'].apply(lambda x: get_window_range(x, window_period))\n",
        "    closed_df['window'] = window_period\n",
        "        \n",
        "    closed_df['percent'] = round(closed_df['count']/closed_df['total']*100,2)\n",
        "    closed_df.sort_values('percent',ascending=False, inplace=True)\n",
        "    \n",
        "    final_cols = ['day','hours','window','profit_or_loss','percent'] if groupbyday else ['hours','window','profit_or_loss','percent']\n",
        "    return closed_df[final_cols]\n",
        "   \n"
      ]
    },
    {
      "cell_type": "markdown",
      "id": "e7e3ca89",
      "metadata": {
        "id": "e7e3ca89"
      },
      "source": [
        "## PLOTS"
      ]
    },
    {
      "cell_type": "markdown",
      "id": "fa2ab622",
      "metadata": {
        "id": "fa2ab622"
      },
      "source": [
        "### PLOT BAR CHART"
      ]
    },
    {
      "cell_type": "code",
      "execution_count": 39,
      "id": "62c491c2",
      "metadata": {
        "ExecuteTime": {
          "end_time": "2022-04-02T17:50:53.132949Z",
          "start_time": "2022-04-02T17:50:53.130099Z"
        },
        "id": "62c491c2"
      },
      "outputs": [],
      "source": [
        "def plot_data_bar(chart_df,y_col, title_string, x_label, y_label, palette_type = 'hls', \n",
        "                  show_yvalue = False, ylimmax = None, xticks_rotate = None):\n",
        "    f, ax = plt.subplots(figsize=(16,8))\n",
        "    ax = sns.barplot(x=chart_df.index, y=chart_df[y_col],palette = palette_type)\n",
        "    ax.set( xlabel=x_label,ylabel=y_label,title = title_string)\n",
        "    \n",
        "    if ylimmax is not None:\n",
        "        plt.ylim(ymax = ylimmax)\n",
        "    \n",
        "    if xticks_rotate is not None:\n",
        "        plt.xticks(rotation=xticks_rotate, ha='right')\n",
        "        \n",
        "        \n",
        "    if show_yvalue:\n",
        "        \n",
        "        for i in ax.containers:\n",
        "            ax.bar_label(i,)\n",
        "            \n",
        "            \n",
        "    plt.show()"
      ]
    },
    {
      "cell_type": "markdown",
      "id": "2952995c",
      "metadata": {
        "id": "2952995c"
      },
      "source": [
        "### PLOT THE BEST TIME TO TRADE BAR CHART"
      ]
    },
    {
      "cell_type": "code",
      "execution_count": 40,
      "id": "ba6e0c81",
      "metadata": {
        "ExecuteTime": {
          "end_time": "2022-04-02T17:50:53.138068Z",
          "start_time": "2022-04-02T17:50:53.133732Z"
        },
        "id": "ba6e0c81"
      },
      "outputs": [],
      "source": [
        "def plot_best_time_window(best_window_df, title_string, hue_colors = None):\n",
        "    sns.set(style=\"white\", context=\"talk\")\n",
        "    f, ax = plt.subplots(figsize=(16,10))\n",
        "    if hue_colors is None:\n",
        "        hue_colors = {'RED': \"red\", 'GREEN': \"forestgreen\"}\n",
        "    ax = sns.barplot(x=\"day\", y=\"percent\", hue=\"profit_or_loss\", data=best_window_df,palette = hue_colors)\n",
        "    ax.set( xlabel='Day',ylabel='Percentage',title = f'BEST TIME TO TRADE - {title_string}')\n",
        "    plt.ylim(ymax = 100, ymin = 0)\n",
        "    plt.legend().remove()\n",
        "\n",
        "    # Sort patches based on the rectangle's x value \n",
        "    # (patches are not in order by default and labels don't match otherwise)\n",
        "    patches_dict = {}\n",
        "    for i, p in enumerate(ax.patches):\n",
        "        patches_dict[p.get_x()] = p\n",
        "    sorted_patches = OrderedDict(sorted(patches_dict.items()))\n",
        "    i = 0\n",
        "    for px, p in sorted_patches.items():\n",
        "        ax.text(p.get_x()+p.get_width()/2., p.get_height() + 1, \n",
        "                f\"{int(best_window_df.loc[i]['percent'])}%\",ha=\"center\")\n",
        "        ax.text(p.get_x()+p.get_width()/2., p.get_height() + 8, \n",
        "                f\"{best_window_df.loc[i]['hours']}\",ha=\"center\", rotation=90)\n",
        "        i += 1\n",
        "\n",
        "    plt.show()\n",
        "     \n",
        "\n",
        "def display_window_pattern(pattern_df, title_string):\n",
        "    best_window_data = pattern_df.sort_values(['percent','profit_or_loss'], ascending=False) \\\n",
        "                               .drop_duplicates(['day','profit_or_loss']) \n",
        "    \n",
        "    best_window_data = best_window_data.sort_values(['day','profit_or_loss']).reset_index(drop=True) \n",
        "    plot_best_time_window(best_window_data,title_string)\n",
        "    return best_window_data"
      ]
    },
    {
      "cell_type": "markdown",
      "id": "eef40986",
      "metadata": {
        "id": "eef40986"
      },
      "source": [
        "# HOURLY DATA ANALYSIS"
      ]
    },
    {
      "cell_type": "markdown",
      "id": "fdc360d2",
      "metadata": {
        "id": "fdc360d2"
      },
      "source": [
        "## LOAD THE DATA"
      ]
    },
    {
      "cell_type": "code",
      "execution_count": 43,
      "id": "ded9a60a",
      "metadata": {
        "ExecuteTime": {
          "end_time": "2022-04-02T17:50:53.795800Z",
          "start_time": "2022-04-02T17:50:53.138957Z"
        },
        "scrolled": true,
        "id": "ded9a60a",
        "outputId": "710d44ee-a9d1-4242-82a9-4ec3624b3d2a",
        "colab": {
          "base_uri": "https://localhost:8080/",
          "height": 415
        }
      },
      "outputs": [
        {
          "output_type": "stream",
          "name": "stdout",
          "text": [
            "Shape - initial:(43920, 11)\n",
            "Shape - after preprocess:(8747, 3)\n"
          ]
        },
        {
          "output_type": "error",
          "ename": "AttributeError",
          "evalue": "ignored",
          "traceback": [
            "\u001b[0;31m---------------------------------------------------------------------------\u001b[0m",
            "\u001b[0;31mAttributeError\u001b[0m                            Traceback (most recent call last)",
            "\u001b[0;32m<ipython-input-43-b801587ec23d>\u001b[0m in \u001b[0;36m<module>\u001b[0;34m\u001b[0m\n\u001b[1;32m      5\u001b[0m \u001b[0mscrip_1h_df\u001b[0m \u001b[0;34m=\u001b[0m \u001b[0mpreprocess\u001b[0m\u001b[0;34m(\u001b[0m\u001b[0mcomplete_1h_df\u001b[0m\u001b[0;34m,\u001b[0m \u001b[0mANALYSIS_START_DATE\u001b[0m\u001b[0;34m,\u001b[0m \u001b[0mANALYSIS_END_DATE\u001b[0m\u001b[0;34m)\u001b[0m\u001b[0;34m\u001b[0m\u001b[0;34m\u001b[0m\u001b[0m\n\u001b[1;32m      6\u001b[0m \u001b[0mprint\u001b[0m\u001b[0;34m(\u001b[0m\u001b[0;34mf'Shape - after preprocess:{scrip_1h_df.shape}'\u001b[0m\u001b[0;34m)\u001b[0m\u001b[0;34m\u001b[0m\u001b[0;34m\u001b[0m\u001b[0m\n\u001b[0;32m----> 7\u001b[0;31m \u001b[0mscrip_1h_df\u001b[0m \u001b[0;34m=\u001b[0m \u001b[0madd_timestamp_features\u001b[0m\u001b[0;34m(\u001b[0m\u001b[0mscrip_1h_df\u001b[0m\u001b[0;34m)\u001b[0m\u001b[0;34m\u001b[0m\u001b[0;34m\u001b[0m\u001b[0m\n\u001b[0m\u001b[1;32m      8\u001b[0m \u001b[0mscrip_1h_df\u001b[0m \u001b[0;34m=\u001b[0m \u001b[0madd_profitloss_features\u001b[0m\u001b[0;34m(\u001b[0m\u001b[0mscrip_1h_df\u001b[0m\u001b[0;34m)\u001b[0m\u001b[0;34m\u001b[0m\u001b[0;34m\u001b[0m\u001b[0m\n\u001b[1;32m      9\u001b[0m \u001b[0mscrip_1h_df\u001b[0m \u001b[0;34m=\u001b[0m \u001b[0madd_next_open_features\u001b[0m\u001b[0;34m(\u001b[0m\u001b[0mscrip_1h_df\u001b[0m\u001b[0;34m)\u001b[0m\u001b[0;34m\u001b[0m\u001b[0;34m\u001b[0m\u001b[0m\n",
            "\u001b[0;32m<ipython-input-34-b63dbec937a7>\u001b[0m in \u001b[0;36madd_timestamp_features\u001b[0;34m(scrip_df, add_hours)\u001b[0m\n\u001b[1;32m     12\u001b[0m \u001b[0;34m\u001b[0m\u001b[0m\n\u001b[1;32m     13\u001b[0m     \u001b[0mscrip_df\u001b[0m\u001b[0;34m[\u001b[0m\u001b[0;34m'day'\u001b[0m\u001b[0;34m]\u001b[0m \u001b[0;34m=\u001b[0m \u001b[0mscrip_df\u001b[0m\u001b[0;34m.\u001b[0m\u001b[0mapply\u001b[0m\u001b[0;34m(\u001b[0m\u001b[0;32mlambda\u001b[0m \u001b[0mx\u001b[0m\u001b[0;34m:\u001b[0m \u001b[0mget_day_of_week\u001b[0m\u001b[0;34m(\u001b[0m\u001b[0mx\u001b[0m\u001b[0;34m)\u001b[0m\u001b[0;34m,\u001b[0m\u001b[0maxis\u001b[0m\u001b[0;34m=\u001b[0m\u001b[0;36m1\u001b[0m\u001b[0;34m)\u001b[0m\u001b[0;34m.\u001b[0m\u001b[0mastype\u001b[0m\u001b[0;34m(\u001b[0m\u001b[0mDAYS_OF_WEEK_CAT\u001b[0m\u001b[0;34m)\u001b[0m\u001b[0;34m\u001b[0m\u001b[0;34m\u001b[0m\u001b[0m\n\u001b[0;32m---> 14\u001b[0;31m     \u001b[0mscrip_df\u001b[0m\u001b[0;34m[\u001b[0m\u001b[0;34m'week'\u001b[0m\u001b[0;34m]\u001b[0m \u001b[0;34m=\u001b[0m \u001b[0mscrip_df\u001b[0m\u001b[0;34m.\u001b[0m\u001b[0mapply\u001b[0m\u001b[0;34m(\u001b[0m\u001b[0;32mlambda\u001b[0m \u001b[0mx\u001b[0m\u001b[0;34m:\u001b[0m \u001b[0mget_week\u001b[0m\u001b[0;34m(\u001b[0m\u001b[0mx\u001b[0m\u001b[0;34m)\u001b[0m\u001b[0;34m,\u001b[0m\u001b[0maxis\u001b[0m\u001b[0;34m=\u001b[0m\u001b[0;36m1\u001b[0m\u001b[0;34m)\u001b[0m\u001b[0;34m\u001b[0m\u001b[0;34m\u001b[0m\u001b[0m\n\u001b[0m\u001b[1;32m     15\u001b[0m \u001b[0;34m\u001b[0m\u001b[0m\n\u001b[1;32m     16\u001b[0m     \u001b[0;32mif\u001b[0m \u001b[0madd_hours\u001b[0m\u001b[0;34m:\u001b[0m\u001b[0;34m\u001b[0m\u001b[0;34m\u001b[0m\u001b[0m\n",
            "\u001b[0;32m/usr/local/lib/python3.7/dist-packages/pandas/core/frame.py\u001b[0m in \u001b[0;36mapply\u001b[0;34m(self, func, axis, raw, result_type, args, **kwargs)\u001b[0m\n\u001b[1;32m   8738\u001b[0m             \u001b[0mkwargs\u001b[0m\u001b[0;34m=\u001b[0m\u001b[0mkwargs\u001b[0m\u001b[0;34m,\u001b[0m\u001b[0;34m\u001b[0m\u001b[0;34m\u001b[0m\u001b[0m\n\u001b[1;32m   8739\u001b[0m         )\n\u001b[0;32m-> 8740\u001b[0;31m         \u001b[0;32mreturn\u001b[0m \u001b[0mop\u001b[0m\u001b[0;34m.\u001b[0m\u001b[0mapply\u001b[0m\u001b[0;34m(\u001b[0m\u001b[0;34m)\u001b[0m\u001b[0;34m\u001b[0m\u001b[0;34m\u001b[0m\u001b[0m\n\u001b[0m\u001b[1;32m   8741\u001b[0m \u001b[0;34m\u001b[0m\u001b[0m\n\u001b[1;32m   8742\u001b[0m     def applymap(\n",
            "\u001b[0;32m/usr/local/lib/python3.7/dist-packages/pandas/core/apply.py\u001b[0m in \u001b[0;36mapply\u001b[0;34m(self)\u001b[0m\n\u001b[1;32m    686\u001b[0m             \u001b[0;32mreturn\u001b[0m \u001b[0mself\u001b[0m\u001b[0;34m.\u001b[0m\u001b[0mapply_raw\u001b[0m\u001b[0;34m(\u001b[0m\u001b[0;34m)\u001b[0m\u001b[0;34m\u001b[0m\u001b[0;34m\u001b[0m\u001b[0m\n\u001b[1;32m    687\u001b[0m \u001b[0;34m\u001b[0m\u001b[0m\n\u001b[0;32m--> 688\u001b[0;31m         \u001b[0;32mreturn\u001b[0m \u001b[0mself\u001b[0m\u001b[0;34m.\u001b[0m\u001b[0mapply_standard\u001b[0m\u001b[0;34m(\u001b[0m\u001b[0;34m)\u001b[0m\u001b[0;34m\u001b[0m\u001b[0;34m\u001b[0m\u001b[0m\n\u001b[0m\u001b[1;32m    689\u001b[0m \u001b[0;34m\u001b[0m\u001b[0m\n\u001b[1;32m    690\u001b[0m     \u001b[0;32mdef\u001b[0m \u001b[0magg\u001b[0m\u001b[0;34m(\u001b[0m\u001b[0mself\u001b[0m\u001b[0;34m)\u001b[0m\u001b[0;34m:\u001b[0m\u001b[0;34m\u001b[0m\u001b[0;34m\u001b[0m\u001b[0m\n",
            "\u001b[0;32m/usr/local/lib/python3.7/dist-packages/pandas/core/apply.py\u001b[0m in \u001b[0;36mapply_standard\u001b[0;34m(self)\u001b[0m\n\u001b[1;32m    810\u001b[0m \u001b[0;34m\u001b[0m\u001b[0m\n\u001b[1;32m    811\u001b[0m     \u001b[0;32mdef\u001b[0m \u001b[0mapply_standard\u001b[0m\u001b[0;34m(\u001b[0m\u001b[0mself\u001b[0m\u001b[0;34m)\u001b[0m\u001b[0;34m:\u001b[0m\u001b[0;34m\u001b[0m\u001b[0;34m\u001b[0m\u001b[0m\n\u001b[0;32m--> 812\u001b[0;31m         \u001b[0mresults\u001b[0m\u001b[0;34m,\u001b[0m \u001b[0mres_index\u001b[0m \u001b[0;34m=\u001b[0m \u001b[0mself\u001b[0m\u001b[0;34m.\u001b[0m\u001b[0mapply_series_generator\u001b[0m\u001b[0;34m(\u001b[0m\u001b[0;34m)\u001b[0m\u001b[0;34m\u001b[0m\u001b[0;34m\u001b[0m\u001b[0m\n\u001b[0m\u001b[1;32m    813\u001b[0m \u001b[0;34m\u001b[0m\u001b[0m\n\u001b[1;32m    814\u001b[0m         \u001b[0;31m# wrap results\u001b[0m\u001b[0;34m\u001b[0m\u001b[0;34m\u001b[0m\u001b[0;34m\u001b[0m\u001b[0m\n",
            "\u001b[0;32m/usr/local/lib/python3.7/dist-packages/pandas/core/apply.py\u001b[0m in \u001b[0;36mapply_series_generator\u001b[0;34m(self)\u001b[0m\n\u001b[1;32m    826\u001b[0m             \u001b[0;32mfor\u001b[0m \u001b[0mi\u001b[0m\u001b[0;34m,\u001b[0m \u001b[0mv\u001b[0m \u001b[0;32min\u001b[0m \u001b[0menumerate\u001b[0m\u001b[0;34m(\u001b[0m\u001b[0mseries_gen\u001b[0m\u001b[0;34m)\u001b[0m\u001b[0;34m:\u001b[0m\u001b[0;34m\u001b[0m\u001b[0;34m\u001b[0m\u001b[0m\n\u001b[1;32m    827\u001b[0m                 \u001b[0;31m# ignore SettingWithCopy here in case the user mutates\u001b[0m\u001b[0;34m\u001b[0m\u001b[0;34m\u001b[0m\u001b[0;34m\u001b[0m\u001b[0m\n\u001b[0;32m--> 828\u001b[0;31m                 \u001b[0mresults\u001b[0m\u001b[0;34m[\u001b[0m\u001b[0mi\u001b[0m\u001b[0;34m]\u001b[0m \u001b[0;34m=\u001b[0m \u001b[0mself\u001b[0m\u001b[0;34m.\u001b[0m\u001b[0mf\u001b[0m\u001b[0;34m(\u001b[0m\u001b[0mv\u001b[0m\u001b[0;34m)\u001b[0m\u001b[0;34m\u001b[0m\u001b[0;34m\u001b[0m\u001b[0m\n\u001b[0m\u001b[1;32m    829\u001b[0m                 \u001b[0;32mif\u001b[0m \u001b[0misinstance\u001b[0m\u001b[0;34m(\u001b[0m\u001b[0mresults\u001b[0m\u001b[0;34m[\u001b[0m\u001b[0mi\u001b[0m\u001b[0;34m]\u001b[0m\u001b[0;34m,\u001b[0m \u001b[0mABCSeries\u001b[0m\u001b[0;34m)\u001b[0m\u001b[0;34m:\u001b[0m\u001b[0;34m\u001b[0m\u001b[0;34m\u001b[0m\u001b[0m\n\u001b[1;32m    830\u001b[0m                     \u001b[0;31m# If we have a view on v, we need to make a copy because\u001b[0m\u001b[0;34m\u001b[0m\u001b[0;34m\u001b[0m\u001b[0;34m\u001b[0m\u001b[0m\n",
            "\u001b[0;32m<ipython-input-34-b63dbec937a7>\u001b[0m in \u001b[0;36m<lambda>\u001b[0;34m(x)\u001b[0m\n\u001b[1;32m     12\u001b[0m \u001b[0;34m\u001b[0m\u001b[0m\n\u001b[1;32m     13\u001b[0m     \u001b[0mscrip_df\u001b[0m\u001b[0;34m[\u001b[0m\u001b[0;34m'day'\u001b[0m\u001b[0;34m]\u001b[0m \u001b[0;34m=\u001b[0m \u001b[0mscrip_df\u001b[0m\u001b[0;34m.\u001b[0m\u001b[0mapply\u001b[0m\u001b[0;34m(\u001b[0m\u001b[0;32mlambda\u001b[0m \u001b[0mx\u001b[0m\u001b[0;34m:\u001b[0m \u001b[0mget_day_of_week\u001b[0m\u001b[0;34m(\u001b[0m\u001b[0mx\u001b[0m\u001b[0;34m)\u001b[0m\u001b[0;34m,\u001b[0m\u001b[0maxis\u001b[0m\u001b[0;34m=\u001b[0m\u001b[0;36m1\u001b[0m\u001b[0;34m)\u001b[0m\u001b[0;34m.\u001b[0m\u001b[0mastype\u001b[0m\u001b[0;34m(\u001b[0m\u001b[0mDAYS_OF_WEEK_CAT\u001b[0m\u001b[0;34m)\u001b[0m\u001b[0;34m\u001b[0m\u001b[0;34m\u001b[0m\u001b[0m\n\u001b[0;32m---> 14\u001b[0;31m     \u001b[0mscrip_df\u001b[0m\u001b[0;34m[\u001b[0m\u001b[0;34m'week'\u001b[0m\u001b[0;34m]\u001b[0m \u001b[0;34m=\u001b[0m \u001b[0mscrip_df\u001b[0m\u001b[0;34m.\u001b[0m\u001b[0mapply\u001b[0m\u001b[0;34m(\u001b[0m\u001b[0;32mlambda\u001b[0m \u001b[0mx\u001b[0m\u001b[0;34m:\u001b[0m \u001b[0mget_week\u001b[0m\u001b[0;34m(\u001b[0m\u001b[0mx\u001b[0m\u001b[0;34m)\u001b[0m\u001b[0;34m,\u001b[0m\u001b[0maxis\u001b[0m\u001b[0;34m=\u001b[0m\u001b[0;36m1\u001b[0m\u001b[0;34m)\u001b[0m\u001b[0;34m\u001b[0m\u001b[0;34m\u001b[0m\u001b[0m\n\u001b[0m\u001b[1;32m     15\u001b[0m \u001b[0;34m\u001b[0m\u001b[0m\n\u001b[1;32m     16\u001b[0m     \u001b[0;32mif\u001b[0m \u001b[0madd_hours\u001b[0m\u001b[0;34m:\u001b[0m\u001b[0;34m\u001b[0m\u001b[0;34m\u001b[0m\u001b[0m\n",
            "\u001b[0;32m<ipython-input-34-b63dbec937a7>\u001b[0m in \u001b[0;36mget_week\u001b[0;34m(row)\u001b[0m\n\u001b[1;32m      3\u001b[0m \u001b[0;34m\u001b[0m\u001b[0m\n\u001b[1;32m      4\u001b[0m \u001b[0;32mdef\u001b[0m \u001b[0mget_week\u001b[0m\u001b[0;34m(\u001b[0m\u001b[0mrow\u001b[0m\u001b[0;34m)\u001b[0m\u001b[0;34m:\u001b[0m\u001b[0;34m\u001b[0m\u001b[0;34m\u001b[0m\u001b[0m\n\u001b[0;32m----> 5\u001b[0;31m     \u001b[0;32mreturn\u001b[0m \u001b[0mrow\u001b[0m\u001b[0;34m.\u001b[0m\u001b[0mname\u001b[0m\u001b[0;34m.\u001b[0m\u001b[0misocalendar\u001b[0m\u001b[0;34m(\u001b[0m\u001b[0;34m)\u001b[0m\u001b[0;34m.\u001b[0m\u001b[0mweek\u001b[0m\u001b[0;34m\u001b[0m\u001b[0;34m\u001b[0m\u001b[0m\n\u001b[0m\u001b[1;32m      6\u001b[0m \u001b[0;34m\u001b[0m\u001b[0m\n\u001b[1;32m      7\u001b[0m \u001b[0;34m\u001b[0m\u001b[0m\n",
            "\u001b[0;31mAttributeError\u001b[0m: 'tuple' object has no attribute 'week'"
          ]
        }
      ],
      "source": [
        "complete_1h_df = pd.read_csv(INPUT_HOURLY_DATA_FILEPATH)\n",
        "complete_1h_df = set_actual_date(complete_1h_df)\n",
        "\n",
        "print(f'Shape - initial:{complete_1h_df.shape}')\n",
        "scrip_1h_df = preprocess(complete_1h_df, ANALYSIS_START_DATE, ANALYSIS_END_DATE)\n",
        "print(f'Shape - after preprocess:{scrip_1h_df.shape}')\n",
        "scrip_1h_df = add_timestamp_features(scrip_1h_df)\n",
        "scrip_1h_df = add_profitloss_features(scrip_1h_df)\n",
        "scrip_1h_df = add_next_open_features(scrip_1h_df)\n",
        "\n",
        "print(f'Shape - after adding features:{scrip_1h_df.shape}')\n",
        "display(scrip_1h_df.head())\n",
        "display(scrip_1h_df.tail())"
      ]
    },
    {
      "cell_type": "code",
      "execution_count": null,
      "id": "a3fdbe60",
      "metadata": {
        "id": "a3fdbe60"
      },
      "outputs": [],
      "source": []
    },
    {
      "cell_type": "markdown",
      "id": "7627495e",
      "metadata": {
        "id": "7627495e"
      },
      "source": [
        "## ANALYSIS"
      ]
    },
    {
      "cell_type": "markdown",
      "id": "26bf43a6",
      "metadata": {
        "id": "26bf43a6"
      },
      "source": [
        "### AVERAGE HOURLY VOLUME TRADED"
      ]
    },
    {
      "cell_type": "code",
      "execution_count": null,
      "id": "59445da1",
      "metadata": {
        "ExecuteTime": {
          "end_time": "2022-04-02T17:50:53.903499Z",
          "start_time": "2022-04-02T17:50:53.796463Z"
        },
        "id": "59445da1"
      },
      "outputs": [],
      "source": [
        "avg_hourly_trade = pd.DataFrame(scrip_1h_df.groupby(['hour'])[VOLUME_COLUMN].mean().sort_values(ascending=False))\n",
        "avg_hourly_trade.sort_index(inplace=True)\n",
        "print(\"\\n\\n\")\n",
        "plot_data_bar(avg_hourly_trade,VOLUME_COLUMN,f'AVERAGE HOURLY VOLUME TRADED - {scrip_name} 2021','Hour',f'Volume-{scrip}')\n",
        "\n"
      ]
    },
    {
      "cell_type": "markdown",
      "id": "7fd1d9a2",
      "metadata": {
        "id": "7fd1d9a2"
      },
      "source": [
        "### AVERAGE DAILY VOLUME TRADED"
      ]
    },
    {
      "cell_type": "code",
      "execution_count": null,
      "id": "526416ba",
      "metadata": {
        "ExecuteTime": {
          "end_time": "2022-04-02T17:50:53.976091Z",
          "start_time": "2022-04-02T17:50:53.904294Z"
        },
        "id": "526416ba"
      },
      "outputs": [],
      "source": [
        "avg_weekly_trade = pd.DataFrame(scrip_1h_df.groupby(['day'])[VOLUME_COLUMN].mean().sort_values(ascending=False))\n",
        "\n",
        "print(\"\\n\\n\")\n",
        "plot_data_bar(avg_weekly_trade.loc[DAYS_OF_WEEK],VOLUME_COLUMN,\n",
        "              f'AVERAGE DAILY VOLUME TRADED - {scrip_name} 2021','Day',f'Volume-{scrip}', show_yvalue = True)\n"
      ]
    },
    {
      "cell_type": "markdown",
      "id": "8b1f9cee",
      "metadata": {
        "id": "8b1f9cee"
      },
      "source": [
        "### AVERAGE HOURLY VOLUME TRADED ON WEEKENDS"
      ]
    },
    {
      "cell_type": "code",
      "execution_count": null,
      "id": "2ab506c7",
      "metadata": {
        "ExecuteTime": {
          "end_time": "2022-04-02T17:50:54.078889Z",
          "start_time": "2022-04-02T17:50:53.976989Z"
        },
        "id": "2ab506c7"
      },
      "outputs": [],
      "source": [
        "avg_weekend_hourly_trade = pd.DataFrame(scrip_1h_df[scrip_1h_df['day'].isin(WEEKEND_DAYS)].groupby(['hour'])[VOLUME_COLUMN].mean().sort_values(ascending=False))\n",
        "avg_weekend_hourly_trade.sort_index(inplace=True)\n",
        "print(\"\\n\")\n",
        "plot_data_bar(avg_weekend_hourly_trade,VOLUME_COLUMN,f'AVERAGE HOURLY VOLUME TRADED ON WEEKENDS - {scrip_name} 2021','Hour',f'Volume-{scrip}',\n",
        "             palette_type = 'colorblind',ylimmax = 4500)\n"
      ]
    },
    {
      "cell_type": "markdown",
      "id": "ed8bef96",
      "metadata": {
        "id": "ed8bef96"
      },
      "source": [
        "### AVERAGE HOURLY VOLUME TRADED ON WEEKDAYS"
      ]
    },
    {
      "cell_type": "code",
      "execution_count": null,
      "id": "ef1628db",
      "metadata": {
        "ExecuteTime": {
          "end_time": "2022-04-02T17:50:54.179869Z",
          "start_time": "2022-04-02T17:50:54.079879Z"
        },
        "id": "ef1628db"
      },
      "outputs": [],
      "source": [
        "avg_weekdays_hourly_trade = pd.DataFrame(scrip_1h_df[scrip_1h_df['day'].isin(WEEKDAY_DAYS)].groupby(['hour'])[VOLUME_COLUMN].mean().sort_values(ascending=False))\n",
        "avg_weekdays_hourly_trade.sort_index(inplace=True)\n",
        "print()\n",
        "plot_data_bar(avg_weekdays_hourly_trade,VOLUME_COLUMN,f'AVERAGE HOURLY VOLUME TRADED ON WEEKDAYS - {scrip_name} 2021','Hour',f'Volume-{scrip}',\n",
        "             palette_type = 'colorblind',ylimmax = 4500)\n",
        "\n",
        "\n"
      ]
    },
    {
      "cell_type": "markdown",
      "id": "54582321",
      "metadata": {
        "id": "54582321"
      },
      "source": [
        "### BEST DAILY TRADING TIME"
      ]
    },
    {
      "cell_type": "markdown",
      "id": "77bb6baf",
      "metadata": {
        "id": "77bb6baf"
      },
      "source": [
        "#### HOURLY WINDOW"
      ]
    },
    {
      "cell_type": "code",
      "execution_count": null,
      "id": "6b0c4c48",
      "metadata": {
        "ExecuteTime": {
          "end_time": "2022-04-02T17:50:54.293690Z",
          "start_time": "2022-04-02T17:50:54.180580Z"
        },
        "id": "6b0c4c48"
      },
      "outputs": [],
      "source": [
        "hourly_pattern = get_pattern_for_window(scrip_1h_df,  groupbyday = True, window_period = 1)\n",
        "best_hourly_pattern = display_window_pattern(hourly_pattern,\"ONE HOUR WINDOW\")"
      ]
    },
    {
      "cell_type": "markdown",
      "id": "b5057336",
      "metadata": {
        "id": "b5057336"
      },
      "source": [
        "#### TWO-HOURS WINDOW"
      ]
    },
    {
      "cell_type": "code",
      "execution_count": null,
      "id": "c8c80e3e",
      "metadata": {
        "ExecuteTime": {
          "end_time": "2022-04-02T17:50:54.402026Z",
          "start_time": "2022-04-02T17:50:54.294834Z"
        },
        "id": "c8c80e3e"
      },
      "outputs": [],
      "source": [
        "hourly2_pattern = get_pattern_for_window(scrip_1h_df,  groupbyday = True, window_period = 2)\n",
        "best_hourly2_pattern = display_window_pattern(hourly2_pattern,\"TWO HOURS WINDOW\")"
      ]
    },
    {
      "cell_type": "markdown",
      "id": "908936ff",
      "metadata": {
        "id": "908936ff"
      },
      "source": [
        "#### THREE-HOURS WINDOW"
      ]
    },
    {
      "cell_type": "code",
      "execution_count": null,
      "id": "e46f557a",
      "metadata": {
        "ExecuteTime": {
          "end_time": "2022-04-02T17:50:54.544270Z",
          "start_time": "2022-04-02T17:50:54.402966Z"
        },
        "id": "e46f557a"
      },
      "outputs": [],
      "source": [
        "hourly3_pattern = get_pattern_for_window(scrip_1h_df,  groupbyday = True, window_period = 3)\n",
        "best_hourly3_pattern = display_window_pattern(hourly3_pattern,\"THREE HOURS WINDOW\")"
      ]
    },
    {
      "cell_type": "markdown",
      "id": "0c719ee5",
      "metadata": {
        "ExecuteTime": {
          "end_time": "2022-03-26T13:55:56.809212Z",
          "start_time": "2022-03-26T13:55:56.802375Z"
        },
        "id": "0c719ee5"
      },
      "source": [
        "#### FOUR-HOURS WINDOW"
      ]
    },
    {
      "cell_type": "code",
      "execution_count": null,
      "id": "a423474a",
      "metadata": {
        "ExecuteTime": {
          "end_time": "2022-04-02T17:50:54.649318Z",
          "start_time": "2022-04-02T17:50:54.544957Z"
        },
        "id": "a423474a"
      },
      "outputs": [],
      "source": [
        "hourly4_pattern = get_pattern_for_window(scrip_1h_df,  groupbyday = True, window_period = 4)\n",
        "best_hourly4_pattern = display_window_pattern(hourly4_pattern,\"FOUR HOURS WINDOW\")\n"
      ]
    },
    {
      "cell_type": "markdown",
      "id": "01b49bf0",
      "metadata": {
        "ExecuteTime": {
          "end_time": "2022-03-26T13:56:01.252699Z",
          "start_time": "2022-03-26T13:56:01.247946Z"
        },
        "id": "01b49bf0"
      },
      "source": [
        "#### SIX-HOURS WINDOW"
      ]
    },
    {
      "cell_type": "code",
      "execution_count": null,
      "id": "e08eef85",
      "metadata": {
        "ExecuteTime": {
          "end_time": "2022-04-02T17:50:54.755103Z",
          "start_time": "2022-04-02T17:50:54.649996Z"
        },
        "id": "e08eef85"
      },
      "outputs": [],
      "source": [
        "hourly6_pattern = get_pattern_for_window(scrip_1h_df,  groupbyday = True, window_period = 6)\n",
        "best_hourly6_pattern = display_window_pattern(hourly6_pattern,\"SIX HOURS WINDOW\")"
      ]
    },
    {
      "cell_type": "markdown",
      "id": "fb865334",
      "metadata": {
        "ExecuteTime": {
          "end_time": "2022-03-26T13:56:05.249286Z",
          "start_time": "2022-03-26T13:56:05.243883Z"
        },
        "id": "fb865334"
      },
      "source": [
        "#### EIGHT-HOURS WINDOW"
      ]
    },
    {
      "cell_type": "code",
      "execution_count": null,
      "id": "647e3706",
      "metadata": {
        "ExecuteTime": {
          "end_time": "2022-04-02T17:50:54.860946Z",
          "start_time": "2022-04-02T17:50:54.755756Z"
        },
        "id": "647e3706"
      },
      "outputs": [],
      "source": [
        "hourly8_pattern = get_pattern_for_window(scrip_1h_df,  groupbyday = True, window_period = 8)\n",
        "best_hourly8_pattern = display_window_pattern(hourly8_pattern,\"EIGHT HOURS WINDOW\")"
      ]
    },
    {
      "cell_type": "markdown",
      "id": "cda92944",
      "metadata": {
        "id": "cda92944"
      },
      "source": [
        "#### TWELVE-HOURS WINDOW"
      ]
    },
    {
      "cell_type": "code",
      "execution_count": null,
      "id": "47e56a9d",
      "metadata": {
        "ExecuteTime": {
          "end_time": "2022-04-02T17:50:54.966550Z",
          "start_time": "2022-04-02T17:50:54.861618Z"
        },
        "id": "47e56a9d"
      },
      "outputs": [],
      "source": [
        "hourly12_pattern = get_pattern_for_window(scrip_1h_df,  groupbyday = True, window_period = 12)\n",
        "best_hourly12_pattern = display_window_pattern(hourly12_pattern,\"TWELVE HOURS WINDOW\")"
      ]
    },
    {
      "cell_type": "markdown",
      "id": "06d18aa1",
      "metadata": {
        "id": "06d18aa1"
      },
      "source": [
        "#### 1-DAY WINDOW"
      ]
    },
    {
      "cell_type": "code",
      "execution_count": null,
      "id": "f40f5231",
      "metadata": {
        "ExecuteTime": {
          "end_time": "2022-04-02T17:50:55.069169Z",
          "start_time": "2022-04-02T17:50:54.967206Z"
        },
        "id": "f40f5231"
      },
      "outputs": [],
      "source": [
        "hourly24_pattern = get_pattern_for_window(scrip_1h_df,  groupbyday = True, window_period = 24)\n",
        "best_hourly24_pattern = display_window_pattern(hourly24_pattern,\"1-DAY WINDOW\")"
      ]
    },
    {
      "cell_type": "markdown",
      "id": "11599e95",
      "metadata": {
        "id": "11599e95"
      },
      "source": [
        "#### 2-DAYS WINDOW"
      ]
    },
    {
      "cell_type": "code",
      "execution_count": null,
      "id": "d17faa3a",
      "metadata": {
        "ExecuteTime": {
          "end_time": "2022-04-02T17:50:55.175581Z",
          "start_time": "2022-04-02T17:50:55.069837Z"
        },
        "id": "d17faa3a"
      },
      "outputs": [],
      "source": [
        "hourly48_pattern = get_pattern_for_window(scrip_1h_df,  groupbyday = True, window_period = 48)\n",
        "best_hourly48_pattern = display_window_pattern(hourly48_pattern,\"2-DAYS WINDOW\")"
      ]
    },
    {
      "cell_type": "markdown",
      "id": "ef826681",
      "metadata": {
        "id": "ef826681"
      },
      "source": [
        "### BEST TRADING TIME FOR A GIVEN DAY"
      ]
    },
    {
      "cell_type": "code",
      "execution_count": null,
      "id": "5e2b7b20",
      "metadata": {
        "ExecuteTime": {
          "end_time": "2022-04-02T17:50:55.177967Z",
          "start_time": "2022-04-02T17:50:55.176271Z"
        },
        "id": "5e2b7b20"
      },
      "outputs": [],
      "source": [
        "TRADING_DAY = 'Saturday'\n",
        "TRADING_WINDOW_HRS = 3"
      ]
    },
    {
      "cell_type": "code",
      "execution_count": null,
      "id": "86f5306d",
      "metadata": {
        "ExecuteTime": {
          "end_time": "2022-04-02T17:50:55.337432Z",
          "start_time": "2022-04-02T17:50:55.182436Z"
        },
        "id": "86f5306d"
      },
      "outputs": [],
      "source": [
        "day_scrip_df = scrip_1h_df[scrip_1h_df['day'] == TRADING_DAY]\n",
        "\n",
        "sat_hourly_pattern = get_pattern_for_window(day_scrip_df,  groupbyday = False, window_period = TRADING_WINDOW_HRS)\n",
        "\n",
        "sat_hourly_pattern['hour'] = sat_hourly_pattern['hours'].str.split(':',n=-1, expand=True)[0]\n",
        "sat_hourly_pattern['hour'] = sat_hourly_pattern['hour'].astype(int)\n",
        "sat_hourly_pattern = sat_hourly_pattern[sat_hourly_pattern['profit_or_loss'] == 'GREEN']\n",
        "sat_hourly_pattern = sat_hourly_pattern.sort_values('hour').set_index('hours')\n",
        "sat_hourly_pattern['percent'] = round(sat_hourly_pattern['percent'] ,1)\n",
        "\n",
        "\n",
        "plot_data_bar(sat_hourly_pattern,'percent',\n",
        "              f'THREE HOUR WINDOW POSITIVE RETURNS ON SATURDAYS OF 2021 - {scrip_name}',\n",
        "              'Trade Window (hrs)','Profit Chances (%)',\n",
        "              palette_type = 'Accent',\n",
        "             show_yvalue = True, xticks_rotate = 90,ylimmax=100)\n",
        "\n",
        "\n",
        "sat_hourly_pattern\n",
        "\n"
      ]
    },
    {
      "cell_type": "markdown",
      "id": "c8b69dc2",
      "metadata": {
        "id": "c8b69dc2"
      },
      "source": [
        "### BEST TRADING TIME FOR EACH DAY IN THE WEEK"
      ]
    },
    {
      "cell_type": "code",
      "execution_count": null,
      "id": "30826a2d",
      "metadata": {
        "ExecuteTime": {
          "end_time": "2022-03-30T14:42:46.461828Z",
          "start_time": "2022-03-30T14:42:46.443579Z"
        },
        "id": "30826a2d"
      },
      "outputs": [],
      "source": []
    },
    {
      "cell_type": "code",
      "execution_count": null,
      "id": "3eea20a2",
      "metadata": {
        "ExecuteTime": {
          "end_time": "2022-04-02T17:50:55.427287Z",
          "start_time": "2022-04-02T17:50:55.338009Z"
        },
        "id": "3eea20a2"
      },
      "outputs": [],
      "source": [
        "\n",
        "best_trading_window_df = pd.concat([best_hourly_pattern,best_hourly2_pattern,best_hourly3_pattern,best_hourly4_pattern,\n",
        "           best_hourly6_pattern,best_hourly8_pattern,best_hourly12_pattern,best_hourly24_pattern])\n",
        "\n",
        "best_trading_window_df = best_trading_window_df[best_trading_window_df['profit_or_loss'] == 'GREEN']\n",
        "\n",
        "\n",
        "best_trading_window_df = best_trading_window_df.sort_values(['day','percent'], ascending=False) \\\n",
        "                               .drop_duplicates(['day'])\n",
        "best_trading_window_df = best_trading_window_df.sort_values(['day']).reset_index(drop=True)\n",
        "\n",
        "plot_best_time_window(best_trading_window_df, 'DAILY BEST WINDOW',hue_colors = 'autumn_r')\n",
        "\n",
        "display(best_trading_window_df[['day','hours','percent']])\n"
      ]
    },
    {
      "cell_type": "markdown",
      "id": "e286bb6b",
      "metadata": {
        "id": "e286bb6b"
      },
      "source": [
        "## TEST RESULTS"
      ]
    },
    {
      "cell_type": "markdown",
      "id": "1cfe6683",
      "metadata": {
        "id": "1cfe6683"
      },
      "source": [
        "### TEST CONFIG"
      ]
    },
    {
      "cell_type": "markdown",
      "id": "c8df7f3b",
      "metadata": {
        "id": "c8df7f3b"
      },
      "source": [
        "### PREPROCESS TEST DATA"
      ]
    },
    {
      "cell_type": "code",
      "execution_count": null,
      "id": "14955f79",
      "metadata": {
        "ExecuteTime": {
          "end_time": "2022-04-02T17:50:55.464779Z",
          "start_time": "2022-04-02T17:50:55.428085Z"
        },
        "id": "14955f79"
      },
      "outputs": [],
      "source": [
        "test_df = preprocess(complete_1h_df, TEST_START_DATE, TEST_END_DATE)\n",
        "test_df = add_timestamp_features(test_df)"
      ]
    },
    {
      "cell_type": "markdown",
      "id": "2b135324",
      "metadata": {
        "id": "2b135324"
      },
      "source": [
        "### GET DETAILS ON TEST DATA BASED ON WINDOW OR DAY-WINDOW COMBINATION"
      ]
    },
    {
      "cell_type": "code",
      "execution_count": null,
      "id": "c807fb9c",
      "metadata": {
        "ExecuteTime": {
          "end_time": "2022-04-02T17:50:55.470499Z",
          "start_time": "2022-04-02T17:50:55.465531Z"
        },
        "id": "c807fb9c"
      },
      "outputs": [],
      "source": [
        "def shift_close_price(x):\n",
        "    shifted_price_col = f'next{x[\"window\"]}_open' if x[\"window\"] > 1 else 'close'\n",
        "    return x[shifted_price_col]\n",
        "    \n",
        "def get_test_detailed_trade_df(test_data, window_period, best_timing_df, min_percent = 0):\n",
        "    if window_period is None:\n",
        "        test_data['window'] = test_data['day'].apply(\n",
        "                                lambda x: best_trading_window_df[best_trading_window_df['day'] == x]['window'].iloc[0])\n",
        "    else:\n",
        "        test_data['window'] = window_period\n",
        "    \n",
        "    test_data = add_next_open_features(test_data)\n",
        "\n",
        "    test_data['window_price'] = test_data.apply(shift_close_price,axis=1)\n",
        "    test_data.reset_index(inplace=True)\n",
        "    test_data = test_data[(test_data['window_price'].notna())]\n",
        "    \n",
        "    best_timing_df = best_timing_df[best_timing_df['profit_or_loss'] == 'GREEN']\n",
        "    best_timing_df['hour'] = best_timing_df['hours'].str.split(':',n=-1, expand=True)[0]\n",
        "    best_timing_df['hour'] = best_timing_df['hour'].astype(int)\n",
        "    # Filter based on minimum percentage of GREENs to consider the trade timing\n",
        "    best_timing_df = best_timing_df[best_timing_df['percent'] > min_percent]\n",
        "     \n",
        "    test_filtered_df = pd.merge(best_timing_df, test_data, on=['day','hour'], how='left')\n",
        "\n",
        "    test_filtered_df['qty'] = INVESTMENT_AMOUNT_DOLLARS/test_filtered_df['open']\n",
        "    test_filtered_df['profit_loss'] = test_filtered_df['qty'] * test_filtered_df['window_price'] - INVESTMENT_AMOUNT_DOLLARS\n",
        "    \n",
        "    if (window_period == 3) or (window_period == 4):\n",
        "        # FOR DEBUGGING\n",
        "        print(f'DAILY BEST TIMINGS FOR {window_period} HOURS WINDOW')\n",
        "        display(best_timing_df[['day','hours','percent']])\n",
        "        pl_df = pd.DataFrame(test_filtered_df.groupby('day')['profit_loss'].sum())\n",
        "        pl_df.reset_index(inplace=True)\n",
        "        display(pl_df)\n",
        "        # test_data.to_csv(f\"test_data_{window_period}.csv\")\n",
        "        # test_filtered_df.to_csv(f\"test_filtered_{window_period}.csv\")\n",
        "        \n",
        "    return test_filtered_df\n",
        "    \n",
        "\n",
        "def get_test_profit_loss(test_data, window_period, best_timing_df, min_percent = 0):\n",
        "    test_filtered_df = get_test_detailed_trade_df(test_data, window_period, best_timing_df,min_percent)\n",
        "    profit_loss = round(test_filtered_df['profit_loss'].sum(),2)\n",
        "    return profit_loss\n",
        "    "
      ]
    },
    {
      "cell_type": "markdown",
      "id": "af476a78",
      "metadata": {
        "id": "af476a78"
      },
      "source": [
        "### TRADE DAILY FOR BEST TIMING IN THE GIVEN WINDOW PERIOD"
      ]
    },
    {
      "cell_type": "code",
      "execution_count": null,
      "id": "0a78d55c",
      "metadata": {
        "ExecuteTime": {
          "end_time": "2022-04-02T17:50:56.561522Z",
          "start_time": "2022-04-02T17:50:55.471349Z"
        },
        "scrolled": false,
        "id": "0a78d55c"
      },
      "outputs": [],
      "source": [
        "daily_trade_df = pd.DataFrame(columns = ['window_period','profit_loss'])\n",
        "best_hourly_patterns = {\n",
        "    1:best_hourly_pattern,\n",
        "    2:best_hourly2_pattern,\n",
        "    3:best_hourly3_pattern,\n",
        "    4:best_hourly4_pattern,\n",
        "    6:best_hourly6_pattern,\n",
        "    8:best_hourly8_pattern,\n",
        "    12:best_hourly12_pattern,\n",
        "    24:best_hourly24_pattern,\n",
        "    48:best_hourly48_pattern\n",
        "}\n",
        "for window_period in [1,2,3,4,6,8,12,24]:    \n",
        "    daily_trade = {'window_period' : f'{window_period} hrs', \n",
        "                  'profit_loss' : get_test_profit_loss(test_df.copy(), \n",
        "                                                       window_period, \n",
        "                                                       best_hourly_patterns[window_period], \n",
        "                                                       min_percent = 55)}\n",
        "\n",
        "    daily_trade_df=daily_trade_df.append(daily_trade,ignore_index=True)\n",
        "    \n",
        "daily_trade_df.set_index('window_period',inplace=True)\n",
        "\n",
        "plot_data_bar(daily_trade_df,'profit_loss',\n",
        "              f'PROFIT/LOSS FOR {scrip_name} TRADES IN Q1 2022 BASED ON BEST TIMING FOR 2021','WINDOW PERIOD (HRS)','PROFIT/LOSS ($)','bright', show_yvalue = True)\n",
        "    \n",
        "print(f\"TOTAL PROFIT/LOSS:{round(daily_trade_df['profit_loss'].sum(),2)}$\")    \n",
        "display(daily_trade_df)\n"
      ]
    },
    {
      "cell_type": "markdown",
      "id": "78143c33",
      "metadata": {
        "id": "78143c33"
      },
      "source": [
        "### TRADE DAILY FOR BEST TIMING FOR THAT DAY"
      ]
    },
    {
      "cell_type": "code",
      "execution_count": null,
      "id": "54bd05a2",
      "metadata": {
        "ExecuteTime": {
          "end_time": "2022-04-02T17:50:56.798064Z",
          "start_time": "2022-04-02T17:50:56.562228Z"
        },
        "id": "54bd05a2"
      },
      "outputs": [],
      "source": [
        "output = get_test_detailed_trade_df(test_df.copy(),None,best_trading_window_df)\n",
        "daily_pl = pd.DataFrame(output.groupby(['day'])['profit_loss'].sum())\n",
        "daily_pl['profit_loss'] = round(daily_pl['profit_loss'],2)\n",
        "\n",
        "display(f\"TOTAL PROFIT/LOSS: {round(daily_pl['profit_loss'].sum(),2)}$\")\n",
        "plot_data_bar(daily_pl,'profit_loss',\n",
        "              f'PROFIT/LOSS FOR {scrip_name} TRADES IN Q1 2022 BASED ON BEST TIMING FOR 2021','WINDOW PERIOD (HRS)','PROFIT/LOSS ($)','bright', show_yvalue = True)\n",
        "\n",
        "display(daily_pl)\n",
        "\n"
      ]
    },
    {
      "cell_type": "code",
      "execution_count": null,
      "id": "e1b06a8d",
      "metadata": {
        "id": "e1b06a8d"
      },
      "outputs": [],
      "source": []
    }
  ],
  "metadata": {
    "kernelspec": {
      "display_name": "Python 3.9 (common)",
      "language": "python",
      "name": "common"
    },
    "language_info": {
      "codemirror_mode": {
        "name": "ipython",
        "version": 3
      },
      "file_extension": ".py",
      "mimetype": "text/x-python",
      "name": "python",
      "nbconvert_exporter": "python",
      "pygments_lexer": "ipython3",
      "version": "3.9.7"
    },
    "toc": {
      "base_numbering": 1,
      "nav_menu": {},
      "number_sections": true,
      "sideBar": true,
      "skip_h1_title": false,
      "title_cell": "Table of Contents",
      "title_sidebar": "Contents",
      "toc_cell": false,
      "toc_position": {},
      "toc_section_display": true,
      "toc_window_display": true
    },
    "colab": {
      "provenance": []
    }
  },
  "nbformat": 4,
  "nbformat_minor": 5
}