{
  "cells": [
    {
      "cell_type": "markdown",
      "metadata": {
        "id": "view-in-github",
        "colab_type": "text"
      },
      "source": [
        "<a href=\"https://colab.research.google.com/github/alxmzr/Colab/blob/main/FIBONACCI_20RETRACEMENT.ipynb\" target=\"_parent\"><img src=\"https://colab.research.google.com/assets/colab-badge.svg\" alt=\"Open In Colab\"/></a>"
      ]
    },
    {
      "cell_type": "markdown",
      "metadata": {
        "id": "tN8AcvxTeIHe"
      },
      "source": [
        "# FIBONACCI RETRACEMENT"
      ]
    },
    {
      "cell_type": "markdown",
      "metadata": {
        "id": "2QT1zRaWeIHr"
      },
      "source": [
        "Import Library and Data set"
      ]
    },
    {
      "cell_type": "code",
      "execution_count": null,
      "metadata": {
        "id": "5V4EUB-EeIHt"
      },
      "outputs": [],
      "source": [
        "import pandas as pd\n",
        "import numpy as np\n",
        "import seaborn as sns\n",
        "import matplotlib.pyplot as plt\n",
        "%matplotlib inline\n",
        "\n",
        "df = pd.read_excel(r'EURUSD_DAILY_202112010000_202112211600.xlsx')\n",
        "df = df.set_index('<DATE>',drop = False)"
      ]
    },
    {
      "cell_type": "code",
      "execution_count": null,
      "metadata": {
        "colab": {
          "base_uri": "https://localhost:8080/",
          "height": 770
        },
        "id": "ld7DNpFheIH4",
        "outputId": "2a05dceb-9517-4c4b-a285-d27421a9f9de"
      },
      "outputs": [
        {
          "output_type": "execute_result",
          "data": {
            "text/html": [
              "\n",
              "  <div id=\"df-9ec8fc63-6e16-4830-9810-99fe2fad7975\">\n",
              "    <div class=\"colab-df-container\">\n",
              "      <div>\n",
              "<style scoped>\n",
              "    .dataframe tbody tr th:only-of-type {\n",
              "        vertical-align: middle;\n",
              "    }\n",
              "\n",
              "    .dataframe tbody tr th {\n",
              "        vertical-align: top;\n",
              "    }\n",
              "\n",
              "    .dataframe thead th {\n",
              "        text-align: right;\n",
              "    }\n",
              "</style>\n",
              "<table border=\"1\" class=\"dataframe\">\n",
              "  <thead>\n",
              "    <tr style=\"text-align: right;\">\n",
              "      <th></th>\n",
              "      <th>&lt;DATE&gt;</th>\n",
              "      <th>&lt;OPEN&gt;</th>\n",
              "      <th>&lt;HIGH&gt;</th>\n",
              "      <th>&lt;LOW&gt;</th>\n",
              "      <th>&lt;CLOSE&gt;</th>\n",
              "    </tr>\n",
              "    <tr>\n",
              "      <th>&lt;DATE&gt;</th>\n",
              "      <th></th>\n",
              "      <th></th>\n",
              "      <th></th>\n",
              "      <th></th>\n",
              "      <th></th>\n",
              "    </tr>\n",
              "  </thead>\n",
              "  <tbody>\n",
              "    <tr>\n",
              "      <th>2021.11.01</th>\n",
              "      <td>2021.11.01</td>\n",
              "      <td>1.15584</td>\n",
              "      <td>1.16090</td>\n",
              "      <td>1.15460</td>\n",
              "      <td>1.16042</td>\n",
              "    </tr>\n",
              "    <tr>\n",
              "      <th>2021.11.02</th>\n",
              "      <td>2021.11.02</td>\n",
              "      <td>1.16030</td>\n",
              "      <td>1.16131</td>\n",
              "      <td>1.15752</td>\n",
              "      <td>1.15781</td>\n",
              "    </tr>\n",
              "    <tr>\n",
              "      <th>2021.11.03</th>\n",
              "      <td>2021.11.03</td>\n",
              "      <td>1.15772</td>\n",
              "      <td>1.16161</td>\n",
              "      <td>1.15620</td>\n",
              "      <td>1.16132</td>\n",
              "    </tr>\n",
              "    <tr>\n",
              "      <th>2021.11.04</th>\n",
              "      <td>2021.11.04</td>\n",
              "      <td>1.16112</td>\n",
              "      <td>1.16164</td>\n",
              "      <td>1.15283</td>\n",
              "      <td>1.15538</td>\n",
              "    </tr>\n",
              "    <tr>\n",
              "      <th>2021.11.05</th>\n",
              "      <td>2021.11.05</td>\n",
              "      <td>1.15527</td>\n",
              "      <td>1.15730</td>\n",
              "      <td>1.15134</td>\n",
              "      <td>1.15666</td>\n",
              "    </tr>\n",
              "    <tr>\n",
              "      <th>2021.11.08</th>\n",
              "      <td>2021.11.08</td>\n",
              "      <td>1.15602</td>\n",
              "      <td>1.15949</td>\n",
              "      <td>1.15502</td>\n",
              "      <td>1.15864</td>\n",
              "    </tr>\n",
              "    <tr>\n",
              "      <th>2021.11.09</th>\n",
              "      <td>2021.11.09</td>\n",
              "      <td>1.15842</td>\n",
              "      <td>1.16085</td>\n",
              "      <td>1.15696</td>\n",
              "      <td>1.15929</td>\n",
              "    </tr>\n",
              "    <tr>\n",
              "      <th>2021.11.10</th>\n",
              "      <td>2021.11.10</td>\n",
              "      <td>1.15910</td>\n",
              "      <td>1.15953</td>\n",
              "      <td>1.14758</td>\n",
              "      <td>1.14783</td>\n",
              "    </tr>\n",
              "    <tr>\n",
              "      <th>2021.11.11</th>\n",
              "      <td>2021.11.11</td>\n",
              "      <td>1.14776</td>\n",
              "      <td>1.14876</td>\n",
              "      <td>1.14429</td>\n",
              "      <td>1.14493</td>\n",
              "    </tr>\n",
              "    <tr>\n",
              "      <th>2021.11.12</th>\n",
              "      <td>2021.11.12</td>\n",
              "      <td>1.14492</td>\n",
              "      <td>1.14622</td>\n",
              "      <td>1.14327</td>\n",
              "      <td>1.14429</td>\n",
              "    </tr>\n",
              "    <tr>\n",
              "      <th>2021.11.15</th>\n",
              "      <td>2021.11.15</td>\n",
              "      <td>1.14458</td>\n",
              "      <td>1.14641</td>\n",
              "      <td>1.13562</td>\n",
              "      <td>1.13673</td>\n",
              "    </tr>\n",
              "    <tr>\n",
              "      <th>2021.11.16</th>\n",
              "      <td>2021.11.16</td>\n",
              "      <td>1.13668</td>\n",
              "      <td>1.13855</td>\n",
              "      <td>1.13089</td>\n",
              "      <td>1.13195</td>\n",
              "    </tr>\n",
              "    <tr>\n",
              "      <th>2021.11.17</th>\n",
              "      <td>2021.11.17</td>\n",
              "      <td>1.13186</td>\n",
              "      <td>1.13323</td>\n",
              "      <td>1.12632</td>\n",
              "      <td>1.13188</td>\n",
              "    </tr>\n",
              "    <tr>\n",
              "      <th>2021.11.18</th>\n",
              "      <td>2021.11.18</td>\n",
              "      <td>1.13179</td>\n",
              "      <td>1.13741</td>\n",
              "      <td>1.13137</td>\n",
              "      <td>1.13704</td>\n",
              "    </tr>\n",
              "    <tr>\n",
              "      <th>2021.11.19</th>\n",
              "      <td>2021.11.19</td>\n",
              "      <td>1.13688</td>\n",
              "      <td>1.13726</td>\n",
              "      <td>1.12497</td>\n",
              "      <td>1.12831</td>\n",
              "    </tr>\n",
              "    <tr>\n",
              "      <th>2021.11.22</th>\n",
              "      <td>2021.11.22</td>\n",
              "      <td>1.12886</td>\n",
              "      <td>1.12900</td>\n",
              "      <td>1.12307</td>\n",
              "      <td>1.12365</td>\n",
              "    </tr>\n",
              "    <tr>\n",
              "      <th>2021.11.23</th>\n",
              "      <td>2021.11.23</td>\n",
              "      <td>1.12362</td>\n",
              "      <td>1.12749</td>\n",
              "      <td>1.12260</td>\n",
              "      <td>1.12474</td>\n",
              "    </tr>\n",
              "    <tr>\n",
              "      <th>2021.11.24</th>\n",
              "      <td>2021.11.24</td>\n",
              "      <td>1.12463</td>\n",
              "      <td>1.12553</td>\n",
              "      <td>1.11861</td>\n",
              "      <td>1.11982</td>\n",
              "    </tr>\n",
              "    <tr>\n",
              "      <th>2021.11.25</th>\n",
              "      <td>2021.11.25</td>\n",
              "      <td>1.11960</td>\n",
              "      <td>1.12298</td>\n",
              "      <td>1.11958</td>\n",
              "      <td>1.12083</td>\n",
              "    </tr>\n",
              "    <tr>\n",
              "      <th>2021.11.26</th>\n",
              "      <td>2021.11.26</td>\n",
              "      <td>1.12062</td>\n",
              "      <td>1.13303</td>\n",
              "      <td>1.12047</td>\n",
              "      <td>1.13215</td>\n",
              "    </tr>\n",
              "    <tr>\n",
              "      <th>2021.11.29</th>\n",
              "      <td>2021.11.29</td>\n",
              "      <td>1.13046</td>\n",
              "      <td>1.13114</td>\n",
              "      <td>1.12583</td>\n",
              "      <td>1.12903</td>\n",
              "    </tr>\n",
              "    <tr>\n",
              "      <th>2021.11.30</th>\n",
              "      <td>2021.11.30</td>\n",
              "      <td>1.12885</td>\n",
              "      <td>1.13829</td>\n",
              "      <td>1.12354</td>\n",
              "      <td>1.13381</td>\n",
              "    </tr>\n",
              "  </tbody>\n",
              "</table>\n",
              "</div>\n",
              "      <button class=\"colab-df-convert\" onclick=\"convertToInteractive('df-9ec8fc63-6e16-4830-9810-99fe2fad7975')\"\n",
              "              title=\"Convert this dataframe to an interactive table.\"\n",
              "              style=\"display:none;\">\n",
              "        \n",
              "  <svg xmlns=\"http://www.w3.org/2000/svg\" height=\"24px\"viewBox=\"0 0 24 24\"\n",
              "       width=\"24px\">\n",
              "    <path d=\"M0 0h24v24H0V0z\" fill=\"none\"/>\n",
              "    <path d=\"M18.56 5.44l.94 2.06.94-2.06 2.06-.94-2.06-.94-.94-2.06-.94 2.06-2.06.94zm-11 1L8.5 8.5l.94-2.06 2.06-.94-2.06-.94L8.5 2.5l-.94 2.06-2.06.94zm10 10l.94 2.06.94-2.06 2.06-.94-2.06-.94-.94-2.06-.94 2.06-2.06.94z\"/><path d=\"M17.41 7.96l-1.37-1.37c-.4-.4-.92-.59-1.43-.59-.52 0-1.04.2-1.43.59L10.3 9.45l-7.72 7.72c-.78.78-.78 2.05 0 2.83L4 21.41c.39.39.9.59 1.41.59.51 0 1.02-.2 1.41-.59l7.78-7.78 2.81-2.81c.8-.78.8-2.07 0-2.86zM5.41 20L4 18.59l7.72-7.72 1.47 1.35L5.41 20z\"/>\n",
              "  </svg>\n",
              "      </button>\n",
              "      \n",
              "  <style>\n",
              "    .colab-df-container {\n",
              "      display:flex;\n",
              "      flex-wrap:wrap;\n",
              "      gap: 12px;\n",
              "    }\n",
              "\n",
              "    .colab-df-convert {\n",
              "      background-color: #E8F0FE;\n",
              "      border: none;\n",
              "      border-radius: 50%;\n",
              "      cursor: pointer;\n",
              "      display: none;\n",
              "      fill: #1967D2;\n",
              "      height: 32px;\n",
              "      padding: 0 0 0 0;\n",
              "      width: 32px;\n",
              "    }\n",
              "\n",
              "    .colab-df-convert:hover {\n",
              "      background-color: #E2EBFA;\n",
              "      box-shadow: 0px 1px 2px rgba(60, 64, 67, 0.3), 0px 1px 3px 1px rgba(60, 64, 67, 0.15);\n",
              "      fill: #174EA6;\n",
              "    }\n",
              "\n",
              "    [theme=dark] .colab-df-convert {\n",
              "      background-color: #3B4455;\n",
              "      fill: #D2E3FC;\n",
              "    }\n",
              "\n",
              "    [theme=dark] .colab-df-convert:hover {\n",
              "      background-color: #434B5C;\n",
              "      box-shadow: 0px 1px 3px 1px rgba(0, 0, 0, 0.15);\n",
              "      filter: drop-shadow(0px 1px 2px rgba(0, 0, 0, 0.3));\n",
              "      fill: #FFFFFF;\n",
              "    }\n",
              "  </style>\n",
              "\n",
              "      <script>\n",
              "        const buttonEl =\n",
              "          document.querySelector('#df-9ec8fc63-6e16-4830-9810-99fe2fad7975 button.colab-df-convert');\n",
              "        buttonEl.style.display =\n",
              "          google.colab.kernel.accessAllowed ? 'block' : 'none';\n",
              "\n",
              "        async function convertToInteractive(key) {\n",
              "          const element = document.querySelector('#df-9ec8fc63-6e16-4830-9810-99fe2fad7975');\n",
              "          const dataTable =\n",
              "            await google.colab.kernel.invokeFunction('convertToInteractive',\n",
              "                                                     [key], {});\n",
              "          if (!dataTable) return;\n",
              "\n",
              "          const docLinkHtml = 'Like what you see? Visit the ' +\n",
              "            '<a target=\"_blank\" href=https://colab.research.google.com/notebooks/data_table.ipynb>data table notebook</a>'\n",
              "            + ' to learn more about interactive tables.';\n",
              "          element.innerHTML = '';\n",
              "          dataTable['output_type'] = 'display_data';\n",
              "          await google.colab.output.renderOutput(dataTable, element);\n",
              "          const docLink = document.createElement('div');\n",
              "          docLink.innerHTML = docLinkHtml;\n",
              "          element.appendChild(docLink);\n",
              "        }\n",
              "      </script>\n",
              "    </div>\n",
              "  </div>\n",
              "  "
            ],
            "text/plain": [
              "                <DATE>   <OPEN>   <HIGH>    <LOW>  <CLOSE>\n",
              "<DATE>                                                    \n",
              "2021.11.01  2021.11.01  1.15584  1.16090  1.15460  1.16042\n",
              "2021.11.02  2021.11.02  1.16030  1.16131  1.15752  1.15781\n",
              "2021.11.03  2021.11.03  1.15772  1.16161  1.15620  1.16132\n",
              "2021.11.04  2021.11.04  1.16112  1.16164  1.15283  1.15538\n",
              "2021.11.05  2021.11.05  1.15527  1.15730  1.15134  1.15666\n",
              "2021.11.08  2021.11.08  1.15602  1.15949  1.15502  1.15864\n",
              "2021.11.09  2021.11.09  1.15842  1.16085  1.15696  1.15929\n",
              "2021.11.10  2021.11.10  1.15910  1.15953  1.14758  1.14783\n",
              "2021.11.11  2021.11.11  1.14776  1.14876  1.14429  1.14493\n",
              "2021.11.12  2021.11.12  1.14492  1.14622  1.14327  1.14429\n",
              "2021.11.15  2021.11.15  1.14458  1.14641  1.13562  1.13673\n",
              "2021.11.16  2021.11.16  1.13668  1.13855  1.13089  1.13195\n",
              "2021.11.17  2021.11.17  1.13186  1.13323  1.12632  1.13188\n",
              "2021.11.18  2021.11.18  1.13179  1.13741  1.13137  1.13704\n",
              "2021.11.19  2021.11.19  1.13688  1.13726  1.12497  1.12831\n",
              "2021.11.22  2021.11.22  1.12886  1.12900  1.12307  1.12365\n",
              "2021.11.23  2021.11.23  1.12362  1.12749  1.12260  1.12474\n",
              "2021.11.24  2021.11.24  1.12463  1.12553  1.11861  1.11982\n",
              "2021.11.25  2021.11.25  1.11960  1.12298  1.11958  1.12083\n",
              "2021.11.26  2021.11.26  1.12062  1.13303  1.12047  1.13215\n",
              "2021.11.29  2021.11.29  1.13046  1.13114  1.12583  1.12903\n",
              "2021.11.30  2021.11.30  1.12885  1.13829  1.12354  1.13381"
            ]
          },
          "metadata": {},
          "execution_count": 38
        }
      ],
      "source": [
        "df"
      ]
    },
    {
      "cell_type": "code",
      "execution_count": null,
      "metadata": {
        "colab": {
          "base_uri": "https://localhost:8080/"
        },
        "id": "mlkZGEGVeIH6",
        "outputId": "ea376f6a-2988-4944-9339-1f02704edf95"
      },
      "outputs": [
        {
          "output_type": "execute_result",
          "data": {
            "text/plain": [
              "<DATE>      object\n",
              "<OPEN>     float64\n",
              "<HIGH>     float64\n",
              "<LOW>      float64\n",
              "<CLOSE>    float64\n",
              "dtype: object"
            ]
          },
          "metadata": {},
          "execution_count": 39
        }
      ],
      "source": [
        "df.dtypes"
      ]
    },
    {
      "cell_type": "markdown",
      "metadata": {
        "id": "-HyzZKi9eIH8"
      },
      "source": [
        "Find Maximum and minimum Value"
      ]
    },
    {
      "cell_type": "code",
      "execution_count": null,
      "metadata": {
        "colab": {
          "base_uri": "https://localhost:8080/"
        },
        "id": "AnpG0HxReIH9",
        "outputId": "bc9cc9f2-0c05-4d75-d73f-527aff6a5e27"
      },
      "outputs": [
        {
          "output_type": "execute_result",
          "data": {
            "text/plain": [
              "nan"
            ]
          },
          "metadata": {},
          "execution_count": 40
        }
      ],
      "source": [
        "df['<CLOSE>']['2021-11-30':'2021-11-01'].max()"
      ]
    },
    {
      "cell_type": "code",
      "execution_count": null,
      "metadata": {
        "id": "d-ZPvlAceIH-"
      },
      "outputs": [],
      "source": [
        "df['Price']['2019-08-28':'2018-04-01'].min()"
      ]
    },
    {
      "cell_type": "code",
      "execution_count": null,
      "metadata": {
        "id": "NqBldJmqeIIH"
      },
      "outputs": [],
      "source": [
        "df1=df['2019-08-28':'2019-04-01']"
      ]
    },
    {
      "cell_type": "code",
      "execution_count": null,
      "metadata": {
        "id": "axPP8hRieIIJ"
      },
      "outputs": [],
      "source": [
        "df1"
      ]
    },
    {
      "cell_type": "code",
      "execution_count": null,
      "metadata": {
        "id": "8uSVrQLreIIL"
      },
      "outputs": [],
      "source": [
        "Price_Min =df1['Low']['2019-08-28':'2019-04-01'].min()\n",
        "Price_Min"
      ]
    },
    {
      "cell_type": "code",
      "execution_count": null,
      "metadata": {
        "id": "g9cI-JiTeIIN"
      },
      "outputs": [],
      "source": [
        "Price_Max =df1['High']['2019-08-28':'2019-04-01'].max()\n",
        "Price_Max"
      ]
    },
    {
      "cell_type": "markdown",
      "metadata": {
        "id": "BLd_PewYeIIP"
      },
      "source": [
        "Find the Difference and find the level as per the fibonacci Retracement Model"
      ]
    },
    {
      "cell_type": "code",
      "execution_count": null,
      "metadata": {
        "id": "XdqFi3r8eIIT"
      },
      "outputs": [],
      "source": [
        "Diff = Price_Max-Price_Min"
      ]
    },
    {
      "cell_type": "code",
      "execution_count": null,
      "metadata": {
        "id": "BdopdxvveIIU"
      },
      "outputs": [],
      "source": [
        "level1 = Price_Max - 0.236 * Diff\n",
        "level2 = Price_Max - 0.382 * Diff\n",
        "level3 = Price_Max - 0.618 * Diff"
      ]
    },
    {
      "cell_type": "code",
      "execution_count": null,
      "metadata": {
        "id": "3r_tFpgGeIIV"
      },
      "outputs": [],
      "source": [
        "\n",
        "print (\"Level\", \" \", \"PRICE\")\n",
        "\n",
        "print (\"0 \", \"      \" , Price_Max)\n",
        "print (\"0.236\", \"   \" ,level1)\n",
        "print (\"0.382\",  \"   \",level2)\n",
        "print (\"0.618\",\"   \",  level3)\n",
        "print (\"1 \",   \"      \", Price_Min)"
      ]
    },
    {
      "cell_type": "markdown",
      "metadata": {
        "id": "9aFT2EfBeIIW"
      },
      "source": [
        "Ploting Graph"
      ]
    },
    {
      "cell_type": "code",
      "execution_count": null,
      "metadata": {
        "id": "9paG5bLqeIIX"
      },
      "outputs": [],
      "source": [
        "fig, ax = plt.subplots(figsize=(15,5))\n",
        "\n",
        "ax.plot(df1.Date, df1.Price)\n",
        "\n",
        "ax.axhspan(level1, Price_Min, alpha=0.4, color='lightsalmon')\n",
        "ax.axhspan(level2, level1, alpha=0.5, color='palegoldenrod')\n",
        "ax.axhspan(level3, level2, alpha=0.5, color='palegreen')\n",
        "ax.axhspan(Price_Max, level3, alpha=0.5, color='powderblue')\n",
        "\n",
        "plt.ylabel(\"Price\")\n",
        "plt.xlabel(\"Date\")\n",
        "\n",
        "plt.title('Fibonacci')\n",
        "\n",
        "plt.show()"
      ]
    },
    {
      "cell_type": "code",
      "execution_count": null,
      "metadata": {
        "id": "fndpxPykeIIb"
      },
      "outputs": [],
      "source": []
    }
  ],
  "metadata": {
    "kernelspec": {
      "display_name": "Python 3",
      "language": "python",
      "name": "python3"
    },
    "language_info": {
      "codemirror_mode": {
        "name": "ipython",
        "version": 3
      },
      "file_extension": ".py",
      "mimetype": "text/x-python",
      "name": "python",
      "nbconvert_exporter": "python",
      "pygments_lexer": "ipython3",
      "version": "3.10.0"
    },
    "colab": {
      "provenance": [],
      "include_colab_link": true
    }
  },
  "nbformat": 4,
  "nbformat_minor": 0
}