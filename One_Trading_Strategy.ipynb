{
  "nbformat": 4,
  "nbformat_minor": 0,
  "metadata": {
    "colab": {
      "provenance": [],
      "authorship_tag": "ABX9TyP2wHk/MItwolC1zZR+zTdP",
      "include_colab_link": true
    },
    "kernelspec": {
      "name": "python3",
      "display_name": "Python 3"
    },
    "language_info": {
      "name": "python"
    }
  },
  "cells": [
    {
      "cell_type": "markdown",
      "metadata": {
        "id": "view-in-github",
        "colab_type": "text"
      },
      "source": [
        "<a href=\"https://colab.research.google.com/github/alxmzr/Colab/blob/main/One_Trading_Strategy.ipynb\" target=\"_parent\"><img src=\"https://colab.research.google.com/assets/colab-badge.svg\" alt=\"Open In Colab\"/></a>"
      ]
    },
    {
      "cell_type": "code",
      "execution_count": null,
      "metadata": {
        "id": "gIPVUoqsrHtX"
      },
      "outputs": [],
      "source": [
        "# One Trading Strategy Every Trader Should Know | Coinmonks\n",
        "# https://medium.com/coinmonks/the-5-minute-trading-strategy-5a83507a630e"
      ]
    },
    {
      "cell_type": "code",
      "source": [
        "# pip install python-binance pandas-ta mplfinance numpy pandas"
      ],
      "metadata": {
        "id": "RuJtBUfErRaj"
      },
      "execution_count": null,
      "outputs": []
    },
    {
      "cell_type": "code",
      "source": [
        "import pandas as pd\n",
        "import numpy as np\n",
        "import pandas_ta as ta\n",
        "from binance.client import Client\n",
        "from datetime import datetime, timedelta\n",
        "import math\n",
        "import mplfinance as mpf\n",
        "\n",
        "api_key = 'DLuwcpU67Emo1FtVkiuCTzCFYkUpk4OvdmKGTNb0Wj4bhw3NXxUcQBoQtBVA7BpM'\n",
        "api_secret = 'g681jmxJ2Dczth4qYaK8TFlqlNgqDkjcQeJCY0BI2CQABerfzYMPBU4JivKKomls'\n",
        "\n",
        "symbol = 'BTCUSDT'\n",
        "interval = Client.KLINE_INTERVAL_1DAY\n",
        "\n",
        "client = Client(api_key, api_secret)"
      ],
      "metadata": {
        "id": "MdzWmoSIrkxS"
      },
      "execution_count": null,
      "outputs": []
    },
    {
      "cell_type": "code",
      "source": [
        "def getData(symbol, interval, lookback):\n",
        "  frame = pd.DataFrame(client.get_historical_klines(symbol, Client.KLINE_INTERVAL_1DAY, \"1 Jan, 2022\", \"1 Apr, 2022\"))\n",
        "  frame = frame.iloc[:,:6]\n",
        "  frame.columns = ['Time', 'Open', 'High', 'Low', 'Close', 'Volume']\n",
        "  frame = frame.set_index('Time')\n",
        "  frame.index = pd.to_datetime(frame.index, unit='ms')\n",
        "  frame = frame.astype(float)\n",
        "  return frame"
      ],
      "metadata": {
        "id": "br8bALQ-rlmr"
      },
      "execution_count": null,
      "outputs": []
    },
    {
      "cell_type": "code",
      "source": [
        "def calculate_entries(symbol, interval='1d', lookhead=1500):\n",
        "  SMA_Period = 20\n",
        "  df = getData(symbol, interval, lookhead)\n",
        "  key_name = f'SMA_{SMA_Period}'\n",
        "  max_change_percentage = 0.5\n",
        "  df.ta.macd(append=True)\n",
        "  df.ta.sma(length=SMA_Period, append=True)\n",
        "  df['Change'] = abs(df['Close'].pct_change())\n",
        "  df['MACD_GREEN'] = df['MACDh_12_26_9'] > 0\n",
        "  df['MACD_RED'] = df['MACDh_12_26_9'] < 0\n",
        "  df['MACD_DARK_GREEN'] = df['MACD_GREEN'] &  (df['MACDh_12_26_9'] >  df['MACDh_12_26_9'].shift(1))\n",
        "  df['MACD_DARK_RED'] = df['MACD_RED'] &  (df['MACDh_12_26_9'] <  df['MACDh_12_26_9'].shift(1))\n",
        "\n",
        "  df['Entries_Short'] = (df.Open > df[key_name]) & (df['Close'] < df[key_name]) & (df['Close'] < df['Open']) & \\\n",
        "                        (df['Change'] < max_change_percentage) & (df['Low'].shift(1) > df[key_name].shift(1)) & \\\n",
        "                        (df['MACD_DARK_GREEN'] == False) & (df['MACD_12_26_9'] < 0) & (df['MACDs_12_26_9'] < 0)\n",
        "\n",
        "  df['Entries_Long'] = (df.Open < df[key_name]) & (df['Close'] > df[key_name]) & (df['Close'] > df['Open']) & \\\n",
        "                        (df['Change'] < max_change_percentage) & (df['High'].shift(1) < df[key_name].shift(1)) & \\\n",
        "                        (df['MACD_DARK_RED'] == False) & (df['MACD_12_26_9'] > 0) & (df['MACDs_12_26_9'] > 0)\n",
        "  return df"
      ],
      "metadata": {
        "id": "Uqdo8LUgr7VL"
      },
      "execution_count": null,
      "outputs": []
    },
    {
      "cell_type": "code",
      "source": [
        "def make_plot(df, long_column='Entries_Long', short_column='Entries_Short', margin=0):\n",
        "  enter_short = []\n",
        "  enter_long = []\n",
        "  for k,row  in df.iterrows():\n",
        "    if row[short_column]:\n",
        "      enter_short.append(row.High + margin)\n",
        "    else:\n",
        "      enter_short.append(np.nan)\n",
        "\n",
        "  for k,row  in df.iterrows():\n",
        "    if row[long_column]:\n",
        "      enter_long.append(row.Low - margin )\n",
        "    else:\n",
        "      enter_long.append(np.nan)\n",
        "\n",
        "  up_plot = mpf.make_addplot(enter_short, type='scatter', marker='v', markersize=25, panel=0, color='r')\n",
        "  down_plot = mpf.make_addplot(enter_long, type='scatter', marker='^', markersize=25, panel=0, color='g')\n",
        "\n",
        "  plots = [up_plot, down_plot]\n",
        "  mpf.plot(df, type='candle', style='yahoo', addplot=plots,  figsize=(20,10),)"
      ],
      "metadata": {
        "id": "_B4cxLwWsN3g"
      },
      "execution_count": null,
      "outputs": []
    },
    {
      "cell_type": "code",
      "source": [
        "df = calculate_entries(symbol, lookhead=2500)\n",
        "make_plot(df, margin=100)"
      ],
      "metadata": {
        "colab": {
          "base_uri": "https://localhost:8080/",
          "height": 182
        },
        "id": "tCN6q6JisQws",
        "outputId": "ce83c70b-476a-4894-c911-10beb4b7c6ae"
      },
      "execution_count": null,
      "outputs": [
        {
          "output_type": "error",
          "ename": "TypeError",
          "evalue": "ignored",
          "traceback": [
            "\u001b[0;31m---------------------------------------------------------------------------\u001b[0m",
            "\u001b[0;31mTypeError\u001b[0m                                 Traceback (most recent call last)",
            "\u001b[0;32m<ipython-input-115-21cfbdf238c6>\u001b[0m in \u001b[0;36m<module>\u001b[0;34m\u001b[0m\n\u001b[0;32m----> 1\u001b[0;31m \u001b[0mdf\u001b[0m \u001b[0;34m=\u001b[0m \u001b[0mcalculate_entries\u001b[0m\u001b[0;34m(\u001b[0m\u001b[0msymbol\u001b[0m\u001b[0;34m,\u001b[0m \u001b[0mlookhead\u001b[0m\u001b[0;34m=\u001b[0m\u001b[0;36m2500\u001b[0m\u001b[0;34m)\u001b[0m\u001b[0;34m\u001b[0m\u001b[0;34m\u001b[0m\u001b[0m\n\u001b[0m\u001b[1;32m      2\u001b[0m \u001b[0mmake_plot\u001b[0m\u001b[0;34m(\u001b[0m\u001b[0mdf\u001b[0m\u001b[0;34m,\u001b[0m \u001b[0mmargin\u001b[0m\u001b[0;34m=\u001b[0m\u001b[0;36m100\u001b[0m\u001b[0;34m)\u001b[0m\u001b[0;34m\u001b[0m\u001b[0;34m\u001b[0m\u001b[0m\n",
            "\u001b[0;31mTypeError\u001b[0m: calculate_entries() missing 1 required positional argument: 'interval'"
          ]
        }
      ]
    }
  ]
}