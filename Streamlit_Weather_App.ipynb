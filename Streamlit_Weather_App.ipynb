{
  "cells": [
    {
      "cell_type": "markdown",
      "metadata": {
        "id": "view-in-github",
        "colab_type": "text"
      },
      "source": [
        "<a href=\"https://colab.research.google.com/github/alxmzr/Colab/blob/main/Streamlit_Weather_App.ipynb\" target=\"_parent\"><img src=\"https://colab.research.google.com/assets/colab-badge.svg\" alt=\"Open In Colab\"/></a>"
      ]
    },
    {
      "cell_type": "code",
      "execution_count": null,
      "metadata": {
        "id": "g1LABNmpXF3t"
      },
      "outputs": [],
      "source": [
        "# %%writefile requirements.txt\n",
        "# pyngrok==4.1.1\n",
        "# streamlit==1.5.0\n",
        "# pandas\n",
        "# plost\n",
        "# click<=8.0.4\n",
        "# requests\n",
        "# streamlit-autorefresh"
      ]
    },
    {
      "cell_type": "code",
      "execution_count": null,
      "metadata": {
        "id": "b8ZOamcR3jsg"
      },
      "outputs": [],
      "source": [
        "from pyngrok import ngrok"
      ]
    },
    {
      "cell_type": "code",
      "execution_count": null,
      "metadata": {
        "id": "mRGzxeEaL2Dg"
      },
      "outputs": [],
      "source": [
        "from google.colab import drive\n",
        "drive.mount('/content/gdrive')"
      ]
    },
    {
      "cell_type": "code",
      "execution_count": null,
      "metadata": {
        "id": "esCxfOt-MQtL"
      },
      "outputs": [],
      "source": [
        "# ! git clone https://github.com/ascoolarobban/Streamlit_medium.git"
      ]
    },
    {
      "cell_type": "code",
      "execution_count": null,
      "metadata": {
        "id": "ZLRZlzjIMluE"
      },
      "outputs": [],
      "source": [
        "%cd /content/gdrive/MyDrive/Streamlit_medium"
      ]
    },
    {
      "cell_type": "code",
      "execution_count": null,
      "metadata": {
        "id": "tbYq0uQAO5QS"
      },
      "outputs": [],
      "source": [
        "!pip install -r requirements.txt"
      ]
    },
    {
      "cell_type": "code",
      "execution_count": null,
      "metadata": {
        "id": "zn-trlCKSWhH"
      },
      "outputs": [],
      "source": [
        "%%writefile weather_app.py\n",
        "\n",
        "import requests\n",
        "import json\n",
        "import streamlit as st\n",
        "import pandas as pd\n",
        "import numpy as np\n",
        "import pytz\n",
        "from datetime import datetime\n",
        "from datetime import date\n",
        "from PIL import Image\n",
        "from streamlit_autorefresh import st_autorefresh\n",
        "\n",
        "api_key = \"1a403ad57e76cfcf04f364039c2c88e4\"\n",
        "city_name = \"Kyiv\"\n",
        "url = f'http://api.openweathermap.org/data/2.5/weather?appid={api_key}&q={city_name}&units=metric'\n",
        "\n",
        "def main():\n",
        "  result = requests.get(url)\n",
        "  data = result.json()\n",
        "\n",
        "  w = data[\"main\"]\n",
        "  current_temp = w[\"temp\"]\n",
        "  max_temp = round((w[\"temp_max\"]))\n",
        "  min_temp = round(w[\"temp_min\"])\n",
        "  humidity = w[\"humidity\"]\n",
        "  pressure = w[\"pressure\"]\n",
        "  feels = w[\"feels_like\"]\n",
        "  previous_temp = 23\n",
        "\n",
        "  # Page setting\n",
        "  st.set_page_config(layout=\"wide\", page_title=\"Alex Weather Dash\")\n",
        "\n",
        "  with open('/content/gdrive/MyDrive/Streamlit_medium/style.css') as f:\n",
        "      st.markdown(f'<style>{f.read()}</style>', unsafe_allow_html=True)\n",
        "\n",
        "  #Autorefresh:\n",
        "  count = st_autorefresh(interval=5000, limit=100, key=\"fizzbuzzcounter\")\n",
        "\n",
        "  #Put your logo here:\n",
        "  logo = Image.open('/content/gdrive/MyDrive/Streamlit_medium/resources/monster.png')\n",
        "  logo = logo.resize((200, 100))#and make it to whatever size you want.\n",
        "\n",
        "  #Time\n",
        "  nowTime = datetime.now()\n",
        "  current_time = nowTime.strftime(\"%H:%M:%S\")\n",
        "  today = str(date.today())\n",
        "  # st.write(today)\n",
        "  timeMetric,= st.columns(1)\n",
        "  timeMetric.metric(\"\",today)\n",
        "\n",
        "  # Row A\n",
        "  a1, a2, a3 = st.columns(3)\n",
        "  a1.image(logo)\n",
        "\n",
        "  a2.metric(\"Kyiv Temperature\", str(current_temp)+\" °C\")\n",
        "  a3.metric(\"Kyiv time\", current_time)\n",
        "\n",
        "  # Row B\n",
        "  b1, b2, b3, b4, b5 = st.columns(5)\n",
        "  b1.metric(\"Humidity\", str(humidity)+ \" %\")\n",
        "  b2.metric(\"Pressure\", str(pressure) + \" mHPA\")\n",
        "  b3.metric(\"Feels like\", str(feels)+ \" °C\")\n",
        "  b4.metric(\"Highest temperature\", str(max_temp)+\" °C\")\n",
        "  b5.metric(\"Lowest temperature\", str(min_temp)+\" °C\")\n",
        "\n",
        "  # Row C\n",
        "  #C1 being the graph, C2 The Table.\n",
        "  c1, c2 = st.columns((7,3))\n",
        "\n",
        "  #Graph:\n",
        "  with c1:\n",
        "\n",
        "      chart_data = pd.DataFrame(\n",
        "          np.random.randn(20, 3),\n",
        "          columns=['Low', 'High', 'Close'])\n",
        "      st.line_chart(chart_data)\n",
        "\n",
        "  #The fake nonsens table:\n",
        "  with c2:\n",
        "      df = pd.DataFrame(\n",
        "          np.random.randn(7, 5),\n",
        "          columns=('Paris','Malta','Stockholm','Peru','Italy')\n",
        "      )\n",
        "\n",
        "      st.table(df)\n",
        "\n",
        "      #Manually refresh button\n",
        "  st.button(\"Run me manually\")\n",
        "\n",
        "if __name__ == '__main__':\n",
        "    main()"
      ]
    },
    {
      "cell_type": "code",
      "execution_count": null,
      "metadata": {
        "id": "YbqpUZiK39U7"
      },
      "outputs": [],
      "source": [
        "!wget https://bin.equinox.io/c/4VmDzA7iaHb/ngrok-stable-linux-amd64.zip"
      ]
    },
    {
      "cell_type": "code",
      "execution_count": null,
      "metadata": {
        "id": "3bEjJDWS57RO"
      },
      "outputs": [],
      "source": [
        "!unzip ngrok-stable-linux-amd64.zip"
      ]
    },
    {
      "cell_type": "code",
      "execution_count": null,
      "metadata": {
        "id": "vQqX-UDcFzAF"
      },
      "outputs": [],
      "source": [
        "!./ngrok authtoken 2Ehi6egXb6l7xJ2hH1mpJ8YaY74_5kwkkd3P6LTVVDhx1BiNc"
      ]
    },
    {
      "cell_type": "code",
      "execution_count": null,
      "metadata": {
        "id": "LT-CU16U_4Oo"
      },
      "outputs": [],
      "source": [
        "public_url = ngrok.connect(port=80)\n",
        "public_url"
      ]
    },
    {
      "cell_type": "code",
      "execution_count": null,
      "metadata": {
        "colab": {
          "base_uri": "https://localhost:8080/"
        },
        "id": "CJ96zGESAEJs",
        "outputId": "1b8c9782-9ee2-44b0-9c5c-d2a2824fe159"
      },
      "outputs": [
        {
          "output_type": "stream",
          "name": "stderr",
          "text": [
            "INFO:pyngrok.process:t=2022-09-13T14:37:03+0000 lvl=info msg=\"received stop request\" obj=app stopReq=\"{err:<nil> restart:false}\"\n",
            "\n",
            "2022-09-13 14:37:03.828 INFO    pyngrok.process: t=2022-09-13T14:37:03+0000 lvl=info msg=\"received stop request\" obj=app stopReq=\"{err:<nil> restart:false}\"\n",
            "\n"
          ]
        }
      ],
      "source": [
        "!streamlit run --server.port 80 weather_app.py >/dev/null"
      ]
    },
    {
      "cell_type": "code",
      "execution_count": null,
      "metadata": {
        "colab": {
          "base_uri": "https://localhost:8080/"
        },
        "id": "g6_rGTV_Inu8",
        "outputId": "bb927a78-2201-48b4-fff8-8bbc38041eec"
      },
      "outputs": [
        {
          "output_type": "stream",
          "name": "stderr",
          "text": [
            "INFO:pyngrok.process:Killing ngrok process: 1674\n",
            "2022-09-13 14:37:05.704 INFO    pyngrok.process: Killing ngrok process: 1674\n"
          ]
        }
      ],
      "source": [
        "ngrok.kill()"
      ]
    }
  ],
  "metadata": {
    "colab": {
      "provenance": [],
      "include_colab_link": true
    },
    "kernelspec": {
      "display_name": "Python 3",
      "name": "python3"
    }
  },
  "nbformat": 4,
  "nbformat_minor": 0
}