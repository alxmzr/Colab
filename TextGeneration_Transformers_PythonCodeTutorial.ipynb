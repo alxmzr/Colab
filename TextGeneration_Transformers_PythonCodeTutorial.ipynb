{
  "nbformat": 4,
  "nbformat_minor": 0,
  "metadata": {
    "colab": {
      "provenance": [],
      "authorship_tag": "ABX9TyOQBziUeJuo/CqjNgb8AzIO",
      "include_colab_link": true
    },
    "kernelspec": {
      "name": "python3",
      "display_name": "Python 3"
    },
    "language_info": {
      "name": "python"
    }
  },
  "cells": [
    {
      "cell_type": "markdown",
      "metadata": {
        "id": "view-in-github",
        "colab_type": "text"
      },
      "source": [
        "<a href=\"https://colab.research.google.com/github/alxmzr/Colab/blob/main/TextGeneration_Transformers_PythonCodeTutorial.ipynb\" target=\"_parent\"><img src=\"https://colab.research.google.com/assets/colab-badge.svg\" alt=\"Open In Colab\"/></a>"
      ]
    },
    {
      "cell_type": "code",
      "execution_count": null,
      "metadata": {
        "id": "7wJ31Z3mUBm8"
      },
      "outputs": [],
      "source": [
        "#!pip install transformers"
      ]
    },
    {
      "cell_type": "code",
      "source": [
        "from transformers import pipeline"
      ],
      "metadata": {
        "id": "HyW84KomUwHg"
      },
      "execution_count": null,
      "outputs": []
    },
    {
      "cell_type": "code",
      "source": [
        "gpt2_generator = pipeline('text-generation', model='gpt2')"
      ],
      "metadata": {
        "id": "vXT4B65KUzxw"
      },
      "execution_count": null,
      "outputs": []
    },
    {
      "cell_type": "code",
      "source": [
        "# generate 3 different sentences\n",
        "# results are sampled from the top 50 candidates\n",
        "sentences = gpt2_generator(\"To be honest, neural networks\", do_sample=True, top_k=50, temperature=0.6, max_length=128, num_return_sequences=3)\n",
        "for sentence in sentences:\n",
        "  print(sentence[\"generated_text\"])\n",
        "  print(\"=\"*50)"
      ],
      "metadata": {
        "colab": {
          "base_uri": "https://localhost:8080/"
        },
        "id": "1l_R7UGXU6aF",
        "outputId": "4742ca75-af18-4e1d-ac91-85236908dbb0"
      },
      "execution_count": null,
      "outputs": [
        {
          "output_type": "stream",
          "name": "stderr",
          "text": [
            "Setting `pad_token_id` to `eos_token_id`:50256 for open-end generation.\n"
          ]
        },
        {
          "output_type": "stream",
          "name": "stdout",
          "text": [
            "To be honest, neural networks are very good at solving problems that are difficult to solve. But they don't always solve problems that are easy to solve. We don't always find that we can solve problems that are easy to solve. We often find that we can solve problems that are hard to solve. We often find that we can solve problems that are difficult to solve. When we are able to find the right answer, we solve the problem.\n",
            "\n",
            "An important point about machine learning is that it's the most powerful tool in the field. It's the most powerful tool in the field. It's the most powerful tool in the\n",
            "==================================================\n",
            "To be honest, neural networks are not the same as neural networks. They just have different properties and they are different from each other. They are just different machines.\n",
            "\n",
            "What is the biggest difference between neural networks and neural networks?\n",
            "\n",
            "It is the difference in the architecture of the network, the architecture of the neural network. The architecture of the network is the architecture of the neural network.\n",
            "\n",
            "What is the difference between neural networks and neural networks?\n",
            "\n",
            "The difference is that neural networks are the same as neural networks. They are the same as neural networks.\n",
            "\n",
            "What is the difference between neural networks and neural networks\n",
            "==================================================\n",
            "To be honest, neural networks are pretty new to the field, and I'm not sure what they're used for, but I'm pretty sure they've been around for a long time.\n",
            "\n",
            "What is the core concept behind neural networks?\n",
            "\n",
            "The core idea is that information is stored in a representation that's stored in a neural network, and the representation is a representation of that information. This is called a neural network.\n",
            "\n",
            "So the idea is that you can store information in many different kinds of representations. It doesn't matter if you know what's what or not, it's just that you can use them to store\n",
            "==================================================\n"
          ]
        }
      ]
    },
    {
      "cell_type": "code",
      "source": [
        "# download & load GPT-J model! It's 22.5GB in size\n",
        "gpt_j_generator = pipeline('text-generation', model='EleutherAI/gpt-j-6B')"
      ],
      "metadata": {
        "id": "LnLPKfXnVU6A"
      },
      "execution_count": null,
      "outputs": []
    },
    {
      "cell_type": "code",
      "source": [
        "# generate sentences with TOP-K sampling\n",
        "sentences = gpt_j_generator(\"To be honest, robots will\", do_sample=True, top_k=50, temperature=0.6, max_length=128, num_return_sequences=3)\n",
        "for sentence in sentences:\n",
        "  print(sentence[\"generated_text\"])\n",
        "  print(\"=\"*50)"
      ],
      "metadata": {
        "id": "M728ADGCYckd"
      },
      "execution_count": null,
      "outputs": []
    }
  ]
}