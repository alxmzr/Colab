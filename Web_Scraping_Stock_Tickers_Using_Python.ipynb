{
  "nbformat": 4,
  "nbformat_minor": 0,
  "metadata": {
    "colab": {
      "provenance": [],
      "authorship_tag": "ABX9TyMoNSYU1MEJRvGXvIW3NPMq",
      "include_colab_link": true
    },
    "kernelspec": {
      "name": "python3",
      "display_name": "Python 3"
    },
    "language_info": {
      "name": "python"
    }
  },
  "cells": [
    {
      "cell_type": "markdown",
      "metadata": {
        "id": "view-in-github",
        "colab_type": "text"
      },
      "source": [
        "<a href=\"https://colab.research.google.com/github/alxmzr/Colab/blob/main/Web_Scraping_Stock_Tickers_Using_Python.ipynb\" target=\"_parent\"><img src=\"https://colab.research.google.com/assets/colab-badge.svg\" alt=\"Open In Colab\"/></a>"
      ]
    },
    {
      "cell_type": "code",
      "metadata": {
        "id": "xLcylO98BQY3"
      },
      "source": [
        "import requests\n",
        "import pandas as pd\n",
        "from bs4 import BeautifulSoup"
      ],
      "execution_count": null,
      "outputs": []
    },
    {
      "cell_type": "code",
      "metadata": {
        "id": "dKj0wNJRBuyb"
      },
      "source": [
        "company_name = []\n",
        "company_ticker = []"
      ],
      "execution_count": null,
      "outputs": []
    },
    {
      "cell_type": "code",
      "metadata": {
        "id": "C-Py0LkWB4uH"
      },
      "source": [
        "def scrape_stock_symbols(Letter):\n",
        "  Letter = Letter.upper()\n",
        "  URL = 'https://advfn.com/nyse/newyorkstockexchange.asp?companies=' +Letter\n",
        "  page = requests.get(URL)\n",
        "  soup = BeautifulSoup(page.text, 'html.parser')\n",
        "  odd_rows = soup.find_all('tr', attrs={'class':'ts0'})\n",
        "  even_rows = soup.find_all('tr', attrs={'class':'ts1'})\n",
        "\n",
        "  for i in odd_rows:\n",
        "    row = i.find_all('td')\n",
        "    company_name.append(row[0].text.strip())\n",
        "    company_ticker.append(row[1].text.strip())\n",
        "\n",
        "  for i in even_rows:\n",
        "    row = i.find_all('td')\n",
        "    company_name.append(row[0].text.strip())\n",
        "    company_ticker.append(row[1].text.strip())\n",
        "\n",
        "  return (company_name, company_ticker)"
      ],
      "execution_count": null,
      "outputs": []
    },
    {
      "cell_type": "code",
      "metadata": {
        "id": "bDuZSOL9JVYq"
      },
      "source": [
        "(temp_name, temp_ticker) = scrape_stock_symbols('a')\n",
        "temp_name"
      ],
      "execution_count": null,
      "outputs": []
    },
    {
      "cell_type": "code",
      "metadata": {
        "id": "3UqaNDVeLt6m"
      },
      "source": [
        "import string\n",
        "string.ascii_uppercase\n",
        "\n",
        "for char in string.ascii_uppercase:\n",
        "  (temp_name, temp_ticker) = scrape_stock_symbols(char)"
      ],
      "execution_count": null,
      "outputs": []
    },
    {
      "cell_type": "code",
      "metadata": {
        "id": "i9Eh7DJRNG9K"
      },
      "source": [
        "temp_name"
      ],
      "execution_count": null,
      "outputs": []
    },
    {
      "cell_type": "code",
      "metadata": {
        "colab": {
          "base_uri": "https://localhost:8080/",
          "height": 417
        },
        "id": "dxTa9skFNnj7",
        "outputId": "b4046256-5c57-4e0c-a18a-9ec42ec29f47"
      },
      "source": [
        "data = pd.DataFrame(columns=['company_name', 'company_ticker'])\n",
        "data['company_name'] = temp_name\n",
        "data['company_ticker'] = temp_ticker\n",
        "data = data[data['company_name'] !='']\n",
        "data"
      ],
      "execution_count": null,
      "outputs": [
        {
          "output_type": "execute_result",
          "data": {
            "text/html": [
              "<div>\n",
              "<style scoped>\n",
              "    .dataframe tbody tr th:only-of-type {\n",
              "        vertical-align: middle;\n",
              "    }\n",
              "\n",
              "    .dataframe tbody tr th {\n",
              "        vertical-align: top;\n",
              "    }\n",
              "\n",
              "    .dataframe thead th {\n",
              "        text-align: right;\n",
              "    }\n",
              "</style>\n",
              "<table border=\"1\" class=\"dataframe\">\n",
              "  <thead>\n",
              "    <tr style=\"text-align: right;\">\n",
              "      <th></th>\n",
              "      <th>company_name</th>\n",
              "      <th>company_ticker</th>\n",
              "    </tr>\n",
              "  </thead>\n",
              "  <tbody>\n",
              "    <tr>\n",
              "      <th>0</th>\n",
              "      <td>A H Belo Corporation</td>\n",
              "      <td>AHC</td>\n",
              "    </tr>\n",
              "    <tr>\n",
              "      <th>1</th>\n",
              "      <td>AAR Corp</td>\n",
              "      <td>AIR</td>\n",
              "    </tr>\n",
              "    <tr>\n",
              "      <th>2</th>\n",
              "      <td>ABM Industries Inc</td>\n",
              "      <td>ABM</td>\n",
              "    </tr>\n",
              "    <tr>\n",
              "      <th>3</th>\n",
              "      <td>ADC Therapeutics SA</td>\n",
              "      <td>ADCT</td>\n",
              "    </tr>\n",
              "    <tr>\n",
              "      <th>4</th>\n",
              "      <td>AEABridges Impact Corp</td>\n",
              "      <td>IMPX.U</td>\n",
              "    </tr>\n",
              "    <tr>\n",
              "      <th>...</th>\n",
              "      <td>...</td>\n",
              "      <td>...</td>\n",
              "    </tr>\n",
              "    <tr>\n",
              "      <th>2497</th>\n",
              "      <td>Duff and Phelps Utilities and Cap Bond Trust</td>\n",
              "      <td>DUC</td>\n",
              "    </tr>\n",
              "    <tr>\n",
              "      <th>2498</th>\n",
              "      <td>Duke Energy Corp New</td>\n",
              "      <td>DUK</td>\n",
              "    </tr>\n",
              "    <tr>\n",
              "      <th>2499</th>\n",
              "      <td>Duke Realty Corporation</td>\n",
              "      <td>DRE</td>\n",
              "    </tr>\n",
              "    <tr>\n",
              "      <th>2500</th>\n",
              "      <td>Dycom Industries Inc</td>\n",
              "      <td>DY</td>\n",
              "    </tr>\n",
              "    <tr>\n",
              "      <th>2501</th>\n",
              "      <td>Dynex Capital Inc</td>\n",
              "      <td>DX</td>\n",
              "    </tr>\n",
              "  </tbody>\n",
              "</table>\n",
              "<p>2502 rows × 2 columns</p>\n",
              "</div>"
            ],
            "text/plain": [
              "                                      company_name company_ticker\n",
              "0                             A H Belo Corporation            AHC\n",
              "1                                         AAR Corp            AIR\n",
              "2                               ABM Industries Inc            ABM\n",
              "3                              ADC Therapeutics SA           ADCT\n",
              "4                           AEABridges Impact Corp         IMPX.U\n",
              "...                                            ...            ...\n",
              "2497  Duff and Phelps Utilities and Cap Bond Trust            DUC\n",
              "2498                          Duke Energy Corp New            DUK\n",
              "2499                       Duke Realty Corporation            DRE\n",
              "2500                          Dycom Industries Inc             DY\n",
              "2501                             Dynex Capital Inc             DX\n",
              "\n",
              "[2502 rows x 2 columns]"
            ]
          },
          "metadata": {
            "tags": []
          },
          "execution_count": 47
        }
      ]
    }
  ]
}