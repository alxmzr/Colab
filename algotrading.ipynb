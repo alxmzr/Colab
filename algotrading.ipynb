{
  "nbformat": 4,
  "nbformat_minor": 0,
  "metadata": {
    "colab": {
      "provenance": [],
      "authorship_tag": "ABX9TyOg640UrspB1c/ma3IqCfRv",
      "include_colab_link": true
    },
    "kernelspec": {
      "name": "python3",
      "display_name": "Python 3"
    },
    "language_info": {
      "name": "python"
    }
  },
  "cells": [
    {
      "cell_type": "markdown",
      "metadata": {
        "id": "view-in-github",
        "colab_type": "text"
      },
      "source": [
        "<a href=\"https://colab.research.google.com/github/alxmzr/Colab/blob/main/algotrading.ipynb\" target=\"_parent\"><img src=\"https://colab.research.google.com/assets/colab-badge.svg\" alt=\"Open In Colab\"/></a>"
      ]
    },
    {
      "cell_type": "code",
      "execution_count": null,
      "metadata": {
        "id": "OxkfW2JVvNIP"
      },
      "outputs": [],
      "source": [
        "import numpy as np\n",
        "import pandas as pd\n",
        "import yfinance as yf"
      ]
    },
    {
      "cell_type": "code",
      "source": [
        "class QuantGaloreData:\n",
        "    def __init__(self):\n",
        "        self.ticker = yf.Tickers('GPBUSD=X')\n",
        "        self.data = yf.download(tickers=('GBPUSD=X'),period='1mo',interval='1d',group_by='ticker',auto_adjust=True,prepost=False)\n",
        "        self.df = pd.DataFrame(self.data)\n",
        "        print(self.df.tail(1))\n",
        "\n",
        "    def find_z(self):\n",
        "        mean = self.df['Close'].mean()\n",
        "        z_from_mean = (self.df['Close'].tail(1) - mean) / np.std(self.df['Close'])\n",
        "        print(\"GPBUSD=X\",self.df['Close'].tail(1),z_from_mean)\n",
        "\n",
        "QGD = QuantGaloreData()\n",
        "QGD.find_z()"
      ],
      "metadata": {
        "colab": {
          "base_uri": "https://localhost:8080/"
        },
        "id": "HzetaOs_v0ju",
        "outputId": "c6560f23-5516-477b-8618-54a3af9647b5"
      },
      "execution_count": null,
      "outputs": [
        {
          "output_type": "stream",
          "name": "stdout",
          "text": [
            "\r[*********************100%***********************]  1 of 1 completed\n",
            "                Open      High      Low     Close  Volume\n",
            "Date                                                     \n",
            "2021-12-22  1.326612  1.335809  1.32389  1.335809       0\n",
            "GPBUSD=X Date\n",
            "2021-12-22    1.335809\n",
            "Name: Close, dtype: float64 Date\n",
            "2021-12-22    1.108866\n",
            "Name: Close, dtype: float64\n"
          ]
        }
      ]
    },
    {
      "cell_type": "code",
      "source": [
        "class QuantGaloreData:\n",
        "    def __init__(self):\n",
        "        self.ticker = yf.Tickers('GOGL')\n",
        "        self.data = yf.download(tickers=('GOGL'),period='1y',interval='1d',group_by='ticker',auto_adjust=True,prepost=False)\n",
        "        self.df = pd.DataFrame(self.data)\n",
        "        print(self.df.tail(1))\n",
        "\n",
        "    def find_z(self):\n",
        "        mean = self.df['Close'].mean()\n",
        "        z_from_mean = (self.df['Close'].tail(1) - mean) / np.std(self.df['Close'])\n",
        "        print(\"GOGL\",self.df['Close'].tail(1),z_from_mean)\n",
        "\n",
        "QGD = QuantGaloreData()\n",
        "QGD.find_z()"
      ],
      "metadata": {
        "colab": {
          "base_uri": "https://localhost:8080/"
        },
        "id": "R2Adp2h72yZF",
        "outputId": "d3abccb6-72fb-4620-fe88-6a3fb6cfacff"
      },
      "execution_count": null,
      "outputs": [
        {
          "output_type": "stream",
          "name": "stdout",
          "text": [
            "\r[*********************100%***********************]  1 of 1 completed\n",
            "            Open    High     Low  Close  Volume\n",
            "Date                                           \n",
            "2021-12-22  8.42  8.4812  8.3499   8.46  448529\n",
            "GOGL Date\n",
            "2021-12-22    8.46\n",
            "Name: Close, dtype: float64 Date\n",
            "2021-12-22    0.461913\n",
            "Name: Close, dtype: float64\n"
          ]
        }
      ]
    },
    {
      "cell_type": "code",
      "source": [
        "class QuantGaloreData:\n",
        "    def __init__(self):\n",
        "        self.ticker = yf.Tickers('BTC-USD')\n",
        "        self.data = yf.download(tickers=('BTC-USD'),period='1y',interval='1d',group_by='ticker',auto_adjust=True,prepost=False)\n",
        "        self.df = pd.DataFrame(self.data)\n",
        "        print(self.df.tail(1))\n",
        "\n",
        "    def find_z(self):\n",
        "        mean = self.df['Close'].mean()\n",
        "        z_from_mean = (self.df['Close'].tail(1) - mean) / np.std(self.df['Close'])\n",
        "        print(\"BTC-USD\",self.df['Close'].tail(1),z_from_mean)\n",
        "\n",
        "QGD = QuantGaloreData()\n",
        "QGD.find_z()"
      ],
      "metadata": {
        "colab": {
          "base_uri": "https://localhost:8080/"
        },
        "outputId": "efb9c9ec-bab3-4fdf-f78a-c0b9057ff1cb",
        "id": "akHitEcj3p-C"
      },
      "execution_count": null,
      "outputs": [
        {
          "output_type": "stream",
          "name": "stdout",
          "text": [
            "\r[*********************100%***********************]  1 of 1 completed\n",
            "                    Open          High           Low         Close       Volume\n",
            "Date                                                                           \n",
            "2021-12-22  48849.886719  49536.398438  48492.171875  48910.085938  24168632320\n",
            "BTC-USD Date\n",
            "2021-12-22    48910.085938\n",
            "Name: Close, dtype: float64 Date\n",
            "2021-12-22    0.202236\n",
            "Name: Close, dtype: float64\n"
          ]
        }
      ]
    },
    {
      "cell_type": "code",
      "source": [],
      "metadata": {
        "id": "D1NsCIBc4O54"
      },
      "execution_count": null,
      "outputs": []
    },
    {
      "cell_type": "code",
      "source": [
        "class QuantGaloreData:\n",
        "    def __init__(self):\n",
        "        self.ticker = yf.Tickers('GC=F')\n",
        "        self.data = yf.download(tickers=('GC=F'),period='1y',interval='1d',group_by='ticker',auto_adjust=True,prepost=False)\n",
        "        self.df = pd.DataFrame(self.data)\n",
        "        print(self.df.tail(1))\n",
        "\n",
        "    def find_z(self):\n",
        "        mean = self.df['Close'].mean()\n",
        "        z_from_mean = (self.df['Close'].tail(1) - mean) / np.std(self.df['Close'])\n",
        "        print(\"GC=F\",self.df['Close'].tail(1),z_from_mean)\n",
        "\n",
        "QGD = QuantGaloreData()\n",
        "QGD.find_z()"
      ],
      "metadata": {
        "colab": {
          "base_uri": "https://localhost:8080/"
        },
        "outputId": "809af3e8-be42-48ab-c205-351a1dc693af",
        "id": "2Tw9nDOv4PcP"
      },
      "execution_count": null,
      "outputs": [
        {
          "output_type": "stream",
          "name": "stdout",
          "text": [
            "\r[*********************100%***********************]  1 of 1 completed\n",
            "                   Open    High          Low        Close  Volume\n",
            "Date                                                             \n",
            "2021-12-22  1789.400024  1796.0  1785.800049  1795.699951   66463\n",
            "GC=F Date\n",
            "2021-12-22    1795.699951\n",
            "Name: Close, dtype: float64 Date\n",
            "2021-12-22   -0.075727\n",
            "Name: Close, dtype: float64\n"
          ]
        }
      ]
    },
    {
      "cell_type": "code",
      "source": [
        "class QuantGaloreData:\n",
        "    def __init__(self):\n",
        "        self.ticker = yf.Tickers('TSLA')\n",
        "        self.data = yf.download(tickers=('TSLA'),period='1y',interval='1d',group_by='ticker',auto_adjust=True,prepost=False)\n",
        "        self.df = pd.DataFrame(self.data)\n",
        "        print(self.df.tail(1))\n",
        "\n",
        "    def find_z(self):\n",
        "        mean = self.df['Close'].mean()\n",
        "        z_from_mean = (self.df['Close'].tail(1) - mean) / np.std(self.df['Close'])\n",
        "        print(\"TSLA\",self.df['Close'].tail(1),z_from_mean)\n",
        "\n",
        "QGD = QuantGaloreData()\n",
        "QGD.find_z()"
      ],
      "metadata": {
        "colab": {
          "base_uri": "https://localhost:8080/"
        },
        "id": "4Wi3BG7L4m_l",
        "outputId": "a76c06f1-14e8-4191-d494-4c8765b032aa"
      },
      "execution_count": null,
      "outputs": [
        {
          "output_type": "stream",
          "name": "stdout",
          "text": [
            "\r[*********************100%***********************]  1 of 1 completed\n",
            "                  Open         High         Low        Close    Volume\n",
            "Date                                                                  \n",
            "2021-12-22  965.659973  1005.343018  957.049988  1003.090027  13514876\n",
            "TSLA Date\n",
            "2021-12-22    1003.090027\n",
            "Name: Close, dtype: float64 Date\n",
            "2021-12-22    1.507758\n",
            "Name: Close, dtype: float64\n"
          ]
        }
      ]
    },
    {
      "cell_type": "code",
      "source": [
        "class QuantGaloreData:\n",
        "    def __init__(self):\n",
        "        self.ticker = yf.Tickers('JPY=X')\n",
        "        self.data = yf.download(tickers=('JPY=X'),period='1mo',interval='1d',group_by='ticker',auto_adjust=True,prepost=False)\n",
        "        self.df = pd.DataFrame(self.data)\n",
        "        print(self.df.tail(1))\n",
        "\n",
        "    def find_z(self):\n",
        "        mean = self.df['Close'].mean()\n",
        "        z_from_mean = (self.df['Close'].tail(1) - mean) / np.std(self.df['Close'])\n",
        "        print(\"JPY=X\",self.df['Close'].tail(1),z_from_mean)\n",
        "\n",
        "QGD = QuantGaloreData()\n",
        "QGD.find_z()"
      ],
      "metadata": {
        "colab": {
          "base_uri": "https://localhost:8080/"
        },
        "id": "PnlrSK7E5EyP",
        "outputId": "fe520e5e-c641-4351-a852-45b981056436"
      },
      "execution_count": null,
      "outputs": [
        {
          "output_type": "stream",
          "name": "stdout",
          "text": [
            "\r[*********************100%***********************]  1 of 1 completed\n",
            "                  Open        High         Low       Close  Volume\n",
            "Date                                                              \n",
            "2021-12-22  114.081001  114.372002  113.919998  114.181999       0\n",
            "JPY=X Date\n",
            "2021-12-22    114.181999\n",
            "Name: Close, dtype: float64 Date\n",
            "2021-12-22    0.508293\n",
            "Name: Close, dtype: float64\n"
          ]
        }
      ]
    },
    {
      "cell_type": "code",
      "source": [
        "class QuantGaloreData:\n",
        "    def __init__(self):\n",
        "        self.ticker = yf.Tickers('GBPUSD=X')\n",
        "        self.data = yf.download(tickers=('GBPUSD=X'),period='1mo',interval='1d',group_by='ticker',auto_adjust=True,prepost=False)\n",
        "        self.df = pd.DataFrame(self.data)\n",
        "        print(self.df.tail(1))\n",
        "\n",
        "    def find_z(self):\n",
        "        mean = self.df['Close'].mean()\n",
        "        z_from_mean = (self.df['Close'].tail(1) - mean) / np.std(self.df['Close'])\n",
        "        print(\"GBPUSD=X\",self.df['Close'].tail(1),z_from_mean)\n",
        "\n",
        "QGD = QuantGaloreData()\n",
        "QGD.find_z()"
      ],
      "metadata": {
        "colab": {
          "base_uri": "https://localhost:8080/"
        },
        "id": "BCd0Ali66522",
        "outputId": "adfbd32e-ad7e-4a20-8275-fa837e09352a"
      },
      "execution_count": null,
      "outputs": [
        {
          "output_type": "stream",
          "name": "stdout",
          "text": [
            "\r[*********************100%***********************]  1 of 1 completed\n",
            "                Open      High      Low     Close  Volume\n",
            "Date                                                     \n",
            "2021-12-22  1.326612  1.335702  1.32389  1.335559       0\n",
            "GBPUSD=X Date\n",
            "2021-12-22    1.335559\n",
            "Name: Close, dtype: float64 Date\n",
            "2021-12-22    1.072459\n",
            "Name: Close, dtype: float64\n"
          ]
        }
      ]
    }
  ]
}