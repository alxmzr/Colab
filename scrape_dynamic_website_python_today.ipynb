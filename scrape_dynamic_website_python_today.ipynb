{
  "nbformat": 4,
  "nbformat_minor": 0,
  "metadata": {
    "colab": {
      "provenance": [],
      "authorship_tag": "ABX9TyO/NfNj5MqyuPVxzV8+fgFo",
      "include_colab_link": true
    },
    "kernelspec": {
      "name": "python3",
      "display_name": "Python 3"
    },
    "language_info": {
      "name": "python"
    }
  },
  "cells": [
    {
      "cell_type": "markdown",
      "metadata": {
        "id": "view-in-github",
        "colab_type": "text"
      },
      "source": [
        "<a href=\"https://colab.research.google.com/github/alxmzr/Colab/blob/main/scrape_dynamic_website_python_today.ipynb\" target=\"_parent\"><img src=\"https://colab.research.google.com/assets/colab-badge.svg\" alt=\"Open In Colab\"/></a>"
      ]
    },
    {
      "cell_type": "code",
      "metadata": {
        "id": "mkPggOLmRfAH"
      },
      "source": [
        "import requests\n",
        "from bs4 import BeautifulSoup"
      ],
      "execution_count": null,
      "outputs": []
    },
    {
      "cell_type": "code",
      "metadata": {
        "id": "O7QpnftXR_el"
      },
      "source": [
        "def get_data(url):\n",
        "  headers = {\n",
        "      \"user-agent\": \"Mozilla/5.0 (Windows NT 10.0; Win64; x64) AppleWebKit/537.36 (KHTML, like Gecko) Chrome/91.0.4472.124 Safari/537.36\"\n",
        "      }\n",
        "  req = requests.get(url, headers)\n",
        "  with open('projects.html') as file:\n",
        "    file.write(req.text)\n",
        "\n",
        "  # with open('projects.html') as file:\n",
        "  #   src = file.read()"
      ],
      "execution_count": null,
      "outputs": []
    },
    {
      "cell_type": "code",
      "metadata": {
        "id": "zGxjDhZuWviT"
      },
      "source": [
        "# soup = BeautifulSoup(src, \"lxml\")"
      ],
      "execution_count": null,
      "outputs": []
    },
    {
      "cell_type": "code",
      "metadata": {
        "id": "_2jNbOD0SwhY"
      },
      "source": [
        "get_data(\"http://www.edutainme.ru/edindex/\")"
      ],
      "execution_count": null,
      "outputs": []
    }
  ]
}